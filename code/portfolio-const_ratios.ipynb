{
 "cells": [
  {
   "cell_type": "code",
   "execution_count": 20,
   "metadata": {},
   "outputs": [],
   "source": [
    "import yfinance as yf\n",
    "import pandas as pd\n",
    "import numpy as np\n",
    "import random\n",
    "import pickle"
   ]
  },
  {
   "cell_type": "code",
   "execution_count": 2,
   "metadata": {},
   "outputs": [],
   "source": [
    "%matplotlib inline\n",
    "import quantstats as qs\n",
    "qs.extend_pandas()"
   ]
  },
  {
   "cell_type": "code",
   "execution_count": 3,
   "metadata": {},
   "outputs": [],
   "source": [
    "industry_stocks = {'Materials': ['BHP.AX',\n",
    "  'FMG.AX',\n",
    "  'RIO.AX',\n",
    "  'NCM.AX',\n",
    "  'JHX.AX',\n",
    "  'S32.AX',\n",
    "  'AMC.AX',\n",
    "  'NST.AX',\n",
    "  'BSL.AX'],\n",
    " 'Real Estate': ['GMG.AX', 'SCG.AX', 'MGR.AX', 'DXS.AX', 'SGP.AX'],\n",
    " 'Financials': ['CBA.AX',\n",
    "  'WBC.AX',\n",
    "  'NAB.AX',\n",
    "  'ANZ.AX',\n",
    "  'MQG.AX',\n",
    "  'QBE.AX',\n",
    "  'ASX.AX',\n",
    "  'SUN.AX',\n",
    "  'IAG.AX'],\n",
    " 'Industrials': ['TCL.AX', 'SYD.AX', 'BXB.AX', 'REH.AX', 'AIA.AX'],\n",
    " 'Health Care': ['CSL.AX', 'SHL.AX', 'FPH.AX', 'COH.AX', 'RHC.AX', 'RMD.AX'],\n",
    " 'Information Technology': ['APT.AX', 'XRO.AX', 'CPU.AX']}"
   ]
  },
  {
   "cell_type": "code",
   "execution_count": 4,
   "metadata": {},
   "outputs": [],
   "source": [
    "stock_list =[]\n",
    "for ind in industry_stocks.values():\n",
    "    stock_list.extend(ind)"
   ]
  },
  {
   "cell_type": "code",
   "execution_count": 6,
   "metadata": {},
   "outputs": [],
   "source": [
    "stock_dr = {}\n",
    "# fetch the daily returns for each stock\n",
    "for stock in stock_list:\n",
    "    stock_dr[stock] = qs.utils.download_returns(stock)"
   ]
  },
  {
   "cell_type": "code",
   "execution_count": 7,
   "metadata": {},
   "outputs": [],
   "source": [
    "df_ratios= pd.DataFrame(index=stock_list)\n",
    "for tick, stock in stock_dr.items():\n",
    "    df_ratios.loc[tick,'sharpe'] = stock.sharpe()\n",
    "    df_ratios.loc[tick,'common_sense_ratio']  = stock.common_sense_ratio()\n",
    "    df_ratios.loc[tick,'conditional_value_at_risk']  = stock.conditional_value_at_risk()\n",
    "    df_ratios.loc[tick,'expected_return'] = stock.expected_return()\n",
    "    df_ratios.loc[tick,'kelly_criterion'] = stock.kelly_criterion()\n",
    "    df_ratios.loc[tick,'kurtosis'] = stock.kurtosis()\n",
    "    df_ratios.loc[tick,'volatility'] = stock.volatility()\n",
    "    df_ratios.loc[tick,'avg_return'] = stock.avg_return()\n",
    "    #df_ratios.loc[tick,'risk_of_ruin'] = stock.risk_of_ruin()\n",
    "    df_ratios.loc[tick,'sortino'] = stock.sortino()\n",
    "    df_ratios.loc[tick,'volatility'] = stock.volatility()\n",
    "    df_ratios.loc[tick,'profit_factor'] = stock.profit_factor()\n",
    "    \n"
   ]
  },
  {
   "source": [
    "* 'sharpe' - greater better\n",
    "* 'common_sense_ratio' -  Above 1: make money\n",
    "* 'conditional_value_at_risk' - lower\n",
    "* 'expected_return' - higher\n",
    "* 'kelly_criterion' - 0.05 take a 5% position \n",
    "* 'kurtosis' - high - occasional higher\n",
    "* 'volatility' - lower\n",
    "* 'avg_return' - higher\n",
    "* 'risk_of_ruin' - lower\n",
    "* 'sortino' - greater better\n",
    "* 'volatility' - lower\n",
    "* profit_factor  - higher better"
   ],
   "cell_type": "markdown",
   "metadata": {}
  },
  {
   "cell_type": "code",
   "execution_count": 8,
   "metadata": {},
   "outputs": [],
   "source": [
    "ratio_def= {'sharpe' : \"higher\",\n",
    "'common_sense_ratio' :  \"Above 1\",\n",
    "'conditional_value_at_risk' :  \"lower\",\n",
    "'expected_return' :  \"higher\",\n",
    "'kelly_criterion' :  \"position size\",\n",
    "'kurtosis' :  \"low\",\n",
    "'volatility' :  \"lower\",\n",
    "'avg_return' :  \"higher\",\n",
    "'sortino' :  \"higher\",\n",
    "'volatility' :  \"lower\",\n",
    "'profit_factor' :  'higher' }"
   ]
  },
  {
   "cell_type": "code",
   "execution_count": 9,
   "metadata": {},
   "outputs": [
    {
     "output_type": "execute_result",
     "data": {
      "text/plain": [
       "Index(['sharpe', 'common_sense_ratio', 'conditional_value_at_risk',\n",
       "       'expected_return', 'kelly_criterion', 'kurtosis', 'volatility',\n",
       "       'avg_return', 'sortino', 'profit_factor'],\n",
       "      dtype='object')"
      ]
     },
     "metadata": {},
     "execution_count": 9
    }
   ],
   "source": [
    "df_ratios.columns"
   ]
  },
  {
   "cell_type": "code",
   "execution_count": 10,
   "metadata": {},
   "outputs": [],
   "source": [
    "#df_sorted_ratios = pd.DataFrame(np.sort(df_ratios.values, axis=0), index=df_ratios.index, columns=df_ratios.columns)"
   ]
  },
  {
   "cell_type": "code",
   "execution_count": 11,
   "metadata": {},
   "outputs": [],
   "source": [
    "#df_sorted_ratios[df_sorted_ratios[\"common_sense_ratio\"] > 1]"
   ]
  },
  {
   "cell_type": "code",
   "execution_count": 13,
   "metadata": {},
   "outputs": [],
   "source": [
    "dict_ratio_stocks= {}\n",
    "dict_ratio_stocks2= {}\n",
    "for col in df_ratios.columns:\n",
    "    df_sorted= df_ratios.sort_values(by=[col])\n",
    "    if ratio_def[col] == \"higher\":\n",
    "        dict_ratio_stocks[col] = df_sorted[col].tail(10)\n",
    "    elif ratio_def[col] == \"lower\":\n",
    "         dict_ratio_stocks[col] = df_sorted[col].head(10)\n",
    "    elif col == \"common_sense_ratio\":\n",
    "         dict_ratio_stocks[col] = df_sorted[df_sorted[col] > 1]['common_sense_ratio'].tail(10)\n",
    "\n"
   ]
  },
  {
   "cell_type": "code",
   "execution_count": 14,
   "metadata": {},
   "outputs": [],
   "source": [
    "all_portfolio =[]\n",
    "for ratio in dict_ratio_stocks.keys():\n",
    "    tickers= dict_ratio_stocks[ratio].index.to_list()\n",
    "    all_portfolio.extend(tickers)"
   ]
  },
  {
   "cell_type": "code",
   "execution_count": 15,
   "metadata": {},
   "outputs": [],
   "source": [
    "set_port2 = set(all_portfolio)"
   ]
  },
  {
   "cell_type": "code",
   "execution_count": 16,
   "metadata": {},
   "outputs": [
    {
     "output_type": "execute_result",
     "data": {
      "text/plain": [
       "28"
      ]
     },
     "metadata": {},
     "execution_count": 16
    }
   ],
   "source": [
    "len(set_port2)"
   ]
  },
  {
   "cell_type": "code",
   "execution_count": 17,
   "metadata": {},
   "outputs": [],
   "source": [
    "ratio_based_port = df_ratios.loc[set_port2].sort_values(by=\"kelly_criterion\",ascending=False).head(8).index.to_list()"
   ]
  },
  {
   "cell_type": "code",
   "execution_count": 18,
   "metadata": {},
   "outputs": [
    {
     "output_type": "execute_result",
     "data": {
      "text/plain": [
       "['APT.AX',\n",
       " 'REH.AX',\n",
       " 'XRO.AX',\n",
       " 'CSL.AX',\n",
       " 'FMG.AX',\n",
       " 'AIA.AX',\n",
       " 'CBA.AX',\n",
       " 'COH.AX']"
      ]
     },
     "metadata": {},
     "execution_count": 18
    }
   ],
   "source": [
    "ratio_based_port"
   ]
  },
  {
   "cell_type": "code",
   "execution_count": 22,
   "metadata": {},
   "outputs": [],
   "source": [
    "with open('./data/pickles/ratio_based_port.pickle', 'wb') as handle:\n",
    "    pickle.dump(ratio_based_port, handle, protocol=pickle.HIGHEST_PROTOCOL)"
   ]
  },
  {
   "cell_type": "code",
   "execution_count": null,
   "metadata": {},
   "outputs": [],
   "source": []
  }
 ],
 "metadata": {
  "kernelspec": {
   "name": "python3810jvsc74a57bd071ac64b6f72117e9ac7f0856a78eddd129ae92f169e8cc90f85528fe0ec87ad9",
   "display_name": "Python 3.8.10 64-bit ('algotrading': conda)"
  },
  "language_info": {
   "codemirror_mode": {
    "name": "ipython",
    "version": 3
   },
   "file_extension": ".py",
   "mimetype": "text/x-python",
   "name": "python",
   "nbconvert_exporter": "python",
   "pygments_lexer": "ipython3",
   "version": "3.8.10"
  }
 },
 "nbformat": 4,
 "nbformat_minor": 4
}