{
 "metadata": {
  "language_info": {
   "codemirror_mode": {
    "name": "ipython",
    "version": 3
   },
   "file_extension": ".py",
   "mimetype": "text/x-python",
   "name": "python",
   "nbconvert_exporter": "python",
   "pygments_lexer": "ipython3",
   "version": "3.8.10"
  },
  "orig_nbformat": 2,
  "kernelspec": {
   "name": "python3810jvsc74a57bd071ac64b6f72117e9ac7f0856a78eddd129ae92f169e8cc90f85528fe0ec87ad9",
   "display_name": "Python 3.8.10 64-bit ('algotrading': conda)"
  }
 },
 "nbformat": 4,
 "nbformat_minor": 2,
 "cells": [
  {
   "cell_type": "code",
   "execution_count": 2,
   "metadata": {},
   "outputs": [],
   "source": [
    "import pandas as pd\n",
    "import pandasdmx \n",
    "import requests as rq\n",
    "import re"
   ]
  },
  {
   "cell_type": "code",
   "execution_count": 2,
   "metadata": {},
   "outputs": [],
   "source": [
    "#from mt_stuff import dict_OECD_indicators"
   ]
  },
  {
   "cell_type": "code",
   "execution_count": 3,
   "metadata": {},
   "outputs": [],
   "source": [
    "economic_activities = [\n",
    "    'PIEAMP02',\n",
    "    'PIEAMP01',\n",
    "    'PIEATI02',\n",
    "    'PIEATI01',\n",
    "    'PIEAMI02',\n",
    "    'PIEAMI01',\n",
    "    'PIEAFD02',\n",
    "    'PIEAFD01',\n",
    "    'PIEAEN02',\n",
    "    'PIEAEN01',\n",
    "]\n",
    "\n",
    "# 'PIEAMP02': 'Economic activities - Domestic producer prices - Manufacturing',\n",
    "# 'PIEAMP01': 'Economic activities - Total producer prices - Manufacturing',\n",
    "# 'PIEATI02': 'Economic activities - Domestic producer prices - Industrial Activities',\n",
    "# 'PIEATI01': 'Economic activities - Total producer prices - Industrial Activities',\n",
    "# 'PIEAMI02': 'Economic activities - Domestic Producer prices - Mining and quarrying activities',\n",
    "# 'PIEAMI01': 'Economic activities - Total Producer prices - Mining and quarrying activities',\n",
    "# 'PIEAFD02': 'Economic activities - Domestic Producer prices - Manufacture of food products',\n",
    "# 'PIEAFD01': 'Economic activities - Total Producer prices - Manufacture of food products',\n",
    "# 'PIEAEN02': 'Economic activities - Domestic Producer prices - Energy',\n",
    "# 'PIEAEN01': 'Economic activities - Total Producer prices - Energy',"
   ]
  },
  {
   "cell_type": "code",
   "execution_count": 4,
   "metadata": {},
   "outputs": [],
   "source": [
    "dict_OECD_indicators = {\n",
    "\n",
    "    # B6BLTT01 - current account balance\n",
    "    'Balance_of_payments': {\n",
    "        'dbname':  \"MEI_BOP6\",\n",
    "        'query': [\"B6BLTT01\", \"AUS\", \"CXCUSA\", \"Q\"]\n",
    "        \n",
    "    },\n",
    "\n",
    "    'Business_tendency_and_consumer_opinion_surveys': {\n",
    "        'dbname': \"MEI_BTS_COS\",\n",
    "        # SUBJECT', 'LOCATION', 'MEASURE', 'FREQUENCY', 'TIME_PERIOD'\n",
    "        'query': [\"BSCI\", \"AUS\", \"BLSA\", \"Q\"]\n",
    "    },\n",
    "    'Composite_leading_indicators':\n",
    "    {\n",
    "        'dbname': \"MEI_CLI\",\n",
    "        # CSCICP03 OECD Standardised CCI, Consumner confidenceAmplitude adjusted (Long term average=100), sa\"\n",
    "        # LORSGPOR_IXOBSA \"Original, seasonally adjusted (GDP)\"\n",
    "        # LOLITONO name: \"Normalised (CLI) name: \"Composite Leading Indicator (CLI)\"\n",
    "        #     ('LORSGPTD', 'ZAF', 'M', '2020-11')],\n",
    "        # 'BSCICP03': 'OECD Standardised BCI, Amplitude adjusted (Long term average=100), sa',\n",
    "        # ['SUBJECT', 'LOCATION', 'FREQUENCY', 'TIME_PERIOD']\n",
    "        # cli_indicators=['CSCICP03','LORSGPOR_IXOBSA','LOLITONO','BSCICP03']\n",
    "        # only one is quaterly\n",
    "        # cli_series.loc[cli_indicators,\"AUS\",\"Q\"]\n",
    "        'query': ['LORSGPOR_IXOBSA', 'AUS', \"Q\"]\n",
    "    },\n",
    "\n",
    "\n",
    "    'Financial_statistics': {\n",
    "        'dbname': \"MEI_FIN\",\n",
    "\n",
    "        # 'SP': 'Share Prices, Index',\n",
    "        # Look at exchange rates if time permits\n",
    "        \n",
    "        'query': [[\"SP\", \"AUS\", 'Q'], [\"IRLT\", \"AUS\", 'Q']],\n",
    "        'names' : ['share_price_index', 'Long-term interest rates']\n",
    "        # Long-term interest rates, Per cent per annum\"\n",
    "        # mei_series.loc[\"IRLT\",\"AUS\",'Q']\n",
    "    },\n",
    "    'Industry': {\n",
    "        'dbname': \"MEI_REAL\",\n",
    "        # 'SUBJECT', 'LOCATION', 'FREQUENCY', 'TIME_PERIOD']\n",
    "        # 'Production of total industry sa, Index'\n",
    "        'query': [\"PRINTO01\", 'AUS', 'Q']\n",
    "    },\n",
    "    'International_trade': {\n",
    "        'dbname': \"MEI_TRD\",\n",
    "        # measure CXMLSA \"US-Dollar converted, Seasonally adjusted\" Measure\n",
    "        'query': [\"XTNTVA01\", 'AUS', \"CXMLSA\", \"Q\"]\n",
    "    },\n",
    "    'Labour_market_statistics': {\n",
    "        'dbname': \"STLABOUR\",\n",
    "        # names=['LOCATION', 'SUBJECT', 'MEASURE', 'FREQUENCY', 'TIME_PERIOD']\n",
    "        'query': [\"AUS\", 'LREM64TT', 'STSA', 'Q']\n",
    "    },\n",
    "\n",
    "\n",
    "    'Consumer_price_indices': {\n",
    "        'dbname': \"PRICES_CPI\",\n",
    "        # CPALTT01\n",
    "        #['LOCATION', 'SUBJECT', 'MEASURE', 'FREQUENCY', 'TIME_PERIOD']\n",
    "        # id: \"GP\" name: \"Percentage change from previous period\"\n",
    "        'query': ['AUS', 'CPALTT01', 'GP', 'Q'],\n",
    "    },\n",
    "   # 'Producer_price_indices': {\n",
    "   #     'dbname': \"MEI_PRICES_PPI\",\n",
    "   #     # measure available GP - percentatge change from previous perios\n",
    "   #     # ['SUBJECT', 'LOCATION', 'MEASURE', 'FREQUENCY', 'TIME_PERIOD'\n",
    "   #     'query': [economic_activities, 'AUS', 'GP', 'Q']\n",
    "   # },\n",
    "    'Purchasing_power_parities': {\n",
    "        'dbname': \"PPPGDP\",\n",
    "        #['INDIC', 'LOCATION', 'TIME_PERIOD']\n",
    "        # Purchasing Power Parities for GDP PPPGDP\n",
    "        'query': [[\"PPP\", \"AUS\"], [\"CPL\", \"AUS\"]],\n",
    "        'names' : ['Purchasing_Power_Parities', 'Comparative_Price_Levels']\n",
    "        # 'CPL': 'Comparative Price Levels',\n",
    "\n",
    "    },\n",
    "  #  'Comparative_price_level': {\n",
    "  #          # COMPARISON METRIC NOT REQUIRED\n",
    "  #          'dbname':   \"CPL\",\n",
    "  #          # these are monthly values\n",
    "  #          # PRINTO01\n",
    "  #          # ['INDIC', 'LOCATION', 'CPL_COUNTRY', 'TIME_PERIOD'], length=1444)\n",
    "  #          'query': [\"CPL\", \"AUS\", \"USA\"]\n",
    "  # },\n",
    "    'Quarterly_national_accounts': {\n",
    "            'dbname': \"QNA\",\n",
    "            # dict_values[\"PRINTO01\"]\n",
    "\n",
    "            # ['LOCATION', 'SUBJECT', 'MEASURE', 'FREQUENCY', 'TIME_PERIOD'\n",
    "            # 'US dollars, volume estimates, fixed PPPs, OECD reference year, annual levels, seasonally adjusted\n",
    "            'query': [\"AUS\", 'B1_GE', \"VOBARSA\", \"Q\"]\n",
    "    },\n",
    "}"
   ]
  },
  {
   "cell_type": "code",
   "execution_count": 3,
   "metadata": {},
   "outputs": [],
   "source": [
    "#stru = getOECDStructure(dsname=\"MEI_BOP6\")"
   ]
  },
  {
   "cell_type": "code",
   "execution_count": 5,
   "metadata": {},
   "outputs": [],
   "source": [
    "def getOECDStructure(dsname, root_dir = 'http://stats.oecd.org/SDMX-JSON/dataflow'):\n",
    "    \n",
    "    \"\"\"\n",
    "    Check structure of OECD dataset.\n",
    "    \n",
    "    Parameters\n",
    "    -----\n",
    "    dsname: str\n",
    "        dataset identifier (e.g., MEI for main economic indicators)\n",
    "    root_dir: str\n",
    "        default OECD API structure uri\n",
    "    showValues: list\n",
    "        shows available values of specified variable, accepts list of integers\n",
    "        which mark position of variable of interest (e.g. 0 for LOCATION)\n",
    "          \n",
    "    Returns\n",
    "    -----\n",
    "    results: list\n",
    "        list of dictionaries with observations parsed from JSON object, \n",
    "        \n",
    "    \"\"\" \n",
    "    \n",
    "    url = root_dir + '/' + dsname + '/all'\n",
    "    \n",
    "    print('Requesting URL ' + url)\n",
    "    \n",
    "    response = rq.get(url = url)\n",
    "    \n",
    "    if (response.status_code == 200):\n",
    "        \n",
    "        responseJson = response.json()\n",
    "        \n",
    "        return responseJson\n",
    "        \n",
    "    else:\n",
    "        \n",
    "        print('\\nError: %s' % response.status_code)"
   ]
  },
  {
   "cell_type": "code",
   "execution_count": 7,
   "metadata": {},
   "outputs": [],
   "source": [
    "oecd = pandasdmx.Request('OECD')"
   ]
  },
  {
   "cell_type": "code",
   "execution_count": null,
   "metadata": {},
   "outputs": [],
   "source": []
  },
  {
   "cell_type": "code",
   "execution_count": 9,
   "metadata": {},
   "outputs": [
    {
     "output_type": "execute_result",
     "data": {
      "text/plain": [
       "['-Q1', '-Q2', '-Q3', '-Q4']"
      ]
     },
     "metadata": {},
     "execution_count": 9
    }
   ],
   "source": [
    "# TODO: check for other data where not required\n",
    "quarters = [ f'-Q{i}' for i in range(1,5)]\n",
    "quarters"
   ]
  },
  {
   "cell_type": "code",
   "execution_count": 11,
   "metadata": {},
   "outputs": [
    {
     "output_type": "stream",
     "name": "stdout",
     "text": [
      " ['SP', 'AUS', 'Q'] -->\n",
      " ['IRLT', 'AUS', 'Q'] -->\n",
      " ['PPP', 'AUS'] -->\n",
      " ['CPL', 'AUS'] -->\n"
     ]
    }
   ],
   "source": [
    "country ='AUS' # Country-CODE # UK , USA \n",
    "freq='Q'\n",
    "startYear = 2000 \n",
    "series_list = []\n",
    "for k, v in dict_OECD_indicators.items():\n",
    "    dbname = v['dbname']\n",
    "    query_def = v['query']\n",
    "    name = k\n",
    "    #print(f\"query_def -->{query_def}\")\n",
    "    data_response = oecd.data(resource_id=dbname, key=f'all?startTime={startYear}')\n",
    "    data_series= data_response.to_pandas()\n",
    "    if dbname == \"MEI_PRICES_PPI\":\n",
    "        ## this may not behave well as different countries publish different indicators\n",
    "        print(f\"All countries not reporting same metrics for -->{dbmane} -- Producer Prices Not used in computation\")\n",
    "        #indicators = query_def[0]\n",
    "        #print(f\"Indicators -->{indicators}\")\n",
    "        #print()\n",
    "        #for indi in indicators:\n",
    "        #    query_def[0] = indi\n",
    "        #    query= [str(item).replace('AUS', country) for item in query_def]\n",
    "        #    query= [str(item).replace('Q', freq) for item in query]\n",
    "        #    print(f\" {query} -->\")\n",
    "        #    series_data = data_series.loc[tuple(query)]\n",
    "        #    series_list.append(series_data)\n",
    "\n",
    "    elif type(query_def[0]) == list:\n",
    "        for arr in query_def:\n",
    "            index = query_def.index(arr)\n",
    "            col_name = f'{name}_{v[\"names\"][index]}'\n",
    "            query= [str(item).replace('AUS', country) for item in arr]\n",
    "            query= [str(item).replace('Q', freq) for item in query]\n",
    "            print(f\" {query} -->\")\n",
    "            series_data = data_series.loc[tuple(query)]\n",
    "            if   dbname == 'PPPGDP' :\n",
    "                # change to quarters from annual\n",
    "                dict_new_series= {}\n",
    "                for t in series_data.index:\n",
    "                    for q in quarters:\n",
    "                        new_index = [t + q for q in quarters]\n",
    "                        dict_new_series[t+q]= (series_data.loc[t] / 4 ) \n",
    "                series_data = pd.Series(dict_new_series)\n",
    "                series_data.name = col_name\n",
    "\n",
    "            else: \n",
    "                series_data.name = col_name\n",
    "                series_list.append(series_data)            \n",
    "    \n",
    "\n",
    "    else:\n",
    "        query= [str(item).replace('AUS', country) for item in query_def]\n",
    "        query= [str(item).replace('Q', freq) for item in query]\n",
    "        #query= [w.replace('Q', freq) for w in query]\n",
    "        #print(f'{len(query)} ---> {query}')\n",
    "        #print(query)\n",
    "        series_data= data_series.loc[tuple(query)]\n",
    "        series_data.name = name\n",
    "        series_list.append(series_data)\n",
    "        #print(series_test)\n",
    "\n",
    "\n",
    "    #id is the indicator name \n",
    "    #for key in val:\n",
    "        #dbname = val[dbname]\n",
    "     #print(f'Key : {key} --> Val {val[key]}')\n",
    "     #One get the data\n",
    "     #data = oecd.data(resource_id=dsname, key=f'all?startTime={startYear}')\n",
    "     #Analyse the data"
   ]
  },
  {
   "cell_type": "code",
   "execution_count": 13,
   "metadata": {},
   "outputs": [],
   "source": [
    "df_all_indicators = pd.concat(series_list,axis=1)"
   ]
  },
  {
   "cell_type": "code",
   "execution_count": 14,
   "metadata": {},
   "outputs": [
    {
     "output_type": "execute_result",
     "data": {
      "text/plain": [
       "             Balance_of_payments  \\\n",
       "TIME_PERIOD                        \n",
       "2000-Q1                -5137.081   \n",
       "2000-Q2                -4915.593   \n",
       "2000-Q3                -3290.672   \n",
       "2000-Q4                -3131.326   \n",
       "2001-Q1                -2248.219   \n",
       "...                          ...   \n",
       "2020-Q1                 4550.063   \n",
       "2020-Q2                10804.130   \n",
       "2020-Q3                 7560.197   \n",
       "2020-Q4                11689.750   \n",
       "2021-Q1                14131.750   \n",
       "\n",
       "             Business_tendency_and_consumer_opinion_surveys  \\\n",
       "TIME_PERIOD                                                   \n",
       "2000-Q1                                           12.934080   \n",
       "2000-Q2                                            7.188005   \n",
       "2000-Q3                                            8.206771   \n",
       "2000-Q4                                          -10.157550   \n",
       "2001-Q1                                           -6.817195   \n",
       "...                                                     ...   \n",
       "2020-Q1                                           -1.000000   \n",
       "2020-Q2                                          -14.000000   \n",
       "2020-Q3                                            2.333333   \n",
       "2020-Q4                                           20.333330   \n",
       "2021-Q1                                           21.000000   \n",
       "\n",
       "             Composite_leading_indicators  \\\n",
       "TIME_PERIOD                                 \n",
       "2000-Q1                          64.16375   \n",
       "2000-Q2                          64.75610   \n",
       "2000-Q3                          64.88159   \n",
       "2000-Q4                          64.63844   \n",
       "2001-Q1                          65.29521   \n",
       "...                                   ...   \n",
       "2020-Q1                         110.87390   \n",
       "2020-Q2                         103.10910   \n",
       "2020-Q3                         106.61850   \n",
       "2020-Q4                         109.95320   \n",
       "2021-Q1                               NaN   \n",
       "\n",
       "             Financial_statistics_share_price_index  \\\n",
       "TIME_PERIOD                                           \n",
       "2000-Q1                                    57.14708   \n",
       "2000-Q2                                    56.61853   \n",
       "2000-Q3                                    60.17802   \n",
       "2000-Q4                                    59.63087   \n",
       "2001-Q1                                    59.79416   \n",
       "...                                             ...   \n",
       "2020-Q1                                   117.48830   \n",
       "2020-Q2                                   101.68970   \n",
       "2020-Q3                                   109.36950   \n",
       "2020-Q4                                   116.20530   \n",
       "2021-Q1                                   123.18310   \n",
       "\n",
       "             Financial_statistics_Long-term interest rates   Industry  \\\n",
       "TIME_PERIOD                                                             \n",
       "2000-Q1                                           6.901983   71.74657   \n",
       "2000-Q2                                           6.300913   72.05145   \n",
       "2000-Q3                                           6.175162   73.01106   \n",
       "2000-Q4                                           5.880219   73.32154   \n",
       "2001-Q1                                           5.285803   73.00371   \n",
       "...                                                    ...        ...   \n",
       "2020-Q1                                           1.006667  111.62420   \n",
       "2020-Q2                                           0.896667  108.57980   \n",
       "2020-Q3                                           0.890000  108.65250   \n",
       "2020-Q4                                           0.890000  108.58120   \n",
       "2021-Q1                                           1.353333  109.85670   \n",
       "\n",
       "             International_trade  Labour_market_statistics  \\\n",
       "TIME_PERIOD                                                  \n",
       "2000-Q1                -1.609661                  68.51615   \n",
       "2000-Q2                -1.704450                  69.11356   \n",
       "2000-Q3                -0.838502                  69.65662   \n",
       "2000-Q4                 0.025222                  69.05394   \n",
       "2001-Q1                 0.459063                  68.90128   \n",
       "...                          ...                       ...   \n",
       "2020-Q1                13.219240                  74.48933   \n",
       "2020-Q2                12.807730                  70.61123   \n",
       "2020-Q3                 9.760626                  72.08835   \n",
       "2020-Q4                12.046320                  73.47577   \n",
       "2021-Q1                17.516660                  74.34683   \n",
       "\n",
       "             Consumer_price_indices  Quarterly_national_accounts  \n",
       "TIME_PERIOD                                                       \n",
       "2000-Q1                    0.868307                    1052610.8  \n",
       "2000-Q2                    0.717360                    1062328.3  \n",
       "2000-Q3                    3.846154                    1064387.1  \n",
       "2000-Q4                    0.274348                    1060398.0  \n",
       "2001-Q1                    1.094391                    1071172.5  \n",
       "...                             ...                          ...  \n",
       "2020-Q1                    0.344234                    1818611.6  \n",
       "2020-Q2                   -1.886792                    1691897.7  \n",
       "2020-Q3                    1.573427                    1750397.7  \n",
       "2020-Q4                    0.860585                    1806519.7  \n",
       "2021-Q1                    0.597270                    1838799.1  \n",
       "\n",
       "[85 rows x 10 columns]"
      ],
      "text/html": "<div>\n<style scoped>\n    .dataframe tbody tr th:only-of-type {\n        vertical-align: middle;\n    }\n\n    .dataframe tbody tr th {\n        vertical-align: top;\n    }\n\n    .dataframe thead th {\n        text-align: right;\n    }\n</style>\n<table border=\"1\" class=\"dataframe\">\n  <thead>\n    <tr style=\"text-align: right;\">\n      <th></th>\n      <th>Balance_of_payments</th>\n      <th>Business_tendency_and_consumer_opinion_surveys</th>\n      <th>Composite_leading_indicators</th>\n      <th>Financial_statistics_share_price_index</th>\n      <th>Financial_statistics_Long-term interest rates</th>\n      <th>Industry</th>\n      <th>International_trade</th>\n      <th>Labour_market_statistics</th>\n      <th>Consumer_price_indices</th>\n      <th>Quarterly_national_accounts</th>\n    </tr>\n    <tr>\n      <th>TIME_PERIOD</th>\n      <th></th>\n      <th></th>\n      <th></th>\n      <th></th>\n      <th></th>\n      <th></th>\n      <th></th>\n      <th></th>\n      <th></th>\n      <th></th>\n    </tr>\n  </thead>\n  <tbody>\n    <tr>\n      <th>2000-Q1</th>\n      <td>-5137.081</td>\n      <td>12.934080</td>\n      <td>64.16375</td>\n      <td>57.14708</td>\n      <td>6.901983</td>\n      <td>71.74657</td>\n      <td>-1.609661</td>\n      <td>68.51615</td>\n      <td>0.868307</td>\n      <td>1052610.8</td>\n    </tr>\n    <tr>\n      <th>2000-Q2</th>\n      <td>-4915.593</td>\n      <td>7.188005</td>\n      <td>64.75610</td>\n      <td>56.61853</td>\n      <td>6.300913</td>\n      <td>72.05145</td>\n      <td>-1.704450</td>\n      <td>69.11356</td>\n      <td>0.717360</td>\n      <td>1062328.3</td>\n    </tr>\n    <tr>\n      <th>2000-Q3</th>\n      <td>-3290.672</td>\n      <td>8.206771</td>\n      <td>64.88159</td>\n      <td>60.17802</td>\n      <td>6.175162</td>\n      <td>73.01106</td>\n      <td>-0.838502</td>\n      <td>69.65662</td>\n      <td>3.846154</td>\n      <td>1064387.1</td>\n    </tr>\n    <tr>\n      <th>2000-Q4</th>\n      <td>-3131.326</td>\n      <td>-10.157550</td>\n      <td>64.63844</td>\n      <td>59.63087</td>\n      <td>5.880219</td>\n      <td>73.32154</td>\n      <td>0.025222</td>\n      <td>69.05394</td>\n      <td>0.274348</td>\n      <td>1060398.0</td>\n    </tr>\n    <tr>\n      <th>2001-Q1</th>\n      <td>-2248.219</td>\n      <td>-6.817195</td>\n      <td>65.29521</td>\n      <td>59.79416</td>\n      <td>5.285803</td>\n      <td>73.00371</td>\n      <td>0.459063</td>\n      <td>68.90128</td>\n      <td>1.094391</td>\n      <td>1071172.5</td>\n    </tr>\n    <tr>\n      <th>...</th>\n      <td>...</td>\n      <td>...</td>\n      <td>...</td>\n      <td>...</td>\n      <td>...</td>\n      <td>...</td>\n      <td>...</td>\n      <td>...</td>\n      <td>...</td>\n      <td>...</td>\n    </tr>\n    <tr>\n      <th>2020-Q1</th>\n      <td>4550.063</td>\n      <td>-1.000000</td>\n      <td>110.87390</td>\n      <td>117.48830</td>\n      <td>1.006667</td>\n      <td>111.62420</td>\n      <td>13.219240</td>\n      <td>74.48933</td>\n      <td>0.344234</td>\n      <td>1818611.6</td>\n    </tr>\n    <tr>\n      <th>2020-Q2</th>\n      <td>10804.130</td>\n      <td>-14.000000</td>\n      <td>103.10910</td>\n      <td>101.68970</td>\n      <td>0.896667</td>\n      <td>108.57980</td>\n      <td>12.807730</td>\n      <td>70.61123</td>\n      <td>-1.886792</td>\n      <td>1691897.7</td>\n    </tr>\n    <tr>\n      <th>2020-Q3</th>\n      <td>7560.197</td>\n      <td>2.333333</td>\n      <td>106.61850</td>\n      <td>109.36950</td>\n      <td>0.890000</td>\n      <td>108.65250</td>\n      <td>9.760626</td>\n      <td>72.08835</td>\n      <td>1.573427</td>\n      <td>1750397.7</td>\n    </tr>\n    <tr>\n      <th>2020-Q4</th>\n      <td>11689.750</td>\n      <td>20.333330</td>\n      <td>109.95320</td>\n      <td>116.20530</td>\n      <td>0.890000</td>\n      <td>108.58120</td>\n      <td>12.046320</td>\n      <td>73.47577</td>\n      <td>0.860585</td>\n      <td>1806519.7</td>\n    </tr>\n    <tr>\n      <th>2021-Q1</th>\n      <td>14131.750</td>\n      <td>21.000000</td>\n      <td>NaN</td>\n      <td>123.18310</td>\n      <td>1.353333</td>\n      <td>109.85670</td>\n      <td>17.516660</td>\n      <td>74.34683</td>\n      <td>0.597270</td>\n      <td>1838799.1</td>\n    </tr>\n  </tbody>\n</table>\n<p>85 rows × 10 columns</p>\n</div>"
     },
     "metadata": {},
     "execution_count": 14
    }
   ],
   "source": [
    "df_all_indicators"
   ]
  },
  {
   "cell_type": "code",
   "execution_count": 17,
   "metadata": {},
   "outputs": [],
   "source": [
    "df_all_indicators.to_csv('./data/AUS_2000.csv')"
   ]
  },
  {
   "cell_type": "code",
   "execution_count": null,
   "metadata": {},
   "outputs": [],
   "source": [
    "df.rename"
   ]
  },
  {
   "cell_type": "code",
   "execution_count": 16,
   "metadata": {},
   "outputs": [],
   "source": [
    "df_all_indicators.rename(columns={\"Quarterly_national_accounts\": \"GDP\"},inplace=True)"
   ]
  },
  {
   "cell_type": "code",
   "execution_count": 139,
   "metadata": {},
   "outputs": [
    {
     "output_type": "execute_result",
     "data": {
      "text/plain": [
       "             Balance_of_payments  \\\n",
       "TIME_PERIOD                        \n",
       "2019-Q1                -1661.208   \n",
       "2019-Q2                 3306.409   \n",
       "2019-Q3                 5543.365   \n",
       "2019-Q4                 2742.469   \n",
       "2020-Q1                 4550.063   \n",
       "2020-Q2                10804.130   \n",
       "2020-Q3                 7560.197   \n",
       "2020-Q4                11689.750   \n",
       "2021-Q1                14131.750   \n",
       "\n",
       "             Business_tendency_and_consumer_opinion_surveys  \\\n",
       "TIME_PERIOD                                                   \n",
       "2019-Q1                                           15.333330   \n",
       "2019-Q2                                           22.666670   \n",
       "2019-Q3                                            7.000000   \n",
       "2019-Q4                                           20.666670   \n",
       "2020-Q1                                           -1.000000   \n",
       "2020-Q2                                          -14.000000   \n",
       "2020-Q3                                            2.333333   \n",
       "2020-Q4                                           20.333330   \n",
       "2021-Q1                                           21.000000   \n",
       "\n",
       "             Composite_leading_indicators  \\\n",
       "TIME_PERIOD                                 \n",
       "2019-Q1                          109.3422   \n",
       "2019-Q2                          110.0532   \n",
       "2019-Q3                          110.7155   \n",
       "2019-Q4                          111.2023   \n",
       "2020-Q1                          110.8739   \n",
       "2020-Q2                          103.1091   \n",
       "2020-Q3                          106.6185   \n",
       "2020-Q4                          109.9532   \n",
       "2021-Q1                               NaN   \n",
       "\n",
       "             Financial_statistics_share_price_index  \\\n",
       "TIME_PERIOD                                           \n",
       "2019-Q1                                    109.5613   \n",
       "2019-Q2                                    116.4485   \n",
       "2019-Q3                                    120.9353   \n",
       "2019-Q4                                    122.3597   \n",
       "2020-Q1                                    117.4883   \n",
       "2020-Q2                                    101.6897   \n",
       "2020-Q3                                    109.3695   \n",
       "2020-Q4                                    116.2053   \n",
       "2021-Q1                                    123.1831   \n",
       "\n",
       "             Financial_statistics_Long-term interest rates  Industry  \\\n",
       "TIME_PERIOD                                                            \n",
       "2019-Q1                                           2.120000  109.0664   \n",
       "2019-Q2                                           1.630000  109.9773   \n",
       "2019-Q3                                           1.096667  111.1706   \n",
       "2019-Q4                                           1.126667  111.7893   \n",
       "2020-Q1                                           1.006667  111.8988   \n",
       "2020-Q2                                           0.896667  108.5698   \n",
       "2020-Q3                                           0.890000  108.8017   \n",
       "2020-Q4                                           0.890000  108.4331   \n",
       "2021-Q1                                           1.353333       NaN   \n",
       "\n",
       "             International_trade  Labour_market_statistics  \\\n",
       "TIME_PERIOD                                                  \n",
       "2019-Q1                11.402610                  74.06125   \n",
       "2019-Q2                15.836640                  74.27474   \n",
       "2019-Q3                17.623950                  74.47119   \n",
       "2019-Q4                12.564330                  74.33272   \n",
       "2020-Q1                13.219240                  74.48933   \n",
       "2020-Q2                12.807730                  70.61123   \n",
       "2020-Q3                 9.760626                  72.08835   \n",
       "2020-Q4                11.988090                  73.47577   \n",
       "2021-Q1                17.679190                  74.34683   \n",
       "\n",
       "             Consumer_price_indices        GDP  \n",
       "TIME_PERIOD                                     \n",
       "2019-Q1                    0.000000  1792868.1  \n",
       "2019-Q2                    0.613497  1804490.3  \n",
       "2019-Q3                    0.522648  1816941.8  \n",
       "2019-Q4                    0.693241  1823929.1  \n",
       "2020-Q1                    0.344234  1818611.6  \n",
       "2020-Q2                   -1.886792  1691897.7  \n",
       "2020-Q3                    1.573427  1750397.7  \n",
       "2020-Q4                    0.860585  1806519.7  \n",
       "2021-Q1                    0.597270  1838799.1  "
      ],
      "text/html": "<div>\n<style scoped>\n    .dataframe tbody tr th:only-of-type {\n        vertical-align: middle;\n    }\n\n    .dataframe tbody tr th {\n        vertical-align: top;\n    }\n\n    .dataframe thead th {\n        text-align: right;\n    }\n</style>\n<table border=\"1\" class=\"dataframe\">\n  <thead>\n    <tr style=\"text-align: right;\">\n      <th></th>\n      <th>Balance_of_payments</th>\n      <th>Business_tendency_and_consumer_opinion_surveys</th>\n      <th>Composite_leading_indicators</th>\n      <th>Financial_statistics_share_price_index</th>\n      <th>Financial_statistics_Long-term interest rates</th>\n      <th>Industry</th>\n      <th>International_trade</th>\n      <th>Labour_market_statistics</th>\n      <th>Consumer_price_indices</th>\n      <th>GDP</th>\n    </tr>\n    <tr>\n      <th>TIME_PERIOD</th>\n      <th></th>\n      <th></th>\n      <th></th>\n      <th></th>\n      <th></th>\n      <th></th>\n      <th></th>\n      <th></th>\n      <th></th>\n      <th></th>\n    </tr>\n  </thead>\n  <tbody>\n    <tr>\n      <th>2019-Q1</th>\n      <td>-1661.208</td>\n      <td>15.333330</td>\n      <td>109.3422</td>\n      <td>109.5613</td>\n      <td>2.120000</td>\n      <td>109.0664</td>\n      <td>11.402610</td>\n      <td>74.06125</td>\n      <td>0.000000</td>\n      <td>1792868.1</td>\n    </tr>\n    <tr>\n      <th>2019-Q2</th>\n      <td>3306.409</td>\n      <td>22.666670</td>\n      <td>110.0532</td>\n      <td>116.4485</td>\n      <td>1.630000</td>\n      <td>109.9773</td>\n      <td>15.836640</td>\n      <td>74.27474</td>\n      <td>0.613497</td>\n      <td>1804490.3</td>\n    </tr>\n    <tr>\n      <th>2019-Q3</th>\n      <td>5543.365</td>\n      <td>7.000000</td>\n      <td>110.7155</td>\n      <td>120.9353</td>\n      <td>1.096667</td>\n      <td>111.1706</td>\n      <td>17.623950</td>\n      <td>74.47119</td>\n      <td>0.522648</td>\n      <td>1816941.8</td>\n    </tr>\n    <tr>\n      <th>2019-Q4</th>\n      <td>2742.469</td>\n      <td>20.666670</td>\n      <td>111.2023</td>\n      <td>122.3597</td>\n      <td>1.126667</td>\n      <td>111.7893</td>\n      <td>12.564330</td>\n      <td>74.33272</td>\n      <td>0.693241</td>\n      <td>1823929.1</td>\n    </tr>\n    <tr>\n      <th>2020-Q1</th>\n      <td>4550.063</td>\n      <td>-1.000000</td>\n      <td>110.8739</td>\n      <td>117.4883</td>\n      <td>1.006667</td>\n      <td>111.8988</td>\n      <td>13.219240</td>\n      <td>74.48933</td>\n      <td>0.344234</td>\n      <td>1818611.6</td>\n    </tr>\n    <tr>\n      <th>2020-Q2</th>\n      <td>10804.130</td>\n      <td>-14.000000</td>\n      <td>103.1091</td>\n      <td>101.6897</td>\n      <td>0.896667</td>\n      <td>108.5698</td>\n      <td>12.807730</td>\n      <td>70.61123</td>\n      <td>-1.886792</td>\n      <td>1691897.7</td>\n    </tr>\n    <tr>\n      <th>2020-Q3</th>\n      <td>7560.197</td>\n      <td>2.333333</td>\n      <td>106.6185</td>\n      <td>109.3695</td>\n      <td>0.890000</td>\n      <td>108.8017</td>\n      <td>9.760626</td>\n      <td>72.08835</td>\n      <td>1.573427</td>\n      <td>1750397.7</td>\n    </tr>\n    <tr>\n      <th>2020-Q4</th>\n      <td>11689.750</td>\n      <td>20.333330</td>\n      <td>109.9532</td>\n      <td>116.2053</td>\n      <td>0.890000</td>\n      <td>108.4331</td>\n      <td>11.988090</td>\n      <td>73.47577</td>\n      <td>0.860585</td>\n      <td>1806519.7</td>\n    </tr>\n    <tr>\n      <th>2021-Q1</th>\n      <td>14131.750</td>\n      <td>21.000000</td>\n      <td>NaN</td>\n      <td>123.1831</td>\n      <td>1.353333</td>\n      <td>NaN</td>\n      <td>17.679190</td>\n      <td>74.34683</td>\n      <td>0.597270</td>\n      <td>1838799.1</td>\n    </tr>\n  </tbody>\n</table>\n</div>"
     },
     "metadata": {},
     "execution_count": 139
    }
   ],
   "source": [
    "df_all_indicators"
   ]
  },
  {
   "cell_type": "code",
   "execution_count": 140,
   "metadata": {},
   "outputs": [],
   "source": [
    "df_all_indicators.to_csv('./data/2019.csv')"
   ]
  },
  {
   "cell_type": "code",
   "execution_count": 81,
   "metadata": {},
   "outputs": [
    {
     "output_type": "stream",
     "name": "stdout",
     "text": [
      "Balance_of_payments\nBusiness_tendency_and_consumer_opinion_surveys\nComposite_leading_indicators\nFinancial_statistics_share_price_index\nFinancial_statistics_Long-term interest rates\nIndustry\nInternational_trade\nLabour_market_statistics\nConsumer_price_indices\nPurchasing_power_parities_Purchasing_Power_Parities\nPurchasing_power_parities_Comparative_Price_Levels\nQuarterly_national_accounts\n"
     ]
    }
   ],
   "source": [
    "for ser in series_list:\n",
    "    print(ser.name)"
   ]
  },
  {
   "cell_type": "code",
   "execution_count": 90,
   "metadata": {},
   "outputs": [
    {
     "output_type": "execute_result",
     "data": {
      "text/plain": [
       "Index(['2019-Q1', '2019-Q2', '2019-Q3', '2019-Q4', '2020-Q1', '2020-Q2',\n",
       "       '2020-Q3', '2020-Q4', '2021-Q1'],\n",
       "      dtype='object', name='TIME_PERIOD')"
      ]
     },
     "metadata": {},
     "execution_count": 90
    }
   ],
   "source": [
    "series_list[0].index"
   ]
  },
  {
   "cell_type": "code",
   "execution_count": 99,
   "metadata": {},
   "outputs": [],
   "source": [
    "data_response_btco = oecd.data(resource_id='PPPGDP', key='all?startTime=2018')\n",
    "btco_series= data_response_btco.to_pandas()"
   ]
  },
  {
   "cell_type": "code",
   "execution_count": 100,
   "metadata": {},
   "outputs": [
    {
     "output_type": "stream",
     "name": "stdout",
     "text": [
      "Requesting URL http://stats.oecd.org/SDMX-JSON/dataflow/PPPGDP/all\n"
     ]
    }
   ],
   "source": [
    "stru_cos = getOECDStructure(dsname=\"PPPGDP\")"
   ]
  },
  {
   "cell_type": "code",
   "execution_count": 101,
   "metadata": {},
   "outputs": [],
   "source": [
    "list_ids= [item for item in stru_cos.get('structure').get('dimensions').get('observation') if item['keyPosition'] == 1]"
   ]
  },
  {
   "cell_type": "code",
   "execution_count": 104,
   "metadata": {},
   "outputs": [
    {
     "output_type": "execute_result",
     "data": {
      "text/plain": [
       "'Australia'"
      ]
     },
     "metadata": {},
     "execution_count": 104
    }
   ],
   "source": [
    "dict_values={}\n",
    "for did in list_ids[0].get('values'):\n",
    "    dict_values[did['id']]=did['name'] \n",
    "dict_values[\"AUS\"]"
   ]
  },
  {
   "cell_type": "code",
   "execution_count": 113,
   "metadata": {},
   "outputs": [],
   "source": [
    "trial= btco_series.loc[\"PPP\", \"AUS\"]"
   ]
  },
  {
   "cell_type": "code",
   "execution_count": 122,
   "metadata": {},
   "outputs": [
    {
     "output_type": "execute_result",
     "data": {
      "text/plain": [
       "1.47"
      ]
     },
     "metadata": {},
     "execution_count": 122
    }
   ],
   "source": [
    "trial.loc['2018']"
   ]
  },
  {
   "cell_type": "code",
   "execution_count": null,
   "metadata": {},
   "outputs": [],
   "source": [
    " d = {\"b\": 1, \"a\": 0, \"c\": 2}"
   ]
  },
  {
   "cell_type": "code",
   "execution_count": 125,
   "metadata": {},
   "outputs": [],
   "source": [
    "dict_new_series= {}\n",
    "for t in trial.index:\n",
    "    for q in quarters:\n",
    "        new_index = [t + q for q in quarters]\n",
    "        dict_new_series[t+q]= (trial.loc[t] / 4 ) \n",
    "      "
   ]
  },
  {
   "cell_type": "code",
   "execution_count": 127,
   "metadata": {},
   "outputs": [
    {
     "output_type": "execute_result",
     "data": {
      "text/plain": [
       "2018-Q1    0.3675\n",
       "2018-Q2    0.3675\n",
       "2018-Q3    0.3675\n",
       "2018-Q4    0.3675\n",
       "2019-Q1    0.3675\n",
       "2019-Q2    0.3675\n",
       "2019-Q3    0.3675\n",
       "2019-Q4    0.3675\n",
       "2020-Q1    0.3650\n",
       "2020-Q2    0.3650\n",
       "2020-Q3    0.3650\n",
       "2020-Q4    0.3650\n",
       "dtype: float64"
      ]
     },
     "metadata": {},
     "execution_count": 127
    }
   ],
   "source": [
    "pd.Series(dict_new_series)"
   ]
  },
  {
   "cell_type": "code",
   "execution_count": 115,
   "metadata": {},
   "outputs": [
    {
     "output_type": "execute_result",
     "data": {
      "text/plain": [
       "Index(['2018', '2019', '2020'], dtype='object')"
      ]
     },
     "metadata": {},
     "execution_count": 115
    }
   ],
   "source": [
    " s = pd.Series(data, index=index)"
   ]
  },
  {
   "cell_type": "code",
   "execution_count": 33,
   "metadata": {},
   "outputs": [
    {
     "output_type": "execute_result",
     "data": {
      "text/plain": [
       "Index(['PIEAEN01', 'PIEAEN01', 'PIEAEN01', 'PIEAEN01', 'PIEAEN01', 'PIEAEN01',\n",
       "       'PIEAEN01', 'PIEAEN01', 'PIEAEN01', 'PIEAEN01',\n",
       "       ...\n",
       "       'WPOTFD01', 'WPOTFD01', 'WPOTFD01', 'WPOTFD01', 'WPOTFD01', 'WPOTFD01',\n",
       "       'WPOTFD01', 'WPOTFD01', 'WPOTFD01', 'WPOTFD01'],\n",
       "      dtype='object', name='SUBJECT', length=101378)"
      ]
     },
     "metadata": {},
     "execution_count": 33
    }
   ],
   "source": [
    "btco_series.index.get_level_values(0"
   ]
  },
  {
   "cell_type": "code",
   "execution_count": 36,
   "metadata": {},
   "outputs": [],
   "source": [
    "economic_activities = [\n",
    "    'PIEAMP02',\n",
    "    'PIEAMP01',\n",
    "    'PIEATI02',\n",
    "    'PIEATI01',\n",
    "    'PIEAMI02',\n",
    "    'PIEAMI01',\n",
    "    'PIEAFD02',\n",
    "    'PIEAFD01',\n",
    "    'PIEAEN02',\n",
    "    'PIEAEN01',\n",
    "]"
   ]
  },
  {
   "cell_type": "code",
   "execution_count": 40,
   "metadata": {},
   "outputs": [],
   "source": [
    " query_def= [economic_activities, 'AUS', 'GP', 'Q']"
   ]
  },
  {
   "cell_type": "code",
   "execution_count": 47,
   "metadata": {},
   "outputs": [
    {
     "output_type": "stream",
     "name": "stdout",
     "text": [
      " ['PIEAMP02', 'AUS', 'GP', 'Q'] -->\n ['PIEAMP01', 'AUS', 'GP', 'Q'] -->\n ['PIEATI02', 'AUS', 'GP', 'Q'] -->\n ['PIEATI01', 'AUS', 'GP', 'Q'] -->\n ['PIEAMI02', 'AUS', 'GP', 'Q'] -->\n ['PIEAMI01', 'AUS', 'GP', 'Q'] -->\n ['PIEAFD02', 'AUS', 'GP', 'Q'] -->\n ['PIEAFD01', 'AUS', 'GP', 'Q'] -->\n ['PIEAEN02', 'AUS', 'GP', 'Q'] -->\n ['PIEAEN01', 'AUS', 'GP', 'Q'] -->\n"
     ]
    }
   ],
   "source": [
    "indicators = query_def[0]\n",
    "for indi in indicators:\n",
    "    query_def[0] = indi\n",
    "    query= [str(item).replace('AUS', country) for item in query_def]\n",
    "    query= [str(item).replace('Q', freq) for item in query]\n",
    "    print(f\" {query} -->\")\n",
    "        \n",
    "           "
   ]
  },
  {
   "cell_type": "code",
   "execution_count": 57,
   "metadata": {},
   "outputs": [],
   "source": [
    "ser = btco_series.loc[economic_activities, 'USA', 'GP']"
   ]
  },
  {
   "cell_type": "code",
   "execution_count": 58,
   "metadata": {},
   "outputs": [
    {
     "output_type": "execute_result",
     "data": {
      "text/plain": [
       "MultiIndex([('PIEAMP01', 'USA', 'GP', 'A',    '2018'),\n",
       "            ('PIEAMP01', 'USA', 'GP', 'A',    '2019'),\n",
       "            ('PIEAMP01', 'USA', 'GP', 'A',    '2020'),\n",
       "            ('PIEAMP01', 'USA', 'GP', 'M', '2018-01'),\n",
       "            ('PIEAMP01', 'USA', 'GP', 'M', '2018-02'),\n",
       "            ('PIEAMP01', 'USA', 'GP', 'M', '2018-03'),\n",
       "            ('PIEAMP01', 'USA', 'GP', 'M', '2018-04'),\n",
       "            ('PIEAMP01', 'USA', 'GP', 'M', '2018-05'),\n",
       "            ('PIEAMP01', 'USA', 'GP', 'M', '2018-06'),\n",
       "            ('PIEAMP01', 'USA', 'GP', 'M', '2018-07'),\n",
       "            ...\n",
       "            ('PIEAEN01', 'USA', 'GP', 'Q', '2018-Q4'),\n",
       "            ('PIEAEN01', 'USA', 'GP', 'Q', '2019-Q1'),\n",
       "            ('PIEAEN01', 'USA', 'GP', 'Q', '2019-Q2'),\n",
       "            ('PIEAEN01', 'USA', 'GP', 'Q', '2019-Q3'),\n",
       "            ('PIEAEN01', 'USA', 'GP', 'Q', '2019-Q4'),\n",
       "            ('PIEAEN01', 'USA', 'GP', 'Q', '2020-Q1'),\n",
       "            ('PIEAEN01', 'USA', 'GP', 'Q', '2020-Q2'),\n",
       "            ('PIEAEN01', 'USA', 'GP', 'Q', '2020-Q3'),\n",
       "            ('PIEAEN01', 'USA', 'GP', 'Q', '2020-Q4'),\n",
       "            ('PIEAEN01', 'USA', 'GP', 'Q', '2021-Q1')],\n",
       "           names=['SUBJECT', 'LOCATION', 'MEASURE', 'FREQUENCY', 'TIME_PERIOD'], length=224)"
      ]
     },
     "metadata": {},
     "execution_count": 58
    }
   ],
   "source": [
    "ser.index"
   ]
  },
  {
   "cell_type": "code",
   "execution_count": 59,
   "metadata": {},
   "outputs": [],
   "source": [
    "index_unique_list = ser.index.get_level_values(0).unique()"
   ]
  },
  {
   "cell_type": "code",
   "execution_count": 60,
   "metadata": {},
   "outputs": [
    {
     "output_type": "execute_result",
     "data": {
      "text/plain": [
       "Index(['PIEAMP01', 'PIEAMI01', 'PIEAFD01', 'PIEAEN01'], dtype='object', name='SUBJECT')"
      ]
     },
     "metadata": {},
     "execution_count": 60
    }
   ],
   "source": [
    "index_unique_list"
   ]
  },
  {
   "cell_type": "code",
   "execution_count": 51,
   "metadata": {},
   "outputs": [
    {
     "output_type": "execute_result",
     "data": {
      "text/plain": [
       "Index(['PIEAMP01', 'PIEAFD01'], dtype='object', name='SUBJECT')"
      ]
     },
     "metadata": {},
     "execution_count": 51
    }
   ],
   "source": [
    "for val in  index_unique_list:\n",
    "    btco_series.loc['VAL', 'AUS', 'GP', 'Q']"
   ]
  },
  {
   "cell_type": "code",
   "execution_count": 49,
   "metadata": {},
   "outputs": [
    {
     "output_type": "execute_result",
     "data": {
      "text/plain": [
       "TIME_PERIOD\n",
       "2018-Q1    0.922509\n",
       "2018-Q2    2.559415\n",
       "2018-Q3    0.891266\n",
       "2018-Q4    0.883392\n",
       "2019-Q1    0.262697\n",
       "2019-Q2    0.960699\n",
       "2019-Q3    1.124568\n",
       "2019-Q4    0.342173\n",
       "2020-Q1    0.767263\n",
       "2020-Q2   -1.099831\n",
       "2020-Q3   -0.256630\n",
       "2020-Q4    0.343053\n",
       "2021-Q1    1.025641\n",
       "Name: value, dtype: float64"
      ]
     },
     "metadata": {},
     "execution_count": 49
    }
   ],
   "source": [
    "btco_series.loc['PIEAMP01', 'AUS', 'GP', 'Q']"
   ]
  },
  {
   "cell_type": "code",
   "execution_count": 47,
   "metadata": {},
   "outputs": [
    {
     "output_type": "execute_result",
     "data": {
      "text/plain": [
       "FrozenList(['SUBJECT', 'LOCATION', 'MEASURE', 'FREQUENCY', 'TIME_PERIOD'])"
      ]
     },
     "metadata": {},
     "execution_count": 47
    }
   ],
   "source": [
    "ser.index.names"
   ]
  },
  {
   "cell_type": "code",
   "execution_count": null,
   "metadata": {},
   "outputs": [],
   "source": [
    "btco_series.loc['PIEAMP01', 'AUS', 'GP', 'Q']"
   ]
  },
  {
   "cell_type": "code",
   "execution_count": 64,
   "metadata": {},
   "outputs": [
    {
     "output_type": "stream",
     "name": "stdout",
     "text": [
      "Requesting URL http://stats.oecd.org/SDMX-JSON/dataflow/MEI_BOP6/all\n"
     ]
    }
   ],
   "source": [
    "stru_cos = getOECDStructure(dsname=\"MEI_BOP6\")"
   ]
  },
  {
   "cell_type": "code",
   "execution_count": 65,
   "metadata": {},
   "outputs": [],
   "source": [
    "list_ids= [item for item in stru_cos.get('structure').get('dimensions').get('observation') if item['keyPosition'] == 0]"
   ]
  },
  {
   "cell_type": "code",
   "execution_count": null,
   "metadata": {},
   "outputs": [],
   "source": []
  }
 ]
}