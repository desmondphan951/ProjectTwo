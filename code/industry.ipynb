{
 "metadata": {
  "language_info": {
   "codemirror_mode": {
    "name": "ipython",
    "version": 3
   },
   "file_extension": ".py",
   "mimetype": "text/x-python",
   "name": "python",
   "nbconvert_exporter": "python",
   "pygments_lexer": "ipython3",
   "version": "3.8.10"
  },
  "orig_nbformat": 2,
  "kernelspec": {
   "name": "python3810jvsc74a57bd071ac64b6f72117e9ac7f0856a78eddd129ae92f169e8cc90f85528fe0ec87ad9",
   "display_name": "Python 3.8.10 64-bit ('algotrading': conda)"
  }
 },
 "nbformat": 4,
 "nbformat_minor": 2,
 "cells": [
  {
   "cell_type": "code",
   "execution_count": 44,
   "metadata": {},
   "outputs": [],
   "source": [
    "import pandas as pd\n",
    "import warnings\n",
    "import hvplot.pandas\n",
    "import warnings\n",
    "import pickle\n",
    "warnings.filterwarnings('ignore')"
   ]
  },
  {
   "cell_type": "code",
   "execution_count": 45,
   "metadata": {},
   "outputs": [],
   "source": [
    "mapping_dict ={\n",
    "'Mining': 'Materials',\n",
    " 'Ownership of dwellings': 'Real Estate',\n",
    " 'Financial and insurance services': 'Financials' ,\n",
    " 'Construction': 'Industrials',\n",
    " 'Health care and social assistance': 'Health Care' ,\n",
    " 'Professional, scientific and technical services': 'Information Technology' ,\n",
    "}"
   ]
  },
  {
   "cell_type": "code",
   "execution_count": 46,
   "metadata": {},
   "outputs": [],
   "source": [
    "#read ASX data "
   ]
  },
  {
   "cell_type": "code",
   "execution_count": 47,
   "metadata": {},
   "outputs": [],
   "source": [
    "asx_df= pd.read_csv('./data/asx_all_info.csv')"
   ]
  },
  {
   "cell_type": "code",
   "execution_count": 48,
   "metadata": {},
   "outputs": [],
   "source": [
    "asx_df[\"Code\"] = asx_df['Code'].str.replace('ASX:', '', regex=True)#str.replace('[^\\w\\s]','')"
   ]
  },
  {
   "cell_type": "code",
   "execution_count": 49,
   "metadata": {},
   "outputs": [],
   "source": [
    "asx_df['MktCap'] =asx_df['Market Cap'].replace({'K': '*1e3', 'M': '*1e6', 'B': '*1e9'}, regex=True).map(pd.eval).astype(float)"
   ]
  },
  {
   "cell_type": "code",
   "execution_count": 50,
   "metadata": {},
   "outputs": [
    {
     "output_type": "execute_result",
     "data": {
      "text/plain": [
       "    Code                                Company Market Cap  \\\n",
       "0    CBA                      Commonwealth Bank    180.83B   \n",
       "1    BHP                      BHP Group Limited    143.91B   \n",
       "2    CSL                                    CSL    133.16B   \n",
       "3    WBC                   Westpac Banking Corp     97.69B   \n",
       "4    NAB                National Australia Bank     87.88B   \n",
       "..   ...                                    ...        ...   \n",
       "272  OBL                 Omni Bridgeway Limited      1.04B   \n",
       "273  DUI  Diversified United Investment Limited      1.02B   \n",
       "274  IDX           Integral Diagnostics Limited      1.02B   \n",
       "275  OML                      oOh!media Limited      1.01B   \n",
       "276  RMC                  Resimac Group Limited      1.01B   \n",
       "\n",
       "                     Sector        MktCap  \n",
       "0                Financials  1.808300e+11  \n",
       "1                 Materials  1.439100e+11  \n",
       "2               Health Care  1.331600e+11  \n",
       "3                Financials  9.769000e+10  \n",
       "4                Financials  8.788000e+10  \n",
       "..                      ...           ...  \n",
       "272              Financials  1.040000e+09  \n",
       "273              Financials  1.020000e+09  \n",
       "274             Health Care  1.020000e+09  \n",
       "275  Communication Services  1.010000e+09  \n",
       "276              Financials  1.010000e+09  \n",
       "\n",
       "[277 rows x 5 columns]"
      ],
      "text/html": "<div>\n<style scoped>\n    .dataframe tbody tr th:only-of-type {\n        vertical-align: middle;\n    }\n\n    .dataframe tbody tr th {\n        vertical-align: top;\n    }\n\n    .dataframe thead th {\n        text-align: right;\n    }\n</style>\n<table border=\"1\" class=\"dataframe\">\n  <thead>\n    <tr style=\"text-align: right;\">\n      <th></th>\n      <th>Code</th>\n      <th>Company</th>\n      <th>Market Cap</th>\n      <th>Sector</th>\n      <th>MktCap</th>\n    </tr>\n  </thead>\n  <tbody>\n    <tr>\n      <th>0</th>\n      <td>CBA</td>\n      <td>Commonwealth Bank</td>\n      <td>180.83B</td>\n      <td>Financials</td>\n      <td>1.808300e+11</td>\n    </tr>\n    <tr>\n      <th>1</th>\n      <td>BHP</td>\n      <td>BHP Group Limited</td>\n      <td>143.91B</td>\n      <td>Materials</td>\n      <td>1.439100e+11</td>\n    </tr>\n    <tr>\n      <th>2</th>\n      <td>CSL</td>\n      <td>CSL</td>\n      <td>133.16B</td>\n      <td>Health Care</td>\n      <td>1.331600e+11</td>\n    </tr>\n    <tr>\n      <th>3</th>\n      <td>WBC</td>\n      <td>Westpac Banking Corp</td>\n      <td>97.69B</td>\n      <td>Financials</td>\n      <td>9.769000e+10</td>\n    </tr>\n    <tr>\n      <th>4</th>\n      <td>NAB</td>\n      <td>National Australia Bank</td>\n      <td>87.88B</td>\n      <td>Financials</td>\n      <td>8.788000e+10</td>\n    </tr>\n    <tr>\n      <th>...</th>\n      <td>...</td>\n      <td>...</td>\n      <td>...</td>\n      <td>...</td>\n      <td>...</td>\n    </tr>\n    <tr>\n      <th>272</th>\n      <td>OBL</td>\n      <td>Omni Bridgeway Limited</td>\n      <td>1.04B</td>\n      <td>Financials</td>\n      <td>1.040000e+09</td>\n    </tr>\n    <tr>\n      <th>273</th>\n      <td>DUI</td>\n      <td>Diversified United Investment Limited</td>\n      <td>1.02B</td>\n      <td>Financials</td>\n      <td>1.020000e+09</td>\n    </tr>\n    <tr>\n      <th>274</th>\n      <td>IDX</td>\n      <td>Integral Diagnostics Limited</td>\n      <td>1.02B</td>\n      <td>Health Care</td>\n      <td>1.020000e+09</td>\n    </tr>\n    <tr>\n      <th>275</th>\n      <td>OML</td>\n      <td>oOh!media Limited</td>\n      <td>1.01B</td>\n      <td>Communication Services</td>\n      <td>1.010000e+09</td>\n    </tr>\n    <tr>\n      <th>276</th>\n      <td>RMC</td>\n      <td>Resimac Group Limited</td>\n      <td>1.01B</td>\n      <td>Financials</td>\n      <td>1.010000e+09</td>\n    </tr>\n  </tbody>\n</table>\n<p>277 rows × 5 columns</p>\n</div>"
     },
     "metadata": {},
     "execution_count": 50
    }
   ],
   "source": [
    "asx_df"
   ]
  },
  {
   "cell_type": "code",
   "execution_count": 51,
   "metadata": {},
   "outputs": [],
   "source": [
    "asx_top_50 = asx_df.sort_values(by=\"MktCap\", ascending=False).head(50)"
   ]
  },
  {
   "cell_type": "code",
   "execution_count": 52,
   "metadata": {},
   "outputs": [],
   "source": [
    "top_50_group = asx_top_50.groupby([\"Sector\"])"
   ]
  },
  {
   "cell_type": "code",
   "execution_count": 53,
   "metadata": {},
   "outputs": [],
   "source": [
    "groups = top_50_group.groups"
   ]
  },
  {
   "cell_type": "code",
   "execution_count": 54,
   "metadata": {},
   "outputs": [
    {
     "output_type": "execute_result",
     "data": {
      "text/plain": [
       "dict_keys(['Communication Services', 'Consumer Discretionary', 'Consumer Staples', 'Energy', 'Financials', 'Health Care', 'Industrials', 'Information Technology', 'Materials', 'Real Estate', 'Utilities'])"
      ]
     },
     "metadata": {},
     "execution_count": 54
    }
   ],
   "source": [
    "groups.keys()"
   ]
  },
  {
   "cell_type": "code",
   "execution_count": 55,
   "metadata": {},
   "outputs": [
    {
     "output_type": "execute_result",
     "data": {
      "text/plain": [
       "   Code             Company Market Cap                  Sector        MktCap\n",
       "7   WES  Wesfarmers Limited     62.09B  Consumer Discretionary  6.209000e+10\n",
       "15  ALL  Aristocrat Leisure     25.89B  Consumer Discretionary  2.589000e+10\n",
       "42  TAH    Tabcorp Holdings     11.26B  Consumer Discretionary  1.126000e+10\n",
       "47  DMP      Domino's Pizza     10.03B  Consumer Discretionary  1.003000e+10"
      ],
      "text/html": "<div>\n<style scoped>\n    .dataframe tbody tr th:only-of-type {\n        vertical-align: middle;\n    }\n\n    .dataframe tbody tr th {\n        vertical-align: top;\n    }\n\n    .dataframe thead th {\n        text-align: right;\n    }\n</style>\n<table border=\"1\" class=\"dataframe\">\n  <thead>\n    <tr style=\"text-align: right;\">\n      <th></th>\n      <th>Code</th>\n      <th>Company</th>\n      <th>Market Cap</th>\n      <th>Sector</th>\n      <th>MktCap</th>\n    </tr>\n  </thead>\n  <tbody>\n    <tr>\n      <th>7</th>\n      <td>WES</td>\n      <td>Wesfarmers Limited</td>\n      <td>62.09B</td>\n      <td>Consumer Discretionary</td>\n      <td>6.209000e+10</td>\n    </tr>\n    <tr>\n      <th>15</th>\n      <td>ALL</td>\n      <td>Aristocrat Leisure</td>\n      <td>25.89B</td>\n      <td>Consumer Discretionary</td>\n      <td>2.589000e+10</td>\n    </tr>\n    <tr>\n      <th>42</th>\n      <td>TAH</td>\n      <td>Tabcorp Holdings</td>\n      <td>11.26B</td>\n      <td>Consumer Discretionary</td>\n      <td>1.126000e+10</td>\n    </tr>\n    <tr>\n      <th>47</th>\n      <td>DMP</td>\n      <td>Domino's Pizza</td>\n      <td>10.03B</td>\n      <td>Consumer Discretionary</td>\n      <td>1.003000e+10</td>\n    </tr>\n  </tbody>\n</table>\n</div>"
     },
     "metadata": {},
     "execution_count": 55
    }
   ],
   "source": [
    "top_50_group.get_group(\"Consumer Discretionary\")"
   ]
  },
  {
   "source": [
    "## Load and analyse and prepare Australia statistics meta data"
   ],
   "cell_type": "markdown",
   "metadata": {}
  },
  {
   "cell_type": "code",
   "execution_count": 56,
   "metadata": {},
   "outputs": [],
   "source": [
    "meta_data = pd.read_csv('./data/5204005_GVA_by_Industry_meta_mine.csv')"
   ]
  },
  {
   "cell_type": "code",
   "execution_count": 57,
   "metadata": {},
   "outputs": [
    {
     "output_type": "execute_result",
     "data": {
      "text/plain": [
       "                                 Data Item Description Series Type  Series ID  \\\n",
       "0    Agriculture, forestry and fishing (A) ;  Agric...    Original  A3347243W   \n",
       "1    Agriculture, forestry and fishing (A) ;  Fores...    Original  A3347244X   \n",
       "2    Agriculture, forestry and fishing (A) ;  Chain...    Original  A3347242V   \n",
       "3    Mining (B) ;  Coal mining: Chain volume measur...    Original  A3605348C   \n",
       "4    Mining (B) ;  Oil and gas extraction: Chain vo...    Original  A3605349F   \n",
       "..                                                 ...         ...        ...   \n",
       "149  Health care and social assistance (Q) ;  Perce...    Original  A3347212F   \n",
       "150  Arts and recreation services (R) ;  Percentage...    Original  A3347213J   \n",
       "151  Other services (S) ;  Percentage of GVA at bas...    Original  A3347214K   \n",
       "152  Ownership of dwellings ;  Percentage of GVA at...    Original  A2421036A   \n",
       "153  All industries ;  Percentage of GVA at basic p...    Original  A2421037C   \n",
       "\n",
       "    Series Start Series End  No. Obs.        Unit Data Type   Freq.  \\\n",
       "0         Jun-75     Jun-20        46  $ Millions   DERIVED  Annual   \n",
       "1         Jun-75     Jun-20        46  $ Millions   DERIVED  Annual   \n",
       "2         Jun-75     Jun-20        46  $ Millions   DERIVED  Annual   \n",
       "3         Jun-86     Jun-20        35  $ Millions   DERIVED  Annual   \n",
       "4         Jun-86     Jun-20        35  $ Millions   DERIVED  Annual   \n",
       "..           ...        ...       ...         ...       ...     ...   \n",
       "149       Jun-90     Jun-20        31  proportion   DERIVED  Annual   \n",
       "150       Jun-90     Jun-20        31  proportion   DERIVED  Annual   \n",
       "151       Jun-90     Jun-20        31  proportion   DERIVED  Annual   \n",
       "152       Jun-90     Jun-20        31  proportion   DERIVED  Annual   \n",
       "153       Jun-90     Jun-20        31  proportion   DERIVED  Annual   \n",
       "\n",
       "     Collection Month  \n",
       "0                   6  \n",
       "1                   6  \n",
       "2                   6  \n",
       "3                   6  \n",
       "4                   6  \n",
       "..                ...  \n",
       "149                 6  \n",
       "150                 6  \n",
       "151                 6  \n",
       "152                 6  \n",
       "153                 6  \n",
       "\n",
       "[154 rows x 10 columns]"
      ],
      "text/html": "<div>\n<style scoped>\n    .dataframe tbody tr th:only-of-type {\n        vertical-align: middle;\n    }\n\n    .dataframe tbody tr th {\n        vertical-align: top;\n    }\n\n    .dataframe thead th {\n        text-align: right;\n    }\n</style>\n<table border=\"1\" class=\"dataframe\">\n  <thead>\n    <tr style=\"text-align: right;\">\n      <th></th>\n      <th>Data Item Description</th>\n      <th>Series Type</th>\n      <th>Series ID</th>\n      <th>Series Start</th>\n      <th>Series End</th>\n      <th>No. Obs.</th>\n      <th>Unit</th>\n      <th>Data Type</th>\n      <th>Freq.</th>\n      <th>Collection Month</th>\n    </tr>\n  </thead>\n  <tbody>\n    <tr>\n      <th>0</th>\n      <td>Agriculture, forestry and fishing (A) ;  Agric...</td>\n      <td>Original</td>\n      <td>A3347243W</td>\n      <td>Jun-75</td>\n      <td>Jun-20</td>\n      <td>46</td>\n      <td>$ Millions</td>\n      <td>DERIVED</td>\n      <td>Annual</td>\n      <td>6</td>\n    </tr>\n    <tr>\n      <th>1</th>\n      <td>Agriculture, forestry and fishing (A) ;  Fores...</td>\n      <td>Original</td>\n      <td>A3347244X</td>\n      <td>Jun-75</td>\n      <td>Jun-20</td>\n      <td>46</td>\n      <td>$ Millions</td>\n      <td>DERIVED</td>\n      <td>Annual</td>\n      <td>6</td>\n    </tr>\n    <tr>\n      <th>2</th>\n      <td>Agriculture, forestry and fishing (A) ;  Chain...</td>\n      <td>Original</td>\n      <td>A3347242V</td>\n      <td>Jun-75</td>\n      <td>Jun-20</td>\n      <td>46</td>\n      <td>$ Millions</td>\n      <td>DERIVED</td>\n      <td>Annual</td>\n      <td>6</td>\n    </tr>\n    <tr>\n      <th>3</th>\n      <td>Mining (B) ;  Coal mining: Chain volume measur...</td>\n      <td>Original</td>\n      <td>A3605348C</td>\n      <td>Jun-86</td>\n      <td>Jun-20</td>\n      <td>35</td>\n      <td>$ Millions</td>\n      <td>DERIVED</td>\n      <td>Annual</td>\n      <td>6</td>\n    </tr>\n    <tr>\n      <th>4</th>\n      <td>Mining (B) ;  Oil and gas extraction: Chain vo...</td>\n      <td>Original</td>\n      <td>A3605349F</td>\n      <td>Jun-86</td>\n      <td>Jun-20</td>\n      <td>35</td>\n      <td>$ Millions</td>\n      <td>DERIVED</td>\n      <td>Annual</td>\n      <td>6</td>\n    </tr>\n    <tr>\n      <th>...</th>\n      <td>...</td>\n      <td>...</td>\n      <td>...</td>\n      <td>...</td>\n      <td>...</td>\n      <td>...</td>\n      <td>...</td>\n      <td>...</td>\n      <td>...</td>\n      <td>...</td>\n    </tr>\n    <tr>\n      <th>149</th>\n      <td>Health care and social assistance (Q) ;  Perce...</td>\n      <td>Original</td>\n      <td>A3347212F</td>\n      <td>Jun-90</td>\n      <td>Jun-20</td>\n      <td>31</td>\n      <td>proportion</td>\n      <td>DERIVED</td>\n      <td>Annual</td>\n      <td>6</td>\n    </tr>\n    <tr>\n      <th>150</th>\n      <td>Arts and recreation services (R) ;  Percentage...</td>\n      <td>Original</td>\n      <td>A3347213J</td>\n      <td>Jun-90</td>\n      <td>Jun-20</td>\n      <td>31</td>\n      <td>proportion</td>\n      <td>DERIVED</td>\n      <td>Annual</td>\n      <td>6</td>\n    </tr>\n    <tr>\n      <th>151</th>\n      <td>Other services (S) ;  Percentage of GVA at bas...</td>\n      <td>Original</td>\n      <td>A3347214K</td>\n      <td>Jun-90</td>\n      <td>Jun-20</td>\n      <td>31</td>\n      <td>proportion</td>\n      <td>DERIVED</td>\n      <td>Annual</td>\n      <td>6</td>\n    </tr>\n    <tr>\n      <th>152</th>\n      <td>Ownership of dwellings ;  Percentage of GVA at...</td>\n      <td>Original</td>\n      <td>A2421036A</td>\n      <td>Jun-90</td>\n      <td>Jun-20</td>\n      <td>31</td>\n      <td>proportion</td>\n      <td>DERIVED</td>\n      <td>Annual</td>\n      <td>6</td>\n    </tr>\n    <tr>\n      <th>153</th>\n      <td>All industries ;  Percentage of GVA at basic p...</td>\n      <td>Original</td>\n      <td>A2421037C</td>\n      <td>Jun-90</td>\n      <td>Jun-20</td>\n      <td>31</td>\n      <td>proportion</td>\n      <td>DERIVED</td>\n      <td>Annual</td>\n      <td>6</td>\n    </tr>\n  </tbody>\n</table>\n<p>154 rows × 10 columns</p>\n</div>"
     },
     "metadata": {},
     "execution_count": 57
    }
   ],
   "source": [
    "meta_data"
   ]
  },
  {
   "cell_type": "code",
   "execution_count": 58,
   "metadata": {},
   "outputs": [],
   "source": [
    "df_indexer = meta_data[\"Data Item Description\"].str.split(pat=\";\", expand=True)\n",
    "df_indexer= df_indexer.drop(columns= 2)\n",
    "df_indexer =df_indexer.rename(columns={'0':\"industry\", '1': \"indicator\"})"
   ]
  },
  {
   "cell_type": "code",
   "execution_count": 59,
   "metadata": {},
   "outputs": [],
   "source": [
    "index_m =pd.MultiIndex.from_frame(df_indexer)\n",
    "meta_data.set_index(index_m,drop=True,inplace=True)"
   ]
  },
  {
   "cell_type": "code",
   "execution_count": 60,
   "metadata": {},
   "outputs": [],
   "source": [
    "meta_data.drop(columns=\"Data Item Description\",inplace=True)"
   ]
  },
  {
   "cell_type": "code",
   "execution_count": 61,
   "metadata": {},
   "outputs": [
    {
     "output_type": "execute_result",
     "data": {
      "text/plain": [
       "                                                                                          Series Type  \\\n",
       "0                                      1                                                                \n",
       "Agriculture, forestry and fishing (A)    Agriculture: Chain volume measures                  Original   \n",
       "                                         Forestry and fishing: Chain volume measures         Original   \n",
       "                                         Chain volume measures                               Original   \n",
       "Mining (B)                               Coal mining: Chain volume measures                  Original   \n",
       "                                         Oil and gas extraction: Chain volume measures       Original   \n",
       "...                                                                                               ...   \n",
       "Health care and social assistance (Q)    Percentage of GVA at basic prices, current pr...    Original   \n",
       "Arts and recreation services (R)         Percentage of GVA at basic prices, current pr...    Original   \n",
       "Other services (S)                       Percentage of GVA at basic prices, current pr...    Original   \n",
       "Ownership of dwellings                   Percentage of GVA at basic prices, current pr...    Original   \n",
       "All industries                           Percentage of GVA at basic prices, current pr...    Original   \n",
       "\n",
       "                                                                                           Series ID  \\\n",
       "0                                      1                                                               \n",
       "Agriculture, forestry and fishing (A)    Agriculture: Chain volume measures                A3347243W   \n",
       "                                         Forestry and fishing: Chain volume measures       A3347244X   \n",
       "                                         Chain volume measures                             A3347242V   \n",
       "Mining (B)                               Coal mining: Chain volume measures                A3605348C   \n",
       "                                         Oil and gas extraction: Chain volume measures     A3605349F   \n",
       "...                                                                                              ...   \n",
       "Health care and social assistance (Q)    Percentage of GVA at basic prices, current pr...  A3347212F   \n",
       "Arts and recreation services (R)         Percentage of GVA at basic prices, current pr...  A3347213J   \n",
       "Other services (S)                       Percentage of GVA at basic prices, current pr...  A3347214K   \n",
       "Ownership of dwellings                   Percentage of GVA at basic prices, current pr...  A2421036A   \n",
       "All industries                           Percentage of GVA at basic prices, current pr...  A2421037C   \n",
       "\n",
       "                                                                                          Series Start  \\\n",
       "0                                      1                                                                 \n",
       "Agriculture, forestry and fishing (A)    Agriculture: Chain volume measures                     Jun-75   \n",
       "                                         Forestry and fishing: Chain volume measures            Jun-75   \n",
       "                                         Chain volume measures                                  Jun-75   \n",
       "Mining (B)                               Coal mining: Chain volume measures                     Jun-86   \n",
       "                                         Oil and gas extraction: Chain volume measures          Jun-86   \n",
       "...                                                                                                ...   \n",
       "Health care and social assistance (Q)    Percentage of GVA at basic prices, current pr...       Jun-90   \n",
       "Arts and recreation services (R)         Percentage of GVA at basic prices, current pr...       Jun-90   \n",
       "Other services (S)                       Percentage of GVA at basic prices, current pr...       Jun-90   \n",
       "Ownership of dwellings                   Percentage of GVA at basic prices, current pr...       Jun-90   \n",
       "All industries                           Percentage of GVA at basic prices, current pr...       Jun-90   \n",
       "\n",
       "                                                                                          Series End  \\\n",
       "0                                      1                                                               \n",
       "Agriculture, forestry and fishing (A)    Agriculture: Chain volume measures                   Jun-20   \n",
       "                                         Forestry and fishing: Chain volume measures          Jun-20   \n",
       "                                         Chain volume measures                                Jun-20   \n",
       "Mining (B)                               Coal mining: Chain volume measures                   Jun-20   \n",
       "                                         Oil and gas extraction: Chain volume measures        Jun-20   \n",
       "...                                                                                              ...   \n",
       "Health care and social assistance (Q)    Percentage of GVA at basic prices, current pr...     Jun-20   \n",
       "Arts and recreation services (R)         Percentage of GVA at basic prices, current pr...     Jun-20   \n",
       "Other services (S)                       Percentage of GVA at basic prices, current pr...     Jun-20   \n",
       "Ownership of dwellings                   Percentage of GVA at basic prices, current pr...     Jun-20   \n",
       "All industries                           Percentage of GVA at basic prices, current pr...     Jun-20   \n",
       "\n",
       "                                                                                           No. Obs.  \\\n",
       "0                                      1                                                              \n",
       "Agriculture, forestry and fishing (A)    Agriculture: Chain volume measures                      46   \n",
       "                                         Forestry and fishing: Chain volume measures             46   \n",
       "                                         Chain volume measures                                   46   \n",
       "Mining (B)                               Coal mining: Chain volume measures                      35   \n",
       "                                         Oil and gas extraction: Chain volume measures           35   \n",
       "...                                                                                             ...   \n",
       "Health care and social assistance (Q)    Percentage of GVA at basic prices, current pr...        31   \n",
       "Arts and recreation services (R)         Percentage of GVA at basic prices, current pr...        31   \n",
       "Other services (S)                       Percentage of GVA at basic prices, current pr...        31   \n",
       "Ownership of dwellings                   Percentage of GVA at basic prices, current pr...        31   \n",
       "All industries                           Percentage of GVA at basic prices, current pr...        31   \n",
       "\n",
       "                                                                                                 Unit  \\\n",
       "0                                      1                                                                \n",
       "Agriculture, forestry and fishing (A)    Agriculture: Chain volume measures                $ Millions   \n",
       "                                         Forestry and fishing: Chain volume measures       $ Millions   \n",
       "                                         Chain volume measures                             $ Millions   \n",
       "Mining (B)                               Coal mining: Chain volume measures                $ Millions   \n",
       "                                         Oil and gas extraction: Chain volume measures     $ Millions   \n",
       "...                                                                                               ...   \n",
       "Health care and social assistance (Q)    Percentage of GVA at basic prices, current pr...  proportion   \n",
       "Arts and recreation services (R)         Percentage of GVA at basic prices, current pr...  proportion   \n",
       "Other services (S)                       Percentage of GVA at basic prices, current pr...  proportion   \n",
       "Ownership of dwellings                   Percentage of GVA at basic prices, current pr...  proportion   \n",
       "All industries                           Percentage of GVA at basic prices, current pr...  proportion   \n",
       "\n",
       "                                                                                          Data Type  \\\n",
       "0                                      1                                                              \n",
       "Agriculture, forestry and fishing (A)    Agriculture: Chain volume measures                 DERIVED   \n",
       "                                         Forestry and fishing: Chain volume measures        DERIVED   \n",
       "                                         Chain volume measures                              DERIVED   \n",
       "Mining (B)                               Coal mining: Chain volume measures                 DERIVED   \n",
       "                                         Oil and gas extraction: Chain volume measures      DERIVED   \n",
       "...                                                                                             ...   \n",
       "Health care and social assistance (Q)    Percentage of GVA at basic prices, current pr...   DERIVED   \n",
       "Arts and recreation services (R)         Percentage of GVA at basic prices, current pr...   DERIVED   \n",
       "Other services (S)                       Percentage of GVA at basic prices, current pr...   DERIVED   \n",
       "Ownership of dwellings                   Percentage of GVA at basic prices, current pr...   DERIVED   \n",
       "All industries                           Percentage of GVA at basic prices, current pr...   DERIVED   \n",
       "\n",
       "                                                                                            Freq.  \\\n",
       "0                                      1                                                            \n",
       "Agriculture, forestry and fishing (A)    Agriculture: Chain volume measures                Annual   \n",
       "                                         Forestry and fishing: Chain volume measures       Annual   \n",
       "                                         Chain volume measures                             Annual   \n",
       "Mining (B)                               Coal mining: Chain volume measures                Annual   \n",
       "                                         Oil and gas extraction: Chain volume measures     Annual   \n",
       "...                                                                                           ...   \n",
       "Health care and social assistance (Q)    Percentage of GVA at basic prices, current pr...  Annual   \n",
       "Arts and recreation services (R)         Percentage of GVA at basic prices, current pr...  Annual   \n",
       "Other services (S)                       Percentage of GVA at basic prices, current pr...  Annual   \n",
       "Ownership of dwellings                   Percentage of GVA at basic prices, current pr...  Annual   \n",
       "All industries                           Percentage of GVA at basic prices, current pr...  Annual   \n",
       "\n",
       "                                                                                           Collection Month  \n",
       "0                                      1                                                                     \n",
       "Agriculture, forestry and fishing (A)    Agriculture: Chain volume measures                               6  \n",
       "                                         Forestry and fishing: Chain volume measures                      6  \n",
       "                                         Chain volume measures                                            6  \n",
       "Mining (B)                               Coal mining: Chain volume measures                               6  \n",
       "                                         Oil and gas extraction: Chain volume measures                    6  \n",
       "...                                                                                                     ...  \n",
       "Health care and social assistance (Q)    Percentage of GVA at basic prices, current pr...                 6  \n",
       "Arts and recreation services (R)         Percentage of GVA at basic prices, current pr...                 6  \n",
       "Other services (S)                       Percentage of GVA at basic prices, current pr...                 6  \n",
       "Ownership of dwellings                   Percentage of GVA at basic prices, current pr...                 6  \n",
       "All industries                           Percentage of GVA at basic prices, current pr...                 6  \n",
       "\n",
       "[154 rows x 9 columns]"
      ],
      "text/html": "<div>\n<style scoped>\n    .dataframe tbody tr th:only-of-type {\n        vertical-align: middle;\n    }\n\n    .dataframe tbody tr th {\n        vertical-align: top;\n    }\n\n    .dataframe thead th {\n        text-align: right;\n    }\n</style>\n<table border=\"1\" class=\"dataframe\">\n  <thead>\n    <tr style=\"text-align: right;\">\n      <th></th>\n      <th></th>\n      <th>Series Type</th>\n      <th>Series ID</th>\n      <th>Series Start</th>\n      <th>Series End</th>\n      <th>No. Obs.</th>\n      <th>Unit</th>\n      <th>Data Type</th>\n      <th>Freq.</th>\n      <th>Collection Month</th>\n    </tr>\n    <tr>\n      <th>0</th>\n      <th>1</th>\n      <th></th>\n      <th></th>\n      <th></th>\n      <th></th>\n      <th></th>\n      <th></th>\n      <th></th>\n      <th></th>\n      <th></th>\n    </tr>\n  </thead>\n  <tbody>\n    <tr>\n      <th rowspan=\"3\" valign=\"top\">Agriculture, forestry and fishing (A)</th>\n      <th>Agriculture: Chain volume measures</th>\n      <td>Original</td>\n      <td>A3347243W</td>\n      <td>Jun-75</td>\n      <td>Jun-20</td>\n      <td>46</td>\n      <td>$ Millions</td>\n      <td>DERIVED</td>\n      <td>Annual</td>\n      <td>6</td>\n    </tr>\n    <tr>\n      <th>Forestry and fishing: Chain volume measures</th>\n      <td>Original</td>\n      <td>A3347244X</td>\n      <td>Jun-75</td>\n      <td>Jun-20</td>\n      <td>46</td>\n      <td>$ Millions</td>\n      <td>DERIVED</td>\n      <td>Annual</td>\n      <td>6</td>\n    </tr>\n    <tr>\n      <th>Chain volume measures</th>\n      <td>Original</td>\n      <td>A3347242V</td>\n      <td>Jun-75</td>\n      <td>Jun-20</td>\n      <td>46</td>\n      <td>$ Millions</td>\n      <td>DERIVED</td>\n      <td>Annual</td>\n      <td>6</td>\n    </tr>\n    <tr>\n      <th rowspan=\"2\" valign=\"top\">Mining (B)</th>\n      <th>Coal mining: Chain volume measures</th>\n      <td>Original</td>\n      <td>A3605348C</td>\n      <td>Jun-86</td>\n      <td>Jun-20</td>\n      <td>35</td>\n      <td>$ Millions</td>\n      <td>DERIVED</td>\n      <td>Annual</td>\n      <td>6</td>\n    </tr>\n    <tr>\n      <th>Oil and gas extraction: Chain volume measures</th>\n      <td>Original</td>\n      <td>A3605349F</td>\n      <td>Jun-86</td>\n      <td>Jun-20</td>\n      <td>35</td>\n      <td>$ Millions</td>\n      <td>DERIVED</td>\n      <td>Annual</td>\n      <td>6</td>\n    </tr>\n    <tr>\n      <th>...</th>\n      <th>...</th>\n      <td>...</td>\n      <td>...</td>\n      <td>...</td>\n      <td>...</td>\n      <td>...</td>\n      <td>...</td>\n      <td>...</td>\n      <td>...</td>\n      <td>...</td>\n    </tr>\n    <tr>\n      <th>Health care and social assistance (Q)</th>\n      <th>Percentage of GVA at basic prices, current prices</th>\n      <td>Original</td>\n      <td>A3347212F</td>\n      <td>Jun-90</td>\n      <td>Jun-20</td>\n      <td>31</td>\n      <td>proportion</td>\n      <td>DERIVED</td>\n      <td>Annual</td>\n      <td>6</td>\n    </tr>\n    <tr>\n      <th>Arts and recreation services (R)</th>\n      <th>Percentage of GVA at basic prices, current prices</th>\n      <td>Original</td>\n      <td>A3347213J</td>\n      <td>Jun-90</td>\n      <td>Jun-20</td>\n      <td>31</td>\n      <td>proportion</td>\n      <td>DERIVED</td>\n      <td>Annual</td>\n      <td>6</td>\n    </tr>\n    <tr>\n      <th>Other services (S)</th>\n      <th>Percentage of GVA at basic prices, current prices</th>\n      <td>Original</td>\n      <td>A3347214K</td>\n      <td>Jun-90</td>\n      <td>Jun-20</td>\n      <td>31</td>\n      <td>proportion</td>\n      <td>DERIVED</td>\n      <td>Annual</td>\n      <td>6</td>\n    </tr>\n    <tr>\n      <th>Ownership of dwellings</th>\n      <th>Percentage of GVA at basic prices, current prices</th>\n      <td>Original</td>\n      <td>A2421036A</td>\n      <td>Jun-90</td>\n      <td>Jun-20</td>\n      <td>31</td>\n      <td>proportion</td>\n      <td>DERIVED</td>\n      <td>Annual</td>\n      <td>6</td>\n    </tr>\n    <tr>\n      <th>All industries</th>\n      <th>Percentage of GVA at basic prices, current prices</th>\n      <td>Original</td>\n      <td>A2421037C</td>\n      <td>Jun-90</td>\n      <td>Jun-20</td>\n      <td>31</td>\n      <td>proportion</td>\n      <td>DERIVED</td>\n      <td>Annual</td>\n      <td>6</td>\n    </tr>\n  </tbody>\n</table>\n<p>154 rows × 9 columns</p>\n</div>"
     },
     "metadata": {},
     "execution_count": 61
    }
   ],
   "source": [
    "meta_data"
   ]
  },
  {
   "cell_type": "code",
   "execution_count": 62,
   "metadata": {},
   "outputs": [],
   "source": [
    " analysis_df = meta_data[meta_data['Unit'] == 'proportion']"
   ]
  },
  {
   "cell_type": "code",
   "execution_count": 63,
   "metadata": {},
   "outputs": [
    {
     "output_type": "execute_result",
     "data": {
      "text/plain": [
       "   Percentage of GVA at basic prices, current pr...  A3347206K   \n",
       "Rental, hiring and real estate services (L)          Percentage of GVA at basic prices, current pr...  A3347207L   \n",
       "Professional, scientific and technical services...   Percentage of GVA at basic prices, current pr...  A3347208R   \n",
       "Administrative and support services (N)              Percentage of GVA at basic prices, current pr...  A3347209T   \n",
       "Public administration and safety (O)                 Percentage of GVA at basic prices, current pr...  A3347210A   \n",
       "Education and training (P)                           Percentage of GVA at basic prices, current pr...  A3347211C   \n",
       "Health care and social assistance (Q)                Percentage of GVA at basic prices, current pr...  A3347212F   \n",
       "Arts and recreation services (R)                     Percentage of GVA at basic prices, current pr...  A3347213J   \n",
       "Other services (S)                                   Percentage of GVA at basic prices, current pr...  A3347214K   \n",
       "Ownership of dwellings                               Percentage of GVA at basic prices, current pr...  A2421036A   \n",
       "All industries                                       Percentage of GVA at basic prices, current pr...  A2421037C   \n",
       "\n",
       "                                                                                                      Series Start  \\\n",
       "0                                                  1                                                                 \n",
       "Agriculture, forestry and fishing (A)                Percentage of GVA at basic prices, current pr...       Jun-90   \n",
       "Mining (B)                                           Percentage of GVA at basic prices, current pr...       Jun-90   \n",
       "Manufacturing (C)                                    Percentage of GVA at basic prices, current pr...       Jun-90   \n",
       "Electricity, gas, water and waste services (D)       Percentage of GVA at basic prices, current pr...       Jun-90   \n",
       "Construction (E)                                     Percentage of GVA at basic prices, current pr...       Jun-90   \n",
       "Wholesale trade (F)                                  Percentage of GVA at basic prices, current pr...       Jun-90   \n",
       "Retail trade (G)                                     Percentage of GVA at basic prices, current pr...       Jun-90   \n",
       "Accommodation and food services (H)                  Percentage of GVA at basic prices, current pr...       Jun-90   \n",
       "Transport, postal and warehousing (I)                Percentage of GVA at basic prices, current pr...       Jun-90   \n",
       "Information media and telecommunications (J)         Percentage of GVA at basic prices, current pr...       Jun-90   \n",
       "Financial and insurance services (K)                 Percentage of GVA at basic prices, current pr...       Jun-90   \n",
       "Rental, hiring and real estate services (L)          Percentage of GVA at basic prices, current pr...       Jun-90   \n",
       "Professional, scientific and technical services...   Percentage of GVA at basic prices, current pr...       Jun-90   \n",
       "Administrative and support services (N)              Percentage of GVA at basic prices, current pr...       Jun-90   \n",
       "Public administration and safety (O)                 Percentage of GVA at basic prices, current pr...       Jun-90   \n",
       "Education and training (P)                           Percentage of GVA at basic prices, current pr...       Jun-90   \n",
       "Health care and social assistance (Q)                Percentage of GVA at basic prices, current pr...       Jun-90   \n",
       "Arts and recreation services (R)                     Percentage of GVA at basic prices, current pr...       Jun-90   \n",
       "Other services (S)                                   Percentage of GVA at basic prices, current pr...       Jun-90   \n",
       "Ownership of dwellings                               Percentage of GVA at basic prices, current pr...       Jun-90   \n",
       "All industries                                       Percentage of GVA at basic prices, current pr...       Jun-90   \n",
       "\n",
       "                                                                                                      Series End  \\\n",
       "0                                                  1                                                               \n",
       "Agriculture, forestry and fishing (A)                Percentage of GVA at basic prices, current pr...     Jun-20   \n",
       "Mining (B)                                           Percentage of GVA at basic prices, current pr...     Jun-20   \n",
       "Manufacturing (C)                                    Percentage of GVA at basic prices, current pr...     Jun-20   \n",
       "Electricity, gas, water and waste services (D)       Percentage of GVA at basic prices, current pr...     Jun-20   \n",
       "Construction (E)                                     Percentage of GVA at basic prices, current pr...     Jun-20   \n",
       "Wholesale trade (F)                                  Percentage of GVA at basic prices, current pr...     Jun-20   \n",
       "Retail trade (G)                                     Percentage of GVA at basic prices, current pr...     Jun-20   \n",
       "Accommodation and food services (H)                  Percentage of GVA at basic prices, current pr...     Jun-20   \n",
       "Transport, postal and warehousing (I)                Percentage of GVA at basic prices, current pr...     Jun-20   \n",
       "Information media and telecommunications (J)         Percentage of GVA at basic prices, current pr...     Jun-20   \n",
       "Financial and insurance services (K)                 Percentage of GVA at basic prices, current pr...     Jun-20   \n",
       "Rental, hiring and real estate services (L)          Percentage of GVA at basic prices, current pr...     Jun-20   \n",
       "Professional, scientific and technical services...   Percentage of GVA at basic prices, current pr...     Jun-20   \n",
       "Administrative and support services (N)              Percentage of GVA at basic prices, current pr...     Jun-20   \n",
       "Public administration and safety (O)                 Percentage of GVA at basic prices, current pr...     Jun-20   \n",
       "Education and training (P)                           Percentage of GVA at basic prices, current pr...     Jun-20   \n",
       "Health care and social assistance (Q)                Percentage of GVA at basic prices, current pr...     Jun-20   \n",
       "Arts and recreation services (R)                     Percentage of GVA at basic prices, current pr...     Jun-20   \n",
       "Other services (S)                                   Percentage of GVA at basic prices, current pr...     Jun-20   \n",
       "Ownership of dwellings                               Percentage of GVA at basic prices, current pr...     Jun-20   \n",
       "All industries                                       Percentage of GVA at basic prices, current pr...     Jun-20   \n",
       "\n",
       "                                                                                                       No. Obs.  \\\n",
       "0                                                  1                                                              \n",
       "Agriculture, forestry and fishing (A)                Percentage of GVA at basic prices, current pr...        31   \n",
       "Mining (B)                                           Percentage of GVA at basic prices, current pr...        31   \n",
       "Manufacturing (C)                                    Percentage of GVA at basic prices, current pr...        31   \n",
       "Electricity, gas, water and waste services (D)       Percentage of GVA at basic prices, current pr...        31   \n",
       "Construction (E)                                     Percentage of GVA at basic prices, current pr...        31   \n",
       "Wholesale trade (F)                                  Percentage of GVA at basic prices, current pr...        31   \n",
       "Retail trade (G)                                     Percentage of GVA at basic prices, current pr...        31   \n",
       "Accommodation and food services (H)                  Percentage of GVA at basic prices, current pr...        31   \n",
       "Transport, postal and warehousing (I)                Percentage of GVA at basic prices, current pr...        31   \n",
       "Information media and telecommunications (J)         Percentage of GVA at basic prices, current pr...        31   \n",
       "Financial and insurance services (K)                 Percentage of GVA at basic prices, current pr...        31   \n",
       "Rental, hiring and real estate services (L)          Percentage of GVA at basic prices, current pr...        31   \n",
       "Professional, scientific and technical services...   Percentage of GVA at basic prices, current pr...        31   \n",
       "Administrative and support services (N)              Percentage of GVA at basic prices, current pr...        31   \n",
       "Public administration and safety (O)                 Percentage of GVA at basic prices, current pr...        31   \n",
       "Education and training (P)                           Percentage of GVA at basic prices, current pr...        31   \n",
       "Health care and social assistance (Q)                Percentage of GVA at basic prices, current pr...        31   \n",
       "Arts and recreation services (R)                     Percentage of GVA at basic prices, current pr...        31   \n",
       "Other services (S)                                   Percentage of GVA at basic prices, current pr...        31   \n",
       "Ownership of dwellings                               Percentage of GVA at basic prices, current pr...        31   \n",
       "All industries                                       Percentage of GVA at basic prices, current pr...        31   \n",
       "\n",
       "                                                                                                             Unit  \\\n",
       "0                                                  1                                                                \n",
       "Agriculture, forestry and fishing (A)                Percentage of GVA at basic prices, current pr...  proportion   \n",
       "Mining (B)                                           Percentage of GVA at basic prices, current pr...  proportion   \n",
       "Manufacturing (C)                                    Percentage of GVA at basic prices, current pr...  proportion   \n",
       "Electricity, gas, water and waste services (D)       Percentage of GVA at basic prices, current pr...  proportion   \n",
       "Construction (E)                                     Percentage of GVA at basic prices, current pr...  proportion   \n",
       "Wholesale trade (F)                                  Percentage of GVA at basic prices, current pr...  proportion   \n",
       "Retail trade (G)                                     Percentage of GVA at basic prices, current pr...  proportion   \n",
       "Accommodation and food services (H)                  Percentage of GVA at basic prices, current pr...  proportion   \n",
       "Transport, postal and warehousing (I)                Percentage of GVA at basic prices, current pr...  proportion   \n",
       "Information media and telecommunications (J)         Percentage of GVA at basic prices, current pr...  proportion   \n",
       "Financial and insurance services (K)                 Percentage of GVA at basic prices, current pr...  proportion   \n",
       "Rental, hiring and real estate services (L)          Percentage of GVA at basic prices, current pr...  proportion   \n",
       "Professional, scientific and technical services...   Percentage of GVA at basic prices, current pr...  proportion   \n",
       "Administrative and support services (N)              Percentage of GVA at basic prices, current pr...  proportion   \n",
       "Public administration and safety (O)                 Percentage of GVA at basic prices, current pr...  proportion   \n",
       "Education and training (P)                           Percentage of GVA at basic prices, current pr...  proportion   \n",
       "Health care and social assistance (Q)                Percentage of GVA at basic prices, current pr...  proportion   \n",
       "Arts and recreation services (R)                     Percentage of GVA at basic prices, current pr...  proportion   \n",
       "Other services (S)                                   Percentage of GVA at basic prices, current pr...  proportion   \n",
       "Ownership of dwellings                               Percentage of GVA at basic prices, current pr...  proportion   \n",
       "All industries                                       Percentage of GVA at basic prices, current pr...  proportion   \n",
       "\n",
       "                                                                                                      Data Type  \\\n",
       "0                                                  1                                                              \n",
       "Agriculture, forestry and fishing (A)                Percentage of GVA at basic prices, current pr...   DERIVED   \n",
       "Mining (B)                                           Percentage of GVA at basic prices, current pr...   DERIVED   \n",
       "Manufacturing (C)                                    Percentage of GVA at basic prices, current pr...   DERIVED   \n",
       "Electricity, gas, water and waste services (D)       Percentage of GVA at basic prices, current pr...   DERIVED   \n",
       "Construction (E)                                     Percentage of GVA at basic prices, current pr...   DERIVED   \n",
       "Wholesale trade (F)                                  Percentage of GVA at basic prices, current pr...   DERIVED   \n",
       "Retail trade (G)                                     Percentage of GVA at basic prices, current pr...   DERIVED   \n",
       "Accommodation and food services (H)                  Percentage of GVA at basic prices, current pr...   DERIVED   \n",
       "Transport, postal and warehousing (I)                Percentage of GVA at basic prices, current pr...   DERIVED   \n",
       "Information media and telecommunications (J)         Percentage of GVA at basic prices, current pr...   DERIVED   \n",
       "Financial and insurance services (K)                 Percentage of GVA at basic prices, current pr...   DERIVED   \n",
       "Rental, hiring and real estate services (L)          Percentage of GVA at basic prices, current pr...   DERIVED   \n",
       "Professional, scientific and technical services...   Percentage of GVA at basic prices, current pr...   DERIVED   \n",
       "Administrative and support services (N)              Percentage of GVA at basic prices, current pr...   DERIVED   \n",
       "Public administration and safety (O)                 Percentage of GVA at basic prices, current pr...   DERIVED   \n",
       "Education and training (P)                           Percentage of GVA at basic prices, current pr...   DERIVED   \n",
       "Health care and social assistance (Q)                Percentage of GVA at basic prices, current pr...   DERIVED   \n",
       "Arts and recreation services (R)                     Percentage of GVA at basic prices, current pr...   DERIVED   \n",
       "Other services (S)                                   Percentage of GVA at basic prices, current pr...   DERIVED   \n",
       "Ownership of dwellings                               Percentage of GVA at basic prices, current pr...   DERIVED   \n",
       "All industries                                       Percentage of GVA at basic prices, current pr...   DERIVED   \n",
       "\n",
       "                                                                                                        Freq.  \\\n",
       "0                                                  1                                                            \n",
       "Agriculture, forestry and fishing (A)                Percentage of GVA at basic prices, current pr...  Annual   \n",
       "Mining (B)                                           Percentage of GVA at basic prices, current pr...  Annual   \n",
       "Manufacturing (C)                                    Percentage of GVA at basic prices, current pr...  Annual   \n",
       "Electricity, gas, water and waste services (D)       Percentage of GVA at basic prices, current pr...  Annual   \n",
       "Construction (E)                                     Percentage of GVA at basic prices, current pr...  Annual   \n",
       "Wholesale trade (F)                                  Percentage of GVA at basic prices, current pr...  Annual   \n",
       "Retail trade (G)                                     Percentage of GVA at basic prices, current pr...  Annual   \n",
       "Accommodation and food services (H)                  Percentage of GVA at basic prices, current pr...  Annual   \n",
       "Transport, postal and warehousing (I)                Percentage of GVA at basic prices, current pr...  Annual   \n",
       "Information media and telecommunications (J)         Percentage of GVA at basic prices, current pr...  Annual   \n",
       "Financial and insurance services (K)                 Percentage of GVA at basic prices, current pr...  Annual   \n",
       "Rental, hiring and real estate services (L)          Percentage of GVA at basic prices, current pr...  Annual   \n",
       "Professional, scientific and technical services...   Percentage of GVA at basic prices, current pr...  Annual   \n",
       "Administrative and support services (N)              Percentage of GVA at basic prices, current pr...  Annual   \n",
       "Public administration and safety (O)                 Percentage of GVA at basic prices, current pr...  Annual   \n",
       "Education and training (P)                           Percentage of GVA at basic prices, current pr...  Annual   \n",
       "Health care and social assistance (Q)                Percentage of GVA at basic prices, current pr...  Annual   \n",
       "Arts and recreation services (R)                     Percentage of GVA at basic prices, current pr...  Annual   \n",
       "Other services (S)                                   Percentage of GVA at basic prices, current pr...  Annual   \n",
       "Ownership of dwellings                               Percentage of GVA at basic prices, current pr...  Annual   \n",
       "All industries                                       Percentage of GVA at basic prices, current pr...  Annual   \n",
       "\n",
       "                                                                                                       Collection Month  \n",
       "0                                                  1                                                                     \n",
       "Agriculture, forestry and fishing (A)                Percentage of GVA at basic prices, current pr...                 6  \n",
       "Mining (B)                                           Percentage of GVA at basic prices, current pr...                 6  \n",
       "Manufacturing (C)                                    Percentage of GVA at basic prices, current pr...                 6  \n",
       "Electricity, gas, water and waste services (D)       Percentage of GVA at basic prices, current pr...                 6  \n",
       "Construction (E)                                     Percentage of GVA at basic prices, current pr...                 6  \n",
       "Wholesale trade (F)                                  Percentage of GVA at basic prices, current pr...                 6  \n",
       "Retail trade (G)                                     Percentage of GVA at basic prices, current pr...                 6  \n",
       "Accommodation and food services (H)                  Percentage of GVA at basic prices, current pr...                 6  \n",
       "Transport, postal and warehousing (I)                Percentage of GVA at basic prices, current pr...                 6  \n",
       "Information media and telecommunications (J)         Percentage of GVA at basic prices, current pr...                 6  \n",
       "Financial and insurance services (K)                 Percentage of GVA at basic prices, current pr...                 6  \n",
       "Rental, hiring and real estate services (L)          Percentage of GVA at basic prices, current pr...                 6  \n",
       "Professional, scientific and technical services...   Percentage of GVA at basic prices, current pr...                 6  \n",
       "Administrative and support services (N)              Percentage of GVA at basic prices, current pr...                 6  \n",
       "Public administration and safety (O)                 Percentage of GVA at basic prices, current pr...                 6  \n",
       "Education and training (P)                           Percentage of GVA at basic prices, current pr...                 6  \n",
       "Health care and social assistance (Q)                Percentage of GVA at basic prices, current pr...                 6  \n",
       "Arts and recreation services (R)                     Percentage of GVA at basic prices, current pr...                 6  \n",
       "Other services (S)                                   Percentage of GVA at basic prices, current pr...                 6  \n",
       "Ownership of dwellings                               Percentage of GVA at basic prices, current pr...                 6  \n",
       "All industries                                       Percentage of GVA at basic prices, current pr...                 6  "
      ],
      "text/html": "<div>\n<style scoped>\n    .dataframe tbody tr th:only-of-type {\n        vertical-align: middle;\n    }\n\n    .dataframe tbody tr th {\n        vertical-align: top;\n    }\n\n    .dataframe thead th {\n        text-align: right;\n    }\n</style>\n<table border=\"1\" class=\"dataframe\">\n  <thead>\n    <tr style=\"text-align: right;\">\n      <th></th>\n      <th></th>\n      <th>Series Type</th>\n      <th>Series ID</th>\n      <th>Series Start</th>\n      <th>Series End</th>\n      <th>No. Obs.</th>\n      <th>Unit</th>\n      <th>Data Type</th>\n      <th>Freq.</th>\n      <th>Collection Month</th>\n    </tr>\n    <tr>\n      <th>0</th>\n      <th>1</th>\n      <th></th>\n      <th></th>\n      <th></th>\n      <th></th>\n      <th></th>\n      <th></th>\n      <th></th>\n      <th></th>\n      <th></th>\n    </tr>\n  </thead>\n  <tbody>\n    <tr>\n      <th>Agriculture, forestry and fishing (A)</th>\n      <th>Percentage of GVA at basic prices, current prices</th>\n      <td>Original</td>\n      <td>A3347196T</td>\n      <td>Jun-90</td>\n      <td>Jun-20</td>\n      <td>31</td>\n      <td>proportion</td>\n      <td>DERIVED</td>\n      <td>Annual</td>\n      <td>6</td>\n    </tr>\n    <tr>\n      <th>Mining (B)</th>\n      <th>Percentage of GVA at basic prices, current prices</th>\n      <td>Original</td>\n      <td>A3347197V</td>\n      <td>Jun-90</td>\n      <td>Jun-20</td>\n      <td>31</td>\n      <td>proportion</td>\n      <td>DERIVED</td>\n      <td>Annual</td>\n      <td>6</td>\n    </tr>\n    <tr>\n      <th>Manufacturing (C)</th>\n      <th>Percentage of GVA at basic prices, current prices</th>\n      <td>Original</td>\n      <td>A3347198W</td>\n      <td>Jun-90</td>\n      <td>Jun-20</td>\n      <td>31</td>\n      <td>proportion</td>\n      <td>DERIVED</td>\n      <td>Annual</td>\n      <td>6</td>\n    </tr>\n    <tr>\n      <th>Electricity, gas, water and waste services (D)</th>\n      <th>Percentage of GVA at basic prices, current prices</th>\n      <td>Original</td>\n      <td>A3347199X</td>\n      <td>Jun-90</td>\n      <td>Jun-20</td>\n      <td>31</td>\n      <td>proportion</td>\n      <td>DERIVED</td>\n      <td>Annual</td>\n      <td>6</td>\n    </tr>\n    <tr>\n      <th>Construction (E)</th>\n      <th>Percentage of GVA at basic prices, current prices</th>\n      <td>Original</td>\n      <td>A3347200W</td>\n      <td>Jun-90</td>\n      <td>Jun-20</td>\n      <td>31</td>\n      <td>proportion</td>\n      <td>DERIVED</td>\n      <td>Annual</td>\n      <td>6</td>\n    </tr>\n    <tr>\n      <th>Wholesale trade (F)</th>\n      <th>Percentage of GVA at basic prices, current prices</th>\n      <td>Original</td>\n      <td>A3347201X</td>\n      <td>Jun-90</td>\n      <td>Jun-20</td>\n      <td>31</td>\n      <td>proportion</td>\n      <td>DERIVED</td>\n      <td>Annual</td>\n      <td>6</td>\n    </tr>\n    <tr>\n      <th>Retail trade (G)</th>\n      <th>Percentage of GVA at basic prices, current prices</th>\n      <td>Original</td>\n      <td>A3347202A</td>\n      <td>Jun-90</td>\n      <td>Jun-20</td>\n      <td>31</td>\n      <td>proportion</td>\n      <td>DERIVED</td>\n      <td>Annual</td>\n      <td>6</td>\n    </tr>\n    <tr>\n      <th>Accommodation and food services (H)</th>\n      <th>Percentage of GVA at basic prices, current prices</th>\n      <td>Original</td>\n      <td>A3347203C</td>\n      <td>Jun-90</td>\n      <td>Jun-20</td>\n      <td>31</td>\n      <td>proportion</td>\n      <td>DERIVED</td>\n      <td>Annual</td>\n      <td>6</td>\n    </tr>\n    <tr>\n      <th>Transport, postal and warehousing (I)</th>\n      <th>Percentage of GVA at basic prices, current prices</th>\n      <td>Original</td>\n      <td>A3347204F</td>\n      <td>Jun-90</td>\n      <td>Jun-20</td>\n      <td>31</td>\n      <td>proportion</td>\n      <td>DERIVED</td>\n      <td>Annual</td>\n      <td>6</td>\n    </tr>\n    <tr>\n      <th>Information media and telecommunications (J)</th>\n      <th>Percentage of GVA at basic prices, current prices</th>\n      <td>Original</td>\n      <td>A3347205J</td>\n      <td>Jun-90</td>\n      <td>Jun-20</td>\n      <td>31</td>\n      <td>proportion</td>\n      <td>DERIVED</td>\n      <td>Annual</td>\n      <td>6</td>\n    </tr>\n    <tr>\n      <th>Financial and insurance services (K)</th>\n      <th>Percentage of GVA at basic prices, current prices</th>\n      <td>Original</td>\n      <td>A3347206K</td>\n      <td>Jun-90</td>\n      <td>Jun-20</td>\n      <td>31</td>\n      <td>proportion</td>\n      <td>DERIVED</td>\n      <td>Annual</td>\n      <td>6</td>\n    </tr>\n    <tr>\n      <th>Rental, hiring and real estate services (L)</th>\n      <th>Percentage of GVA at basic prices, current prices</th>\n      <td>Original</td>\n      <td>A3347207L</td>\n      <td>Jun-90</td>\n      <td>Jun-20</td>\n      <td>31</td>\n      <td>proportion</td>\n      <td>DERIVED</td>\n      <td>Annual</td>\n      <td>6</td>\n    </tr>\n    <tr>\n      <th>Professional, scientific and technical services (M)</th>\n      <th>Percentage of GVA at basic prices, current prices</th>\n      <td>Original</td>\n      <td>A3347208R</td>\n      <td>Jun-90</td>\n      <td>Jun-20</td>\n      <td>31</td>\n      <td>proportion</td>\n      <td>DERIVED</td>\n      <td>Annual</td>\n      <td>6</td>\n    </tr>\n    <tr>\n      <th>Administrative and support services (N)</th>\n      <th>Percentage of GVA at basic prices, current prices</th>\n      <td>Original</td>\n      <td>A3347209T</td>\n      <td>Jun-90</td>\n      <td>Jun-20</td>\n      <td>31</td>\n      <td>proportion</td>\n      <td>DERIVED</td>\n      <td>Annual</td>\n      <td>6</td>\n    </tr>\n    <tr>\n      <th>Public administration and safety (O)</th>\n      <th>Percentage of GVA at basic prices, current prices</th>\n      <td>Original</td>\n      <td>A3347210A</td>\n      <td>Jun-90</td>\n      <td>Jun-20</td>\n      <td>31</td>\n      <td>proportion</td>\n      <td>DERIVED</td>\n      <td>Annual</td>\n      <td>6</td>\n    </tr>\n    <tr>\n      <th>Education and training (P)</th>\n      <th>Percentage of GVA at basic prices, current prices</th>\n      <td>Original</td>\n      <td>A3347211C</td>\n      <td>Jun-90</td>\n      <td>Jun-20</td>\n      <td>31</td>\n      <td>proportion</td>\n      <td>DERIVED</td>\n      <td>Annual</td>\n      <td>6</td>\n    </tr>\n    <tr>\n      <th>Health care and social assistance (Q)</th>\n      <th>Percentage of GVA at basic prices, current prices</th>\n      <td>Original</td>\n      <td>A3347212F</td>\n      <td>Jun-90</td>\n      <td>Jun-20</td>\n      <td>31</td>\n      <td>proportion</td>\n      <td>DERIVED</td>\n      <td>Annual</td>\n      <td>6</td>\n    </tr>\n    <tr>\n      <th>Arts and recreation services (R)</th>\n      <th>Percentage of GVA at basic prices, current prices</th>\n      <td>Original</td>\n      <td>A3347213J</td>\n      <td>Jun-90</td>\n      <td>Jun-20</td>\n      <td>31</td>\n      <td>proportion</td>\n      <td>DERIVED</td>\n      <td>Annual</td>\n      <td>6</td>\n    </tr>\n    <tr>\n      <th>Other services (S)</th>\n      <th>Percentage of GVA at basic prices, current prices</th>\n      <td>Original</td>\n      <td>A3347214K</td>\n      <td>Jun-90</td>\n      <td>Jun-20</td>\n      <td>31</td>\n      <td>proportion</td>\n      <td>DERIVED</td>\n      <td>Annual</td>\n      <td>6</td>\n    </tr>\n    <tr>\n      <th>Ownership of dwellings</th>\n      <th>Percentage of GVA at basic prices, current prices</th>\n      <td>Original</td>\n      <td>A2421036A</td>\n      <td>Jun-90</td>\n      <td>Jun-20</td>\n      <td>31</td>\n      <td>proportion</td>\n      <td>DERIVED</td>\n      <td>Annual</td>\n      <td>6</td>\n    </tr>\n    <tr>\n      <th>All industries</th>\n      <th>Percentage of GVA at basic prices, current prices</th>\n      <td>Original</td>\n      <td>A2421037C</td>\n      <td>Jun-90</td>\n      <td>Jun-20</td>\n      <td>31</td>\n      <td>proportion</td>\n      <td>DERIVED</td>\n      <td>Annual</td>\n      <td>6</td>\n    </tr>\n  </tbody>\n</table>\n</div>"
     },
     "metadata": {},
     "execution_count": 63
    }
   ],
   "source": [
    "analysis_df"
   ]
  },
  {
   "source": [
    "## Load and analyse indicators"
   ],
   "cell_type": "markdown",
   "metadata": {}
  },
  {
   "cell_type": "code",
   "execution_count": 64,
   "metadata": {},
   "outputs": [],
   "source": [
    "ind_data = pd.read_csv('./data/5204005_GVA_by_Industry_data_mine.csv',index_col='Date',parse_dates=True)"
   ]
  },
  {
   "cell_type": "code",
   "execution_count": 65,
   "metadata": {},
   "outputs": [],
   "source": [
    "contri_df = ind_data[ind_data.columns.intersection(analysis_df['Series ID'].to_list())]"
   ]
  },
  {
   "cell_type": "code",
   "execution_count": 66,
   "metadata": {},
   "outputs": [],
   "source": [
    "for col in contri_df.columns:\n",
    "    name = analysis_df[analysis_df['Series ID'] == col].index[0][0]\n",
    "    contri_df.rename(columns={col:name},inplace=True)"
   ]
  },
  {
   "cell_type": "code",
   "execution_count": 67,
   "metadata": {},
   "outputs": [],
   "source": [
    "#change to shape of index as periods\n",
    "contri_df.set_index(pd.PeriodIndex(pd.date_range(\"2000-Jun\", periods=21, freq=\"A-JUN\"), freq=\"y\"), drop=True,inplace=True)"
   ]
  },
  {
   "cell_type": "code",
   "execution_count": 68,
   "metadata": {},
   "outputs": [
    {
     "output_type": "display_data",
     "data": {},
     "metadata": {}
    },
    {
     "output_type": "execute_result",
     "data": {
      "text/html": "<div id='1940'>\n\n\n\n\n\n  <div class=\"bk-root\" id=\"a4bf4f75-4679-4c5e-b170-e8becdf8870a\" data-root-id=\"1940\"></div>\n</div>\n<script type=\"application/javascript\">(function(root) {\n  function embed_document(root) {\n    var docs_json = {\"a2605705-df75-4d6d-86f9-9dfb967d7a9e\":{\"defs\":[],\"roots\":{\"references\":[{\"attributes\":{},\"id\":\"1988\",\"type\":\"AllLabels\"},{\"attributes\":{},\"id\":\"1965\",\"type\":\"ResetTool\"},{\"attributes\":{\"margin\":[5,5,5,5],\"name\":\"HSpacer03483\",\"sizing_mode\":\"stretch_width\"},\"id\":\"2022\",\"type\":\"Spacer\"},{\"attributes\":{},\"id\":\"1987\",\"type\":\"CategoricalTickFormatter\"},{\"attributes\":{\"bottom\":{\"field\":\"bottom\"},\"fill_alpha\":{\"value\":0.1},\"fill_color\":{\"field\":\"Variable\",\"transform\":{\"id\":\"1974\"}},\"line_alpha\":{\"value\":0.1},\"top\":{\"field\":\"top\"},\"width\":{\"value\":0.8},\"x\":{\"field\":\"index\"}},\"id\":\"1979\",\"type\":\"VBar\"},{\"attributes\":{},\"id\":\"1976\",\"type\":\"Selection\"},{\"attributes\":{\"bottom\":{\"field\":\"bottom\"},\"fill_color\":{\"field\":\"Variable\",\"transform\":{\"id\":\"1974\"}},\"top\":{\"field\":\"top\"},\"width\":{\"value\":0.8},\"x\":{\"field\":\"index\"}},\"id\":\"1978\",\"type\":\"VBar\"},{\"attributes\":{\"axis_label\":\"\",\"formatter\":{\"id\":\"1987\"},\"major_label_policy\":{\"id\":\"1988\"},\"ticker\":{\"id\":\"1955\"}},\"id\":\"1954\",\"type\":\"CategoricalAxis\"},{\"attributes\":{\"overlay\":{\"id\":\"1966\"}},\"id\":\"1964\",\"type\":\"BoxZoomTool\"},{\"attributes\":{\"active_multi\":null,\"tools\":[{\"id\":\"1944\"},{\"id\":\"1961\"},{\"id\":\"1962\"},{\"id\":\"1963\"},{\"id\":\"1964\"},{\"id\":\"1965\"}]},\"id\":\"1967\",\"type\":\"Toolbar\"},{\"attributes\":{\"axis_label\":\"\",\"formatter\":{\"id\":\"1984\"},\"major_label_policy\":{\"id\":\"1985\"},\"ticker\":{\"id\":\"1958\"}},\"id\":\"1957\",\"type\":\"LinearAxis\"},{\"attributes\":{\"children\":[{\"id\":\"1941\"},{\"id\":\"1945\"},{\"id\":\"2022\"}],\"margin\":[0,0,0,0],\"name\":\"Row03478\",\"tags\":[\"embedded\"]},\"id\":\"1940\",\"type\":\"Row\"},{\"attributes\":{\"bottom\":{\"field\":\"bottom\"},\"fill_alpha\":{\"value\":0.2},\"fill_color\":{\"field\":\"Variable\",\"transform\":{\"id\":\"1974\"}},\"line_alpha\":{\"value\":0.2},\"top\":{\"field\":\"top\"},\"width\":{\"value\":0.8},\"x\":{\"field\":\"index\"}},\"id\":\"1980\",\"type\":\"VBar\"},{\"attributes\":{\"source\":{\"id\":\"1975\"}},\"id\":\"1982\",\"type\":\"CDSView\"},{\"attributes\":{\"data_source\":{\"id\":\"1975\"},\"glyph\":{\"id\":\"1978\"},\"hover_glyph\":null,\"muted_glyph\":{\"id\":\"1980\"},\"nonselection_glyph\":{\"id\":\"1979\"},\"selection_glyph\":{\"id\":\"1995\"},\"view\":{\"id\":\"1982\"}},\"id\":\"1981\",\"type\":\"GlyphRenderer\"},{\"attributes\":{\"below\":[{\"id\":\"1954\"}],\"center\":[{\"id\":\"1956\"},{\"id\":\"1960\"},{\"id\":\"1993\"}],\"height\":800,\"left\":[{\"id\":\"1957\"}],\"margin\":[5,5,5,5],\"min_border_bottom\":10,\"min_border_left\":10,\"min_border_right\":10,\"min_border_top\":10,\"renderers\":[{\"id\":\"1981\"}],\"right\":[{\"id\":\"1993\"}],\"sizing_mode\":\"fixed\",\"title\":{\"id\":\"1946\"},\"toolbar\":{\"id\":\"1967\"},\"width\":1800,\"x_range\":{\"id\":\"1942\"},\"x_scale\":{\"id\":\"1950\"},\"y_range\":{\"id\":\"1943\"},\"y_scale\":{\"id\":\"1952\"}},\"id\":\"1945\",\"subtype\":\"Figure\",\"type\":\"Plot\"},{\"attributes\":{\"label\":{\"field\":\"Variable\"},\"renderers\":[{\"id\":\"1981\"}]},\"id\":\"1994\",\"type\":\"LegendItem\"},{\"attributes\":{},\"id\":\"1990\",\"type\":\"UnionRenderers\"},{\"attributes\":{\"items\":[{\"id\":\"1994\"}],\"location\":[0,0]},\"id\":\"1993\",\"type\":\"Legend\"},{\"attributes\":{\"margin\":[5,5,5,5],\"name\":\"HSpacer03482\",\"sizing_mode\":\"stretch_width\"},\"id\":\"1941\",\"type\":\"Spacer\"},{\"attributes\":{},\"id\":\"1985\",\"type\":\"AllLabels\"},{\"attributes\":{},\"id\":\"1958\",\"type\":\"BasicTicker\"},{\"attributes\":{\"text\":\"Contribution by Industry to GDP\",\"text_color\":\"black\",\"text_font_size\":\"12pt\"},\"id\":\"1946\",\"type\":\"Title\"},{\"attributes\":{\"axis\":{\"id\":\"1954\"},\"grid_line_color\":null,\"ticker\":null},\"id\":\"1956\",\"type\":\"Grid\"},{\"attributes\":{},\"id\":\"1961\",\"type\":\"SaveTool\"},{\"attributes\":{\"callback\":null,\"renderers\":[{\"id\":\"1981\"}],\"tags\":[\"hv_created\"],\"tooltips\":[[\"index\",\"@{index}\"],[\"Variable\",\"@{Variable}\"],[\"value\",\"@{value}\"]]},\"id\":\"1944\",\"type\":\"HoverTool\"},{\"attributes\":{\"factors\":[\"Agriculture, forestry and fishing (A) \",\"Mining (B) \",\"Manufacturing (C) \",\"Electricity, gas, water and waste services (D) \",\"Construction (E) \",\"Wholesale trade (F) \",\"Retail trade (G) \",\"Accommodation and food services (H) \",\"Transport, postal and warehousing (I) \",\"Information media and telecommunications (J) \",\"Financial and insurance services (K) \",\"Rental, hiring and real estate services (L) \",\"Professional, scientific and technical services (M) \",\"Administrative and support services (N) \",\"Public administration and safety (O) \",\"Education and training (P) \",\"Health care and social assistance (Q) \",\"Arts and recreation services (R) \",\"Other services (S) \",\"Ownership of dwellings \"],\"palette\":[\"#30a2da\",\"#fc4f30\",\"#e5ae38\",\"#6d904f\",\"#8b8b8b\",\"#17becf\",\"#9467bd\",\"#d62728\",\"#1f77b4\",\"#e377c2\",\"#8c564b\",\"#bcbd22\",\"#30a2da\",\"#fc4f30\",\"#e5ae38\",\"#6d904f\",\"#8b8b8b\",\"#17becf\",\"#9467bd\",\"#d62728\"]},\"id\":\"1974\",\"type\":\"CategoricalColorMapper\"},{\"attributes\":{\"data\":{\"Variable\":[\"Agriculture, forestry and fishing (A) \",\"Agriculture, forestry and fishing (A) \",\"Agriculture, forestry and fishing (A) \",\"Agriculture, forestry and fishing (A) \",\"Agriculture, forestry and fishing (A) \",\"Agriculture, forestry and fishing (A) \",\"Agriculture, forestry and fishing (A) \",\"Agriculture, forestry and fishing (A) \",\"Agriculture, forestry and fishing (A) \",\"Agriculture, forestry and fishing (A) \",\"Agriculture, forestry and fishing (A) \",\"Agriculture, forestry and fishing (A) \",\"Agriculture, forestry and fishing (A) \",\"Agriculture, forestry and fishing (A) \",\"Agriculture, forestry and fishing (A) \",\"Agriculture, forestry and fishing (A) \",\"Agriculture, forestry and fishing (A) \",\"Agriculture, forestry and fishing (A) \",\"Agriculture, forestry and fishing (A) \",\"Agriculture, forestry and fishing (A) \",\"Agriculture, forestry and fishing (A) \",\"Mining (B) \",\"Mining (B) \",\"Mining (B) \",\"Mining (B) \",\"Mining (B) \",\"Mining (B) \",\"Mining (B) \",\"Mining (B) \",\"Mining (B) \",\"Mining (B) \",\"Mining (B) \",\"Mining (B) \",\"Mining (B) \",\"Mining (B) \",\"Mining (B) \",\"Mining (B) \",\"Mining (B) \",\"Mining (B) \",\"Mining (B) \",\"Mining (B) \",\"Mining (B) \",\"Manufacturing (C) \",\"Manufacturing (C) \",\"Manufacturing (C) \",\"Manufacturing (C) \",\"Manufacturing (C) \",\"Manufacturing (C) \",\"Manufacturing (C) \",\"Manufacturing (C) \",\"Manufacturing (C) \",\"Manufacturing (C) \",\"Manufacturing (C) \",\"Manufacturing (C) \",\"Manufacturing (C) \",\"Manufacturing (C) \",\"Manufacturing (C) \",\"Manufacturing (C) \",\"Manufacturing (C) \",\"Manufacturing (C) \",\"Manufacturing (C) \",\"Manufacturing (C) \",\"Manufacturing (C) \",\"Electricity, gas, water and waste services (D) \",\"Electricity, gas, water and waste services (D) \",\"Electricity, gas, water and waste services (D) \",\"Electricity, gas, water and waste services (D) \",\"Electricity, gas, water and waste services (D) \",\"Electricity, gas, water and waste services (D) \",\"Electricity, gas, water and waste services (D) \",\"Electricity, gas, water and waste services (D) \",\"Electricity, gas, water and waste services (D) \",\"Electricity, gas, water and waste services (D) \",\"Electricity, gas, water and waste services (D) \",\"Electricity, gas, water and waste services (D) \",\"Electricity, gas, water and waste services (D) \",\"Electricity, gas, water and waste services (D) \",\"Electricity, gas, water and waste services (D) \",\"Electricity, gas, water and waste services (D) \",\"Electricity, gas, water and waste services (D) \",\"Electricity, gas, water and waste services (D) \",\"Electricity, gas, water and waste services (D) \",\"Electricity, gas, water and waste services (D) \",\"Electricity, gas, water and waste services (D) \",\"Construction (E) \",\"Construction (E) \",\"Construction (E) \",\"Construction (E) \",\"Construction (E) \",\"Construction (E) \",\"Construction (E) \",\"Construction (E) \",\"Construction (E) \",\"Construction (E) \",\"Construction (E) \",\"Construction (E) \",\"Construction (E) \",\"Construction (E) \",\"Construction (E) \",\"Construction (E) \",\"Construction (E) \",\"Construction (E) \",\"Construction (E) \",\"Construction (E) \",\"Construction (E) \",\"Wholesale trade (F) \",\"Wholesale trade (F) \",\"Wholesale trade (F) \",\"Wholesale trade (F) \",\"Wholesale trade (F) \",\"Wholesale trade (F) \",\"Wholesale trade (F) \",\"Wholesale trade (F) \",\"Wholesale trade (F) \",\"Wholesale trade (F) \",\"Wholesale trade (F) \",\"Wholesale trade (F) \",\"Wholesale trade (F) \",\"Wholesale trade (F) \",\"Wholesale trade (F) \",\"Wholesale trade (F) \",\"Wholesale trade (F) \",\"Wholesale trade (F) \",\"Wholesale trade (F) \",\"Wholesale trade (F) \",\"Wholesale trade (F) \",\"Retail trade (G) \",\"Retail trade (G) \",\"Retail trade (G) \",\"Retail trade (G) \",\"Retail trade (G) \",\"Retail trade (G) \",\"Retail trade (G) \",\"Retail trade (G) \",\"Retail trade (G) \",\"Retail trade (G) \",\"Retail trade (G) \",\"Retail trade (G) \",\"Retail trade (G) \",\"Retail trade (G) \",\"Retail trade (G) \",\"Retail trade (G) \",\"Retail trade (G) \",\"Retail trade (G) \",\"Retail trade (G) \",\"Retail trade (G) \",\"Retail trade (G) \",\"Accommodation and food services (H) \",\"Accommodation and food services (H) \",\"Accommodation and food services (H) \",\"Accommodation and food services (H) \",\"Accommodation and food services (H) \",\"Accommodation and food services (H) \",\"Accommodation and food services (H) \",\"Accommodation and food services (H) \",\"Accommodation and food services (H) \",\"Accommodation and food services (H) \",\"Accommodation and food services (H) \",\"Accommodation and food services (H) \",\"Accommodation and food services (H) \",\"Accommodation and food services (H) \",\"Accommodation and food services (H) \",\"Accommodation and food services (H) \",\"Accommodation and food services (H) \",\"Accommodation and food services (H) \",\"Accommodation and food services (H) \",\"Accommodation and food services (H) \",\"Accommodation and food services (H) \",\"Transport, postal and warehousing (I) \",\"Transport, postal and warehousing (I) \",\"Transport, postal and warehousing (I) \",\"Transport, postal and warehousing (I) \",\"Transport, postal and warehousing (I) \",\"Transport, postal and warehousing (I) \",\"Transport, postal and warehousing (I) \",\"Transport, postal and warehousing (I) \",\"Transport, postal and warehousing (I) \",\"Transport, postal and warehousing (I) \",\"Transport, postal and warehousing (I) \",\"Transport, postal and warehousing (I) \",\"Transport, postal and warehousing (I) \",\"Transport, postal and warehousing (I) \",\"Transport, postal and warehousing (I) \",\"Transport, postal and warehousing (I) \",\"Transport, postal and warehousing (I) \",\"Transport, postal and warehousing (I) \",\"Transport, postal and warehousing (I) \",\"Transport, postal and warehousing (I) \",\"Transport, postal and warehousing (I) \",\"Information media and telecommunications (J) \",\"Information media and telecommunications (J) \",\"Information media and telecommunications (J) \",\"Information media and telecommunications (J) \",\"Information media and telecommunications (J) \",\"Information media and telecommunications (J) \",\"Information media and telecommunications (J) \",\"Information media and telecommunications (J) \",\"Information media and telecommunications (J) \",\"Information media and telecommunications (J) \",\"Information media and telecommunications (J) \",\"Information media and telecommunications (J) \",\"Information media and telecommunications (J) \",\"Information media and telecommunications (J) \",\"Information media and telecommunications (J) \",\"Information media and telecommunications (J) \",\"Information media and telecommunications (J) \",\"Information media and telecommunications (J) \",\"Information media and telecommunications (J) \",\"Information media and telecommunications (J) \",\"Information media and telecommunications (J) \",\"Financial and insurance services (K) \",\"Financial and insurance services (K) \",\"Financial and insurance services (K) \",\"Financial and insurance services (K) \",\"Financial and insurance services (K) \",\"Financial and insurance services (K) \",\"Financial and insurance services (K) \",\"Financial and insurance services (K) \",\"Financial and insurance services (K) \",\"Financial and insurance services (K) \",\"Financial and insurance services (K) \",\"Financial and insurance services (K) \",\"Financial and insurance services (K) \",\"Financial and insurance services (K) \",\"Financial and insurance services (K) \",\"Financial and insurance services (K) \",\"Financial and insurance services (K) \",\"Financial and insurance services (K) \",\"Financial and insurance services (K) \",\"Financial and insurance services (K) \",\"Financial and insurance services (K) \",\"Rental, hiring and real estate services (L) \",\"Rental, hiring and real estate services (L) \",\"Rental, hiring and real estate services (L) \",\"Rental, hiring and real estate services (L) \",\"Rental, hiring and real estate services (L) \",\"Rental, hiring and real estate services (L) \",\"Rental, hiring and real estate services (L) \",\"Rental, hiring and real estate services (L) \",\"Rental, hiring and real estate services (L) \",\"Rental, hiring and real estate services (L) \",\"Rental, hiring and real estate services (L) \",\"Rental, hiring and real estate services (L) \",\"Rental, hiring and real estate services (L) \",\"Rental, hiring and real estate services (L) \",\"Rental, hiring and real estate services (L) \",\"Rental, hiring and real estate services (L) \",\"Rental, hiring and real estate services (L) \",\"Rental, hiring and real estate services (L) \",\"Rental, hiring and real estate services (L) \",\"Rental, hiring and real estate services (L) \",\"Rental, hiring and real estate services (L) \",\"Professional, scientific and technical services (M) \",\"Professional, scientific and technical services (M) \",\"Professional, scientific and technical services (M) \",\"Professional, scientific and technical services (M) \",\"Professional, scientific and technical services (M) \",\"Professional, scientific and technical services (M) \",\"Professional, scientific and technical services (M) \",\"Professional, scientific and technical services (M) \",\"Professional, scientific and technical services (M) \",\"Professional, scientific and technical services (M) \",\"Professional, scientific and technical services (M) \",\"Professional, scientific and technical services (M) \",\"Professional, scientific and technical services (M) \",\"Professional, scientific and technical services (M) \",\"Professional, scientific and technical services (M) \",\"Professional, scientific and technical services (M) \",\"Professional, scientific and technical services (M) \",\"Professional, scientific and technical services (M) \",\"Professional, scientific and technical services (M) \",\"Professional, scientific and technical services (M) \",\"Professional, scientific and technical services (M) \",\"Administrative and support services (N) \",\"Administrative and support services (N) \",\"Administrative and support services (N) \",\"Administrative and support services (N) \",\"Administrative and support services (N) \",\"Administrative and support services (N) \",\"Administrative and support services (N) \",\"Administrative and support services (N) \",\"Administrative and support services (N) \",\"Administrative and support services (N) \",\"Administrative and support services (N) \",\"Administrative and support services (N) \",\"Administrative and support services (N) \",\"Administrative and support services (N) \",\"Administrative and support services (N) \",\"Administrative and support services (N) \",\"Administrative and support services (N) \",\"Administrative and support services (N) \",\"Administrative and support services (N) \",\"Administrative and support services (N) \",\"Administrative and support services (N) \",\"Public administration and safety (O) \",\"Public administration and safety (O) \",\"Public administration and safety (O) \",\"Public administration and safety (O) \",\"Public administration and safety (O) \",\"Public administration and safety (O) \",\"Public administration and safety (O) \",\"Public administration and safety (O) \",\"Public administration and safety (O) \",\"Public administration and safety (O) \",\"Public administration and safety (O) \",\"Public administration and safety (O) \",\"Public administration and safety (O) \",\"Public administration and safety (O) \",\"Public administration and safety (O) \",\"Public administration and safety (O) \",\"Public administration and safety (O) \",\"Public administration and safety (O) \",\"Public administration and safety (O) \",\"Public administration and safety (O) \",\"Public administration and safety (O) \",\"Education and training (P) \",\"Education and training (P) \",\"Education and training (P) \",\"Education and training (P) \",\"Education and training (P) \",\"Education and training (P) \",\"Education and training (P) \",\"Education and training (P) \",\"Education and training (P) \",\"Education and training (P) \",\"Education and training (P) \",\"Education and training (P) \",\"Education and training (P) \",\"Education and training (P) \",\"Education and training (P) \",\"Education and training (P) \",\"Education and training (P) \",\"Education and training (P) \",\"Education and training (P) \",\"Education and training (P) \",\"Education and training (P) \",\"Health care and social assistance (Q) \",\"Health care and social assistance (Q) \",\"Health care and social assistance (Q) \",\"Health care and social assistance (Q) \",\"Health care and social assistance (Q) \",\"Health care and social assistance (Q) \",\"Health care and social assistance (Q) \",\"Health care and social assistance (Q) \",\"Health care and social assistance (Q) \",\"Health care and social assistance (Q) \",\"Health care and social assistance (Q) \",\"Health care and social assistance (Q) \",\"Health care and social assistance (Q) \",\"Health care and social assistance (Q) \",\"Health care and social assistance (Q) \",\"Health care and social assistance (Q) \",\"Health care and social assistance (Q) \",\"Health care and social assistance (Q) \",\"Health care and social assistance (Q) \",\"Health care and social assistance (Q) \",\"Health care and social assistance (Q) \",\"Arts and recreation services (R) \",\"Arts and recreation services (R) \",\"Arts and recreation services (R) \",\"Arts and recreation services (R) \",\"Arts and recreation services (R) \",\"Arts and recreation services (R) \",\"Arts and recreation services (R) \",\"Arts and recreation services (R) \",\"Arts and recreation services (R) \",\"Arts and recreation services (R) \",\"Arts and recreation services (R) \",\"Arts and recreation services (R) \",\"Arts and recreation services (R) \",\"Arts and recreation services (R) \",\"Arts and recreation services (R) \",\"Arts and recreation services (R) \",\"Arts and recreation services (R) \",\"Arts and recreation services (R) \",\"Arts and recreation services (R) \",\"Arts and recreation services (R) \",\"Arts and recreation services (R) \",\"Other services (S) \",\"Other services (S) \",\"Other services (S) \",\"Other services (S) \",\"Other services (S) \",\"Other services (S) \",\"Other services (S) \",\"Other services (S) \",\"Other services (S) \",\"Other services (S) \",\"Other services (S) \",\"Other services (S) \",\"Other services (S) \",\"Other services (S) \",\"Other services (S) \",\"Other services (S) \",\"Other services (S) \",\"Other services (S) \",\"Other services (S) \",\"Other services (S) \",\"Other services (S) \",\"Ownership of dwellings \",\"Ownership of dwellings \",\"Ownership of dwellings \",\"Ownership of dwellings \",\"Ownership of dwellings \",\"Ownership of dwellings \",\"Ownership of dwellings \",\"Ownership of dwellings \",\"Ownership of dwellings \",\"Ownership of dwellings \",\"Ownership of dwellings \",\"Ownership of dwellings \",\"Ownership of dwellings \",\"Ownership of dwellings \",\"Ownership of dwellings \",\"Ownership of dwellings \",\"Ownership of dwellings \",\"Ownership of dwellings \",\"Ownership of dwellings \",\"Ownership of dwellings \",\"Ownership of dwellings \"],\"bottom\":{\"__ndarray__\":\"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\",\"dtype\":\"float64\",\"order\":\"little\",\"shape\":[420]},\"index\":[\"2000\",\"2020\",\"2019\",\"2018\",\"2017\",\"2016\",\"2014\",\"2013\",\"2012\",\"2011\",\"2015\",\"2009\",\"2010\",\"2002\",\"2003\",\"2004\",\"2001\",\"2006\",\"2007\",\"2008\",\"2005\",\"2012\",\"2020\",\"2019\",\"2018\",\"2017\",\"2016\",\"2015\",\"2014\",\"2013\",\"2011\",\"2004\",\"2009\",\"2010\",\"2001\",\"2002\",\"2003\",\"2000\",\"2005\",\"2006\",\"2007\",\"2008\",\"2020\",\"2019\",\"2018\",\"2017\",\"2016\",\"2015\",\"2014\",\"2013\",\"2012\",\"2011\",\"2004\",\"2009\",\"2001\",\"2002\",\"2003\",\"2000\",\"2006\",\"2007\",\"2008\",\"2005\",\"2010\",\"2020\",\"2011\",\"2019\",\"2018\",\"2017\",\"2016\",\"2015\",\"2014\",\"2013\",\"2012\",\"2010\",\"2008\",\"2007\",\"2006\",\"2005\",\"2004\",\"2003\",\"2002\",\"2001\",\"2000\",\"2009\",\"2012\",\"2013\",\"2014\",\"2016\",\"2011\",\"2018\",\"2019\",\"2020\",\"2017\",\"2010\",\"2015\",\"2008\",\"2001\",\"2002\",\"2003\",\"2004\",\"2000\",\"2005\",\"2006\",\"2007\",\"2009\",\"2012\",\"2020\",\"2019\",\"2018\",\"2017\",\"2016\",\"2015\",\"2014\",\"2013\",\"2011\",\"2010\",\"2009\",\"2001\",\"2002\",\"2003\",\"2004\",\"2000\",\"2006\",\"2007\",\"2008\",\"2005\",\"2011\",\"2019\",\"2018\",\"2017\",\"2016\",\"2015\",\"2014\",\"2013\",\"2012\",\"2010\",\"2020\",\"2008\",\"2000\",\"2001\",\"2002\",\"2003\",\"2009\",\"2005\",\"2006\",\"2007\",\"2004\",\"2011\",\"2019\",\"2018\",\"2017\",\"2016\",\"2015\",\"2014\",\"2013\",\"2012\",\"2010\",\"2020\",\"2008\",\"2000\",\"2001\",\"2002\",\"2003\",\"2009\",\"2005\",\"2006\",\"2007\",\"2004\",\"2011\",\"2019\",\"2018\",\"2017\",\"2016\",\"2015\",\"2014\",\"2013\",\"2012\",\"2020\",\"2010\",\"2008\",\"2007\",\"2006\",\"2005\",\"2004\",\"2003\",\"2002\",\"2001\",\"2000\",\"2009\",\"2012\",\"2013\",\"2014\",\"2015\",\"2011\",\"2017\",\"2018\",\"2019\",\"2016\",\"2010\",\"2020\",\"2008\",\"2000\",\"2001\",\"2002\",\"2003\",\"2009\",\"2005\",\"2006\",\"2007\",\"2004\",\"2012\",\"2020\",\"2019\",\"2018\",\"2017\",\"2016\",\"2015\",\"2014\",\"2013\",\"2011\",\"2010\",\"2009\",\"2001\",\"2002\",\"2003\",\"2004\",\"2000\",\"2006\",\"2007\",\"2008\",\"2005\",\"2011\",\"2019\",\"2018\",\"2017\",\"2016\",\"2015\",\"2014\",\"2013\",\"2012\",\"2010\",\"2020\",\"2008\",\"2000\",\"2001\",\"2002\",\"2003\",\"2009\",\"2005\",\"2006\",\"2007\",\"2004\",\"2011\",\"2019\",\"2018\",\"2017\",\"2016\",\"2015\",\"2014\",\"2013\",\"2012\",\"2010\",\"2020\",\"2008\",\"2000\",\"2001\",\"2002\",\"2003\",\"2009\",\"2005\",\"2006\",\"2007\",\"2004\",\"2011\",\"2019\",\"2018\",\"2017\",\"2016\",\"2015\",\"2014\",\"2013\",\"2012\",\"2020\",\"2010\",\"2008\",\"2007\",\"2006\",\"2005\",\"2004\",\"2003\",\"2002\",\"2001\",\"2000\",\"2009\",\"2012\",\"2013\",\"2014\",\"2020\",\"2011\",\"2017\",\"2018\",\"2019\",\"2016\",\"2010\",\"2015\",\"2008\",\"2000\",\"2001\",\"2002\",\"2003\",\"2009\",\"2005\",\"2006\",\"2007\",\"2004\",\"2011\",\"2019\",\"2018\",\"2017\",\"2016\",\"2015\",\"2014\",\"2013\",\"2012\",\"2010\",\"2020\",\"2008\",\"2000\",\"2001\",\"2002\",\"2003\",\"2009\",\"2005\",\"2006\",\"2007\",\"2004\",\"2011\",\"2019\",\"2018\",\"2017\",\"2016\",\"2015\",\"2014\",\"2013\",\"2012\",\"2020\",\"2010\",\"2008\",\"2007\",\"2006\",\"2005\",\"2004\",\"2003\",\"2002\",\"2001\",\"2000\",\"2009\",\"2013\",\"2014\",\"2020\",\"2015\",\"2012\",\"2017\",\"2018\",\"2019\",\"2016\",\"2011\",\"2005\",\"2009\",\"2008\",\"2007\",\"2006\",\"2004\",\"2003\",\"2002\",\"2001\",\"2000\",\"2010\",\"2012\",\"2013\",\"2014\",\"2020\",\"2017\",\"2018\",\"2019\",\"2011\",\"2016\",\"2010\",\"2015\",\"2008\",\"2007\",\"2006\",\"2005\",\"2004\",\"2003\",\"2002\",\"2001\",\"2000\",\"2009\",\"2012\",\"2013\",\"2014\",\"2018\",\"2016\",\"2017\",\"2011\",\"2015\",\"2010\",\"2005\",\"2008\",\"2007\",\"2006\",\"2004\",\"2003\",\"2002\",\"2001\",\"2000\",\"2019\",\"2009\",\"2020\"],\"top\":{\"__ndarray__\":\"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\",\"dtype\":\"float64\",\"order\":\"little\",\"shape\":[420]},\"value\":{\"__ndarray__\":\"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\",\"dtype\":\"float64\",\"order\":\"little\",\"shape\":[420]}},\"selected\":{\"id\":\"1976\"},\"selection_policy\":{\"id\":\"1990\"}},\"id\":\"1975\",\"type\":\"ColumnDataSource\"},{\"attributes\":{},\"id\":\"1963\",\"type\":\"WheelZoomTool\"},{\"attributes\":{},\"id\":\"1984\",\"type\":\"BasicTickFormatter\"},{\"attributes\":{\"bottom\":{\"field\":\"bottom\"},\"fill_alpha\":{\"value\":1.0},\"fill_color\":{\"field\":\"Variable\",\"transform\":{\"id\":\"1974\"}},\"hatch_alpha\":{\"value\":1.0},\"hatch_color\":{\"value\":\"black\"},\"hatch_scale\":{\"value\":12.0},\"hatch_weight\":{\"value\":1.0},\"line_alpha\":{\"value\":1.0},\"line_cap\":{\"value\":\"butt\"},\"line_color\":{\"value\":\"black\"},\"line_dash\":{\"value\":[]},\"line_dash_offset\":{\"value\":0},\"line_join\":{\"value\":\"bevel\"},\"line_width\":{\"value\":1},\"top\":{\"field\":\"top\"},\"width\":{\"value\":0.8},\"x\":{\"field\":\"index\"}},\"id\":\"1995\",\"type\":\"VBar\"},{\"attributes\":{\"factors\":[\"2000\",\"2001\",\"2002\",\"2003\",\"2004\",\"2005\",\"2006\",\"2007\",\"2008\",\"2009\",\"2010\",\"2011\",\"2012\",\"2013\",\"2014\",\"2015\",\"2016\",\"2017\",\"2018\",\"2019\",\"2020\"],\"tags\":[[[\"index\",\"index\",null]]]},\"id\":\"1942\",\"type\":\"FactorRange\"},{\"attributes\":{\"end\":100.37,\"reset_end\":100.37,\"reset_start\":0.0,\"tags\":[[[\"value\",\"value\",null]]]},\"id\":\"1943\",\"type\":\"Range1d\"},{\"attributes\":{},\"id\":\"1962\",\"type\":\"PanTool\"},{\"attributes\":{\"bottom_units\":\"screen\",\"fill_alpha\":0.5,\"fill_color\":\"lightgrey\",\"left_units\":\"screen\",\"level\":\"overlay\",\"line_alpha\":1.0,\"line_color\":\"black\",\"line_dash\":[4,4],\"line_width\":2,\"right_units\":\"screen\",\"syncable\":false,\"top_units\":\"screen\"},\"id\":\"1966\",\"type\":\"BoxAnnotation\"},{\"attributes\":{},\"id\":\"1955\",\"type\":\"CategoricalTicker\"},{\"attributes\":{},\"id\":\"1950\",\"type\":\"CategoricalScale\"},{\"attributes\":{},\"id\":\"1952\",\"type\":\"LinearScale\"},{\"attributes\":{\"axis\":{\"id\":\"1957\"},\"dimension\":1,\"grid_line_color\":null,\"ticker\":null},\"id\":\"1960\",\"type\":\"Grid\"}],\"root_ids\":[\"1940\"]},\"title\":\"Bokeh Application\",\"version\":\"2.3.2\"}};\n    var render_items = [{\"docid\":\"a2605705-df75-4d6d-86f9-9dfb967d7a9e\",\"root_ids\":[\"1940\"],\"roots\":{\"1940\":\"a4bf4f75-4679-4c5e-b170-e8becdf8870a\"}}];\n    root.Bokeh.embed.embed_items_notebook(docs_json, render_items);\n  }\n  if (root.Bokeh !== undefined && root.Bokeh.Panel !== undefined) {\n    embed_document(root);\n  } else {\n    var attempts = 0;\n    var timer = setInterval(function(root) {\n      if (root.Bokeh !== undefined && root.Bokeh.Panel !== undefined) {\n        clearInterval(timer);\n        embed_document(root);\n      } else if (document.readyState == \"complete\") {\n        attempts++;\n        if (attempts > 100) {\n          clearInterval(timer);\n          console.log(\"Bokeh: ERROR: Unable to run BokehJS code because BokehJS library is missing\");\n        }\n      }\n    }, 10, root)\n  }\n})(window);</script>",
      "application/vnd.holoviews_exec.v0+json": "",
      "text/plain": [
       ":Bars   [index,Variable]   (value)"
      ]
     },
     "metadata": {
      "application/vnd.holoviews_exec.v0+json": {
       "id": "1940"
      }
     },
     "execution_count": 68
    }
   ],
   "source": [
    "contri_df.drop(columns=contri_df.columns[-1]).hvplot.bar(stacked=True, height=800, width = 1800, legend='right',title=\"Contribution by Industry to GDP\")"
   ]
  },
  {
   "cell_type": "code",
   "execution_count": null,
   "metadata": {},
   "outputs": [],
   "source": []
  },
  {
   "cell_type": "code",
   "execution_count": 69,
   "metadata": {},
   "outputs": [
    {
     "output_type": "execute_result",
     "data": {
      "text/plain": [
       "                                                     2018   2019   2020\n",
       "All industries                                      100.0  100.0  100.0\n",
       "Mining (B)                                            8.8   10.6   11.1\n",
       "Ownership of dwellings                                8.9    8.7    8.9\n",
       "Financial and insurance services (K)                  9.2    9.0    8.9\n",
       "Construction (E)                                      8.2    7.9    7.7\n",
       "Health care and social assistance (Q)                 7.4    7.6    7.7\n",
       "Professional, scientific and technical services...    7.3    7.3    7.6\n",
       "Manufacturing (C)                                     6.2    6.0    6.1\n",
       "Public administration and safety (O)                  5.5    5.6    5.7\n",
       "Education and training (P)                            5.1    5.0    5.1\n",
       "Transport, postal and warehousing (I)                 5.0    4.9    4.8\n",
       "Retail trade (G)                                      4.5    4.4    4.4\n",
       "Wholesale trade (F)                                   4.1    3.9    4.0\n",
       "Administrative and support services (N)               3.6    3.7    3.6\n",
       "Rental, hiring and real estate services (L)           3.2    3.1    2.9\n",
       "Electricity, gas, water and waste services (D)        2.7    2.6    2.5\n",
       "Information media and telecommunications (J)          2.6    2.4    2.4\n",
       "Accommodation and food services (H)                   2.5    2.4    2.1\n",
       "Agriculture, forestry and fishing (A)                 2.6    2.3    2.0\n",
       "Other services (S)                                    1.9    1.9    1.6\n",
       "Arts and recreation services (R)                      0.9    0.9    0.8"
      ],
      "text/html": "<div>\n<style scoped>\n    .dataframe tbody tr th:only-of-type {\n        vertical-align: middle;\n    }\n\n    .dataframe tbody tr th {\n        vertical-align: top;\n    }\n\n    .dataframe thead th {\n        text-align: right;\n    }\n</style>\n<table border=\"1\" class=\"dataframe\">\n  <thead>\n    <tr style=\"text-align: right;\">\n      <th></th>\n      <th>2018</th>\n      <th>2019</th>\n      <th>2020</th>\n    </tr>\n  </thead>\n  <tbody>\n    <tr>\n      <th>All industries</th>\n      <td>100.0</td>\n      <td>100.0</td>\n      <td>100.0</td>\n    </tr>\n    <tr>\n      <th>Mining (B)</th>\n      <td>8.8</td>\n      <td>10.6</td>\n      <td>11.1</td>\n    </tr>\n    <tr>\n      <th>Ownership of dwellings</th>\n      <td>8.9</td>\n      <td>8.7</td>\n      <td>8.9</td>\n    </tr>\n    <tr>\n      <th>Financial and insurance services (K)</th>\n      <td>9.2</td>\n      <td>9.0</td>\n      <td>8.9</td>\n    </tr>\n    <tr>\n      <th>Construction (E)</th>\n      <td>8.2</td>\n      <td>7.9</td>\n      <td>7.7</td>\n    </tr>\n    <tr>\n      <th>Health care and social assistance (Q)</th>\n      <td>7.4</td>\n      <td>7.6</td>\n      <td>7.7</td>\n    </tr>\n    <tr>\n      <th>Professional, scientific and technical services (M)</th>\n      <td>7.3</td>\n      <td>7.3</td>\n      <td>7.6</td>\n    </tr>\n    <tr>\n      <th>Manufacturing (C)</th>\n      <td>6.2</td>\n      <td>6.0</td>\n      <td>6.1</td>\n    </tr>\n    <tr>\n      <th>Public administration and safety (O)</th>\n      <td>5.5</td>\n      <td>5.6</td>\n      <td>5.7</td>\n    </tr>\n    <tr>\n      <th>Education and training (P)</th>\n      <td>5.1</td>\n      <td>5.0</td>\n      <td>5.1</td>\n    </tr>\n    <tr>\n      <th>Transport, postal and warehousing (I)</th>\n      <td>5.0</td>\n      <td>4.9</td>\n      <td>4.8</td>\n    </tr>\n    <tr>\n      <th>Retail trade (G)</th>\n      <td>4.5</td>\n      <td>4.4</td>\n      <td>4.4</td>\n    </tr>\n    <tr>\n      <th>Wholesale trade (F)</th>\n      <td>4.1</td>\n      <td>3.9</td>\n      <td>4.0</td>\n    </tr>\n    <tr>\n      <th>Administrative and support services (N)</th>\n      <td>3.6</td>\n      <td>3.7</td>\n      <td>3.6</td>\n    </tr>\n    <tr>\n      <th>Rental, hiring and real estate services (L)</th>\n      <td>3.2</td>\n      <td>3.1</td>\n      <td>2.9</td>\n    </tr>\n    <tr>\n      <th>Electricity, gas, water and waste services (D)</th>\n      <td>2.7</td>\n      <td>2.6</td>\n      <td>2.5</td>\n    </tr>\n    <tr>\n      <th>Information media and telecommunications (J)</th>\n      <td>2.6</td>\n      <td>2.4</td>\n      <td>2.4</td>\n    </tr>\n    <tr>\n      <th>Accommodation and food services (H)</th>\n      <td>2.5</td>\n      <td>2.4</td>\n      <td>2.1</td>\n    </tr>\n    <tr>\n      <th>Agriculture, forestry and fishing (A)</th>\n      <td>2.6</td>\n      <td>2.3</td>\n      <td>2.0</td>\n    </tr>\n    <tr>\n      <th>Other services (S)</th>\n      <td>1.9</td>\n      <td>1.9</td>\n      <td>1.6</td>\n    </tr>\n    <tr>\n      <th>Arts and recreation services (R)</th>\n      <td>0.9</td>\n      <td>0.9</td>\n      <td>0.8</td>\n    </tr>\n  </tbody>\n</table>\n</div>"
     },
     "metadata": {},
     "execution_count": 69
    }
   ],
   "source": [
    "contri_df.loc[\"2018\":\"2020\"].T.sort_values(by=\"2020\",ascending=False)"
   ]
  },
  {
   "cell_type": "code",
   "execution_count": 70,
   "metadata": {},
   "outputs": [],
   "source": [
    "#select top industries"
   ]
  },
  {
   "cell_type": "code",
   "execution_count": 71,
   "metadata": {},
   "outputs": [],
   "source": [
    "short_industries = contri_df.loc[\"2018\":\"2020\"].T.sort_values(by=\"2020\",ascending=False).head(7)"
   ]
  },
  {
   "cell_type": "code",
   "execution_count": 72,
   "metadata": {},
   "outputs": [],
   "source": [
    "short_industries.drop(\"All industries \",inplace= True)"
   ]
  },
  {
   "cell_type": "code",
   "execution_count": 73,
   "metadata": {},
   "outputs": [
    {
     "output_type": "execute_result",
     "data": {
      "text/plain": [
       "                                                    2018  2019  2020\n",
       "Mining (B)                                           8.8  10.6  11.1\n",
       "Ownership of dwellings                               8.9   8.7   8.9\n",
       "Financial and insurance services (K)                 9.2   9.0   8.9\n",
       "Construction (E)                                     8.2   7.9   7.7\n",
       "Health care and social assistance (Q)                7.4   7.6   7.7\n",
       "Professional, scientific and technical services...   7.3   7.3   7.6"
      ],
      "text/html": "<div>\n<style scoped>\n    .dataframe tbody tr th:only-of-type {\n        vertical-align: middle;\n    }\n\n    .dataframe tbody tr th {\n        vertical-align: top;\n    }\n\n    .dataframe thead th {\n        text-align: right;\n    }\n</style>\n<table border=\"1\" class=\"dataframe\">\n  <thead>\n    <tr style=\"text-align: right;\">\n      <th></th>\n      <th>2018</th>\n      <th>2019</th>\n      <th>2020</th>\n    </tr>\n  </thead>\n  <tbody>\n    <tr>\n      <th>Mining (B)</th>\n      <td>8.8</td>\n      <td>10.6</td>\n      <td>11.1</td>\n    </tr>\n    <tr>\n      <th>Ownership of dwellings</th>\n      <td>8.9</td>\n      <td>8.7</td>\n      <td>8.9</td>\n    </tr>\n    <tr>\n      <th>Financial and insurance services (K)</th>\n      <td>9.2</td>\n      <td>9.0</td>\n      <td>8.9</td>\n    </tr>\n    <tr>\n      <th>Construction (E)</th>\n      <td>8.2</td>\n      <td>7.9</td>\n      <td>7.7</td>\n    </tr>\n    <tr>\n      <th>Health care and social assistance (Q)</th>\n      <td>7.4</td>\n      <td>7.6</td>\n      <td>7.7</td>\n    </tr>\n    <tr>\n      <th>Professional, scientific and technical services (M)</th>\n      <td>7.3</td>\n      <td>7.3</td>\n      <td>7.6</td>\n    </tr>\n  </tbody>\n</table>\n</div>"
     },
     "metadata": {},
     "execution_count": 73
    }
   ],
   "source": [
    "short_industries"
   ]
  },
  {
   "cell_type": "code",
   "execution_count": 74,
   "metadata": {},
   "outputs": [],
   "source": [
    "short_industries['ASX Mapping'] = short_industries.index.str.replace(r\"\\(.*\\)\",\"\").str.strip().map(mapping_dict);"
   ]
  },
  {
   "cell_type": "code",
   "execution_count": 75,
   "metadata": {},
   "outputs": [
    {
     "output_type": "execute_result",
     "data": {
      "text/plain": [
       "                                                    2018  2019  2020  \\\n",
       "Mining (B)                                           8.8  10.6  11.1   \n",
       "Ownership of dwellings                               8.9   8.7   8.9   \n",
       "Financial and insurance services (K)                 9.2   9.0   8.9   \n",
       "Construction (E)                                     8.2   7.9   7.7   \n",
       "Health care and social assistance (Q)                7.4   7.6   7.7   \n",
       "Professional, scientific and technical services...   7.3   7.3   7.6   \n",
       "\n",
       "                                                               ASX Mapping  \n",
       "Mining (B)                                                       Materials  \n",
       "Ownership of dwellings                                         Real Estate  \n",
       "Financial and insurance services (K)                            Financials  \n",
       "Construction (E)                                               Industrials  \n",
       "Health care and social assistance (Q)                          Health Care  \n",
       "Professional, scientific and technical services...  Information Technology  "
      ],
      "text/html": "<div>\n<style scoped>\n    .dataframe tbody tr th:only-of-type {\n        vertical-align: middle;\n    }\n\n    .dataframe tbody tr th {\n        vertical-align: top;\n    }\n\n    .dataframe thead th {\n        text-align: right;\n    }\n</style>\n<table border=\"1\" class=\"dataframe\">\n  <thead>\n    <tr style=\"text-align: right;\">\n      <th></th>\n      <th>2018</th>\n      <th>2019</th>\n      <th>2020</th>\n      <th>ASX Mapping</th>\n    </tr>\n  </thead>\n  <tbody>\n    <tr>\n      <th>Mining (B)</th>\n      <td>8.8</td>\n      <td>10.6</td>\n      <td>11.1</td>\n      <td>Materials</td>\n    </tr>\n    <tr>\n      <th>Ownership of dwellings</th>\n      <td>8.9</td>\n      <td>8.7</td>\n      <td>8.9</td>\n      <td>Real Estate</td>\n    </tr>\n    <tr>\n      <th>Financial and insurance services (K)</th>\n      <td>9.2</td>\n      <td>9.0</td>\n      <td>8.9</td>\n      <td>Financials</td>\n    </tr>\n    <tr>\n      <th>Construction (E)</th>\n      <td>8.2</td>\n      <td>7.9</td>\n      <td>7.7</td>\n      <td>Industrials</td>\n    </tr>\n    <tr>\n      <th>Health care and social assistance (Q)</th>\n      <td>7.4</td>\n      <td>7.6</td>\n      <td>7.7</td>\n      <td>Health Care</td>\n    </tr>\n    <tr>\n      <th>Professional, scientific and technical services (M)</th>\n      <td>7.3</td>\n      <td>7.3</td>\n      <td>7.6</td>\n      <td>Information Technology</td>\n    </tr>\n  </tbody>\n</table>\n</div>"
     },
     "metadata": {},
     "execution_count": 75
    }
   ],
   "source": [
    "short_industries"
   ]
  },
  {
   "cell_type": "code",
   "execution_count": 76,
   "metadata": {},
   "outputs": [
    {
     "output_type": "execute_result",
     "data": {
      "text/plain": [
       "   Code                  Company Market Cap     Sector        MktCap\n",
       "1   BHP        BHP Group Limited    143.91B  Materials  1.439100e+11\n",
       "6   FMG   Fortescue Metals Group     69.74B  Materials  6.974000e+10\n",
       "10  RIO                Rio Tinto     46.52B  Materials  4.652000e+10\n",
       "18  NCM  Newcrest Mining Limited     22.56B  Materials  2.256000e+10\n",
       "21  JHX             James Hardie     19.15B  Materials  1.915000e+10\n",
       "34  S32                  South32     14.11B  Materials  1.411000e+10\n",
       "35  AMC                    Amcor     13.08B  Materials  1.308000e+10\n",
       "37  NST  Northern Star Resources     12.72B  Materials  1.272000e+10\n",
       "40  BSL  BlueScope Steel Limited     11.32B  Materials  1.132000e+10"
      ],
      "text/html": "<div>\n<style scoped>\n    .dataframe tbody tr th:only-of-type {\n        vertical-align: middle;\n    }\n\n    .dataframe tbody tr th {\n        vertical-align: top;\n    }\n\n    .dataframe thead th {\n        text-align: right;\n    }\n</style>\n<table border=\"1\" class=\"dataframe\">\n  <thead>\n    <tr style=\"text-align: right;\">\n      <th></th>\n      <th>Code</th>\n      <th>Company</th>\n      <th>Market Cap</th>\n      <th>Sector</th>\n      <th>MktCap</th>\n    </tr>\n  </thead>\n  <tbody>\n    <tr>\n      <th>1</th>\n      <td>BHP</td>\n      <td>BHP Group Limited</td>\n      <td>143.91B</td>\n      <td>Materials</td>\n      <td>1.439100e+11</td>\n    </tr>\n    <tr>\n      <th>6</th>\n      <td>FMG</td>\n      <td>Fortescue Metals Group</td>\n      <td>69.74B</td>\n      <td>Materials</td>\n      <td>6.974000e+10</td>\n    </tr>\n    <tr>\n      <th>10</th>\n      <td>RIO</td>\n      <td>Rio Tinto</td>\n      <td>46.52B</td>\n      <td>Materials</td>\n      <td>4.652000e+10</td>\n    </tr>\n    <tr>\n      <th>18</th>\n      <td>NCM</td>\n      <td>Newcrest Mining Limited</td>\n      <td>22.56B</td>\n      <td>Materials</td>\n      <td>2.256000e+10</td>\n    </tr>\n    <tr>\n      <th>21</th>\n      <td>JHX</td>\n      <td>James Hardie</td>\n      <td>19.15B</td>\n      <td>Materials</td>\n      <td>1.915000e+10</td>\n    </tr>\n    <tr>\n      <th>34</th>\n      <td>S32</td>\n      <td>South32</td>\n      <td>14.11B</td>\n      <td>Materials</td>\n      <td>1.411000e+10</td>\n    </tr>\n    <tr>\n      <th>35</th>\n      <td>AMC</td>\n      <td>Amcor</td>\n      <td>13.08B</td>\n      <td>Materials</td>\n      <td>1.308000e+10</td>\n    </tr>\n    <tr>\n      <th>37</th>\n      <td>NST</td>\n      <td>Northern Star Resources</td>\n      <td>12.72B</td>\n      <td>Materials</td>\n      <td>1.272000e+10</td>\n    </tr>\n    <tr>\n      <th>40</th>\n      <td>BSL</td>\n      <td>BlueScope Steel Limited</td>\n      <td>11.32B</td>\n      <td>Materials</td>\n      <td>1.132000e+10</td>\n    </tr>\n  </tbody>\n</table>\n</div>"
     },
     "metadata": {},
     "execution_count": 76
    }
   ],
   "source": [
    "top_50_group.get_group(\"Materials\")"
   ]
  },
  {
   "cell_type": "code",
   "execution_count": 77,
   "metadata": {},
   "outputs": [
    {
     "output_type": "execute_result",
     "data": {
      "text/plain": [
       "12    TCL.AX\n",
       "24    SYD.AX\n",
       "26    BXB.AX\n",
       "29    REH.AX\n",
       "46    AIA.AX\n",
       "Name: Code, dtype: object"
      ]
     },
     "metadata": {},
     "execution_count": 77
    }
   ],
   "source": [
    "top_50_group.get_group(\"Industrials\")[\"Code\"].apply(lambda x: \"{}{}\".format(x,'.AX'))"
   ]
  },
  {
   "cell_type": "code",
   "execution_count": 78,
   "metadata": {},
   "outputs": [],
   "source": [
    "industry_stocks={}\n",
    "for ind in short_industries['ASX Mapping']:\n",
    "    industry_stocks[ind] = top_50_group.get_group(ind)[\"Code\"].apply(lambda x: \"{}{}\".format(x,'.AX')).to_list()"
   ]
  },
  {
   "cell_type": "code",
   "execution_count": 79,
   "metadata": {},
   "outputs": [
    {
     "output_type": "execute_result",
     "data": {
      "text/plain": [
       "{'Materials': ['BHP.AX',\n",
       "  'FMG.AX',\n",
       "  'RIO.AX',\n",
       "  'NCM.AX',\n",
       "  'JHX.AX',\n",
       "  'S32.AX',\n",
       "  'AMC.AX',\n",
       "  'NST.AX',\n",
       "  'BSL.AX'],\n",
       " 'Real Estate': ['GMG.AX', 'SCG.AX', 'MGR.AX', 'DXS.AX', 'SGP.AX'],\n",
       " 'Financials': ['CBA.AX',\n",
       "  'WBC.AX',\n",
       "  'NAB.AX',\n",
       "  'ANZ.AX',\n",
       "  'MQG.AX',\n",
       "  'QBE.AX',\n",
       "  'ASX.AX',\n",
       "  'SUN.AX',\n",
       "  'IAG.AX'],\n",
       " 'Industrials': ['TCL.AX', 'SYD.AX', 'BXB.AX', 'REH.AX', 'AIA.AX'],\n",
       " 'Health Care': ['CSL.AX', 'SHL.AX', 'FPH.AX', 'COH.AX', 'RHC.AX', 'RMD.AX'],\n",
       " 'Information Technology': ['APT.AX', 'XRO.AX', 'CPU.AX']}"
      ]
     },
     "metadata": {},
     "execution_count": 79
    }
   ],
   "source": [
    "industry_stocks"
   ]
  },
  {
   "cell_type": "code",
   "execution_count": 80,
   "metadata": {},
   "outputs": [],
   "source": [
    "# Store data (serialize)\n",
    "with open('./data/pickles/industry_stocks.pickle', 'wb') as handle:\n",
    "    pickle.dump(industry_stocks, handle, protocol=pickle.HIGHEST_PROTOCOL)"
   ]
  },
  {
   "cell_type": "code",
   "execution_count": null,
   "metadata": {},
   "outputs": [],
   "source": []
  }
 ]
}