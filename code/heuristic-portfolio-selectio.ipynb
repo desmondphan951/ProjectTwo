{
 "cells": [
  {
   "cell_type": "code",
   "execution_count": 24,
   "metadata": {},
   "outputs": [],
   "source": [
    "import yfinance as yf\n",
    "import pandas as pd\n",
    "import numpy as np\n",
    "import random\n",
    "import pickle\n",
    "from sklearn.cluster import KMeans "
   ]
  },
  {
   "cell_type": "code",
   "execution_count": 2,
   "metadata": {},
   "outputs": [],
   "source": [
    "industry_stocks = {'Materials': ['BHP.AX',\n",
    "  'FMG.AX',\n",
    "  'RIO.AX',\n",
    "  'NCM.AX',\n",
    "  'JHX.AX',\n",
    "  'S32.AX',\n",
    "  'AMC.AX',\n",
    "  'NST.AX',\n",
    "  'BSL.AX'],\n",
    " 'Real Estate': ['GMG.AX', 'SCG.AX', 'MGR.AX', 'DXS.AX', 'SGP.AX'],\n",
    " 'Financials': ['CBA.AX',\n",
    "  'WBC.AX',\n",
    "  'NAB.AX',\n",
    "  'ANZ.AX',\n",
    "  'MQG.AX',\n",
    "  'QBE.AX',\n",
    "  'ASX.AX',\n",
    "  'SUN.AX',\n",
    "  'IAG.AX'],\n",
    " 'Industrials': ['TCL.AX', 'SYD.AX', 'BXB.AX', 'REH.AX', 'AIA.AX'],\n",
    " 'Health Care': ['CSL.AX', 'SHL.AX', 'FPH.AX', 'COH.AX', 'RHC.AX', 'RMD.AX'],\n",
    " 'Information Technology': ['APT.AX', 'XRO.AX', 'CPU.AX']}"
   ]
  },
  {
   "cell_type": "code",
   "execution_count": 3,
   "metadata": {},
   "outputs": [],
   "source": [
    "stock_list =[]\n",
    "for ind in industry_stocks.values():\n",
    "    stock_list.extend(ind)"
   ]
  },
  {
   "cell_type": "code",
   "execution_count": 4,
   "metadata": {},
   "outputs": [
    {
     "output_type": "stream",
     "name": "stdout",
     "text": [
      "[*********************100%***********************]  37 of 37 completed\n"
     ]
    }
   ],
   "source": [
    "data = yf.download(  # or pdr.get_data_yahoo(...\n",
    "        # tickers list or string as well\n",
    "        tickers = stock_list,\n",
    "\n",
    "        # use \"period\" instead of start/end\n",
    "        # valid periods: 1d,5d,1mo,3mo,6mo,1y,2y,5y,10y,ytd,max\n",
    "        # (optional, default is '1mo')\n",
    "        period = \"5y\",\n",
    "\n",
    "        # fetch data by interval (including intraday if period < 60 days)\n",
    "        # valid intervals: 1m,2m,5m,15m,30m,60m,90m,1h,1d,5d,1wk,1mo,3mo\n",
    "        # (optional, default is '1d')\n",
    "        interval = \"1d\",\n",
    "\n",
    "        # group by ticker (to access via data['SPY'])\n",
    "        # (optional, default is 'column')\n",
    "        group_by = 'ticker',\n",
    "\n",
    "        # adjust all OHLC automatically\n",
    "        # (optional, default is False)\n",
    "        auto_adjust = True,\n",
    "\n",
    "        # download pre/post regular market hours data\n",
    "        # (optional, default is False)\n",
    "        prepost = True,\n",
    "\n",
    "        # use threads for mass downloading? (True/False/Integer)\n",
    "        # (optional, default is True)\n",
    "        threads = True,\n",
    "\n",
    "        # proxy URL scheme use use when downloading?\n",
    "        # (optional, default is None)\n",
    "        proxy = None\n",
    "    )"
   ]
  },
  {
   "cell_type": "code",
   "execution_count": 5,
   "metadata": {},
   "outputs": [
    {
     "output_type": "execute_result",
     "data": {
      "text/plain": [
       "               FPH.AX                                                XRO.AX  \\\n",
       "                 Open       High        Low      Close   Volume        Open   \n",
       "Date                                                                          \n",
       "2016-06-10   9.389770   9.417523   9.325013   9.343515   183959   18.670000   \n",
       "2016-06-14   9.112240   9.130742   8.908718   8.982726   354221   18.350000   \n",
       "2016-06-15   8.871715   9.223254   8.871715   9.158496   339734   17.620001   \n",
       "2016-06-16   9.200988   9.313081   9.200988   9.285057   710184   17.870001   \n",
       "2016-06-17   9.331763   9.341104   9.229011   9.303740   282202   18.200001   \n",
       "...               ...        ...        ...        ...      ...         ...   \n",
       "2021-06-04  27.150000  27.379999  27.000000  27.230000  1078576  128.589996   \n",
       "2021-06-07  27.219999  27.610001  27.180000  27.600000   473300  129.789993   \n",
       "2021-06-08  27.600000  27.620001  27.020000  27.350000  1222138  130.520004   \n",
       "2021-06-09  27.260000  27.730000  27.160000  27.299999   806659  130.479996   \n",
       "2021-06-10  27.299999  27.610001  27.120001  27.250000   550751  130.660004   \n",
       "\n",
       "                                                        ...    IAG.AX  \\\n",
       "                  High         Low       Close  Volume  ...      Open   \n",
       "Date                                                    ...             \n",
       "2016-06-10   18.799999   18.500000   18.690001   42482  ...  4.643825   \n",
       "2016-06-14   18.350000   17.575001   17.629999  352964  ...  4.578991   \n",
       "2016-06-15   18.150000   17.400000   17.620001   33971  ...  4.562781   \n",
       "2016-06-16   18.500000   17.870001   18.280001  102305  ...  4.546572   \n",
       "2016-06-17   18.459999   18.010000   18.150000   30676  ...  4.546572   \n",
       "...                ...         ...         ...     ...  ...       ...   \n",
       "2021-06-04  130.320007  127.930000  129.410004  446762  ...  5.140000   \n",
       "2021-06-07  130.449997  129.009995  130.149994  328626  ...  5.270000   \n",
       "2021-06-08  132.009995  129.729996  132.009995  315151  ...  5.230000   \n",
       "2021-06-09  132.169998  128.899994  129.279999  346768  ...  5.250000   \n",
       "2021-06-10  133.559998  129.820007  133.539993  347317  ...  5.220000   \n",
       "\n",
       "                                                      SHL.AX             \\\n",
       "                High       Low     Close   Volume       Open       High   \n",
       "Date                                                                      \n",
       "2016-06-10  4.724869  4.643825  4.676243  3071717  18.263859  18.562428   \n",
       "2016-06-14  4.619512  4.562782  4.603304  5211182  18.101779  18.391817   \n",
       "2016-06-15  4.570885  4.489841  4.489841  6329415  18.152962  18.366226   \n",
       "2016-06-16  4.546572  4.489841  4.489841  7338575  18.280920  18.323572   \n",
       "2016-06-17  4.635721  4.514155  4.603304  6588265  18.042066  18.118841   \n",
       "...              ...       ...       ...      ...        ...        ...   \n",
       "2021-06-04  5.240000  5.110000  5.230000  6502427  34.540001  35.369999   \n",
       "2021-06-07  5.280000  5.190000  5.240000  3606613  35.680000  35.880001   \n",
       "2021-06-08  5.290000  5.200000  5.250000  4817867  35.310001  35.759998   \n",
       "2021-06-09  5.310000  5.210000  5.220000  3986834  35.500000  35.810001   \n",
       "2021-06-10  5.280000  5.200000  5.230000  2077321  35.980000  36.150002   \n",
       "\n",
       "                                           \n",
       "                  Low      Close   Volume  \n",
       "Date                                       \n",
       "2016-06-10  18.042065  18.562428  1110712  \n",
       "2016-06-14  18.067657  18.246798  1360039  \n",
       "2016-06-15  18.076188  18.280920  1113689  \n",
       "2016-06-16  17.871455  17.965290  1412868  \n",
       "2016-06-17  17.722171  17.837334  1277983  \n",
       "...               ...        ...      ...  \n",
       "2021-06-04  34.529999  35.160000  1163534  \n",
       "2021-06-07  35.139999  35.270000   782790  \n",
       "2021-06-08  35.160000  35.520000   900888  \n",
       "2021-06-09  35.330002  35.630001   961113  \n",
       "2021-06-10  35.700001  35.810001   645057  \n",
       "\n",
       "[1267 rows x 185 columns]"
      ],
      "text/html": "<div>\n<style scoped>\n    .dataframe tbody tr th:only-of-type {\n        vertical-align: middle;\n    }\n\n    .dataframe tbody tr th {\n        vertical-align: top;\n    }\n\n    .dataframe thead tr th {\n        text-align: left;\n    }\n\n    .dataframe thead tr:last-of-type th {\n        text-align: right;\n    }\n</style>\n<table border=\"1\" class=\"dataframe\">\n  <thead>\n    <tr>\n      <th></th>\n      <th colspan=\"5\" halign=\"left\">FPH.AX</th>\n      <th colspan=\"5\" halign=\"left\">XRO.AX</th>\n      <th>...</th>\n      <th colspan=\"5\" halign=\"left\">IAG.AX</th>\n      <th colspan=\"5\" halign=\"left\">SHL.AX</th>\n    </tr>\n    <tr>\n      <th></th>\n      <th>Open</th>\n      <th>High</th>\n      <th>Low</th>\n      <th>Close</th>\n      <th>Volume</th>\n      <th>Open</th>\n      <th>High</th>\n      <th>Low</th>\n      <th>Close</th>\n      <th>Volume</th>\n      <th>...</th>\n      <th>Open</th>\n      <th>High</th>\n      <th>Low</th>\n      <th>Close</th>\n      <th>Volume</th>\n      <th>Open</th>\n      <th>High</th>\n      <th>Low</th>\n      <th>Close</th>\n      <th>Volume</th>\n    </tr>\n    <tr>\n      <th>Date</th>\n      <th></th>\n      <th></th>\n      <th></th>\n      <th></th>\n      <th></th>\n      <th></th>\n      <th></th>\n      <th></th>\n      <th></th>\n      <th></th>\n      <th></th>\n      <th></th>\n      <th></th>\n      <th></th>\n      <th></th>\n      <th></th>\n      <th></th>\n      <th></th>\n      <th></th>\n      <th></th>\n      <th></th>\n    </tr>\n  </thead>\n  <tbody>\n    <tr>\n      <th>2016-06-10</th>\n      <td>9.389770</td>\n      <td>9.417523</td>\n      <td>9.325013</td>\n      <td>9.343515</td>\n      <td>183959</td>\n      <td>18.670000</td>\n      <td>18.799999</td>\n      <td>18.500000</td>\n      <td>18.690001</td>\n      <td>42482</td>\n      <td>...</td>\n      <td>4.643825</td>\n      <td>4.724869</td>\n      <td>4.643825</td>\n      <td>4.676243</td>\n      <td>3071717</td>\n      <td>18.263859</td>\n      <td>18.562428</td>\n      <td>18.042065</td>\n      <td>18.562428</td>\n      <td>1110712</td>\n    </tr>\n    <tr>\n      <th>2016-06-14</th>\n      <td>9.112240</td>\n      <td>9.130742</td>\n      <td>8.908718</td>\n      <td>8.982726</td>\n      <td>354221</td>\n      <td>18.350000</td>\n      <td>18.350000</td>\n      <td>17.575001</td>\n      <td>17.629999</td>\n      <td>352964</td>\n      <td>...</td>\n      <td>4.578991</td>\n      <td>4.619512</td>\n      <td>4.562782</td>\n      <td>4.603304</td>\n      <td>5211182</td>\n      <td>18.101779</td>\n      <td>18.391817</td>\n      <td>18.067657</td>\n      <td>18.246798</td>\n      <td>1360039</td>\n    </tr>\n    <tr>\n      <th>2016-06-15</th>\n      <td>8.871715</td>\n      <td>9.223254</td>\n      <td>8.871715</td>\n      <td>9.158496</td>\n      <td>339734</td>\n      <td>17.620001</td>\n      <td>18.150000</td>\n      <td>17.400000</td>\n      <td>17.620001</td>\n      <td>33971</td>\n      <td>...</td>\n      <td>4.562781</td>\n      <td>4.570885</td>\n      <td>4.489841</td>\n      <td>4.489841</td>\n      <td>6329415</td>\n      <td>18.152962</td>\n      <td>18.366226</td>\n      <td>18.076188</td>\n      <td>18.280920</td>\n      <td>1113689</td>\n    </tr>\n    <tr>\n      <th>2016-06-16</th>\n      <td>9.200988</td>\n      <td>9.313081</td>\n      <td>9.200988</td>\n      <td>9.285057</td>\n      <td>710184</td>\n      <td>17.870001</td>\n      <td>18.500000</td>\n      <td>17.870001</td>\n      <td>18.280001</td>\n      <td>102305</td>\n      <td>...</td>\n      <td>4.546572</td>\n      <td>4.546572</td>\n      <td>4.489841</td>\n      <td>4.489841</td>\n      <td>7338575</td>\n      <td>18.280920</td>\n      <td>18.323572</td>\n      <td>17.871455</td>\n      <td>17.965290</td>\n      <td>1412868</td>\n    </tr>\n    <tr>\n      <th>2016-06-17</th>\n      <td>9.331763</td>\n      <td>9.341104</td>\n      <td>9.229011</td>\n      <td>9.303740</td>\n      <td>282202</td>\n      <td>18.200001</td>\n      <td>18.459999</td>\n      <td>18.010000</td>\n      <td>18.150000</td>\n      <td>30676</td>\n      <td>...</td>\n      <td>4.546572</td>\n      <td>4.635721</td>\n      <td>4.514155</td>\n      <td>4.603304</td>\n      <td>6588265</td>\n      <td>18.042066</td>\n      <td>18.118841</td>\n      <td>17.722171</td>\n      <td>17.837334</td>\n      <td>1277983</td>\n    </tr>\n    <tr>\n      <th>...</th>\n      <td>...</td>\n      <td>...</td>\n      <td>...</td>\n      <td>...</td>\n      <td>...</td>\n      <td>...</td>\n      <td>...</td>\n      <td>...</td>\n      <td>...</td>\n      <td>...</td>\n      <td>...</td>\n      <td>...</td>\n      <td>...</td>\n      <td>...</td>\n      <td>...</td>\n      <td>...</td>\n      <td>...</td>\n      <td>...</td>\n      <td>...</td>\n      <td>...</td>\n      <td>...</td>\n    </tr>\n    <tr>\n      <th>2021-06-04</th>\n      <td>27.150000</td>\n      <td>27.379999</td>\n      <td>27.000000</td>\n      <td>27.230000</td>\n      <td>1078576</td>\n      <td>128.589996</td>\n      <td>130.320007</td>\n      <td>127.930000</td>\n      <td>129.410004</td>\n      <td>446762</td>\n      <td>...</td>\n      <td>5.140000</td>\n      <td>5.240000</td>\n      <td>5.110000</td>\n      <td>5.230000</td>\n      <td>6502427</td>\n      <td>34.540001</td>\n      <td>35.369999</td>\n      <td>34.529999</td>\n      <td>35.160000</td>\n      <td>1163534</td>\n    </tr>\n    <tr>\n      <th>2021-06-07</th>\n      <td>27.219999</td>\n      <td>27.610001</td>\n      <td>27.180000</td>\n      <td>27.600000</td>\n      <td>473300</td>\n      <td>129.789993</td>\n      <td>130.449997</td>\n      <td>129.009995</td>\n      <td>130.149994</td>\n      <td>328626</td>\n      <td>...</td>\n      <td>5.270000</td>\n      <td>5.280000</td>\n      <td>5.190000</td>\n      <td>5.240000</td>\n      <td>3606613</td>\n      <td>35.680000</td>\n      <td>35.880001</td>\n      <td>35.139999</td>\n      <td>35.270000</td>\n      <td>782790</td>\n    </tr>\n    <tr>\n      <th>2021-06-08</th>\n      <td>27.600000</td>\n      <td>27.620001</td>\n      <td>27.020000</td>\n      <td>27.350000</td>\n      <td>1222138</td>\n      <td>130.520004</td>\n      <td>132.009995</td>\n      <td>129.729996</td>\n      <td>132.009995</td>\n      <td>315151</td>\n      <td>...</td>\n      <td>5.230000</td>\n      <td>5.290000</td>\n      <td>5.200000</td>\n      <td>5.250000</td>\n      <td>4817867</td>\n      <td>35.310001</td>\n      <td>35.759998</td>\n      <td>35.160000</td>\n      <td>35.520000</td>\n      <td>900888</td>\n    </tr>\n    <tr>\n      <th>2021-06-09</th>\n      <td>27.260000</td>\n      <td>27.730000</td>\n      <td>27.160000</td>\n      <td>27.299999</td>\n      <td>806659</td>\n      <td>130.479996</td>\n      <td>132.169998</td>\n      <td>128.899994</td>\n      <td>129.279999</td>\n      <td>346768</td>\n      <td>...</td>\n      <td>5.250000</td>\n      <td>5.310000</td>\n      <td>5.210000</td>\n      <td>5.220000</td>\n      <td>3986834</td>\n      <td>35.500000</td>\n      <td>35.810001</td>\n      <td>35.330002</td>\n      <td>35.630001</td>\n      <td>961113</td>\n    </tr>\n    <tr>\n      <th>2021-06-10</th>\n      <td>27.299999</td>\n      <td>27.610001</td>\n      <td>27.120001</td>\n      <td>27.250000</td>\n      <td>550751</td>\n      <td>130.660004</td>\n      <td>133.559998</td>\n      <td>129.820007</td>\n      <td>133.539993</td>\n      <td>347317</td>\n      <td>...</td>\n      <td>5.220000</td>\n      <td>5.280000</td>\n      <td>5.200000</td>\n      <td>5.230000</td>\n      <td>2077321</td>\n      <td>35.980000</td>\n      <td>36.150002</td>\n      <td>35.700001</td>\n      <td>35.810001</td>\n      <td>645057</td>\n    </tr>\n  </tbody>\n</table>\n<p>1267 rows × 185 columns</p>\n</div>"
     },
     "metadata": {},
     "execution_count": 5
    }
   ],
   "source": [
    " data#.loc[\"2016\":\"2021\"]"
   ]
  },
  {
   "cell_type": "code",
   "execution_count": 6,
   "metadata": {},
   "outputs": [],
   "source": [
    "# stock like Afterpay lists later but may provide relevant value ( 5 year data used as well)\r\n",
    "data_right = data.loc[\"2016\":\"2021\"]"
   ]
  },
  {
   "cell_type": "code",
   "execution_count": 7,
   "metadata": {},
   "outputs": [
    {
     "output_type": "execute_result",
     "data": {
      "text/plain": [
       "FPH.AX  Open      0\n",
       "        High      0\n",
       "        Low       0\n",
       "        Close     0\n",
       "        Volume    0\n",
       "                 ..\n",
       "SHL.AX  Open      0\n",
       "        High      0\n",
       "        Low       0\n",
       "        Close     0\n",
       "        Volume    0\n",
       "Length: 185, dtype: int64"
      ]
     },
     "metadata": {},
     "execution_count": 7
    }
   ],
   "source": [
    "data_right.isna().sum()"
   ]
  },
  {
   "cell_type": "code",
   "execution_count": 8,
   "metadata": {},
   "outputs": [],
   "source": [
    "stocks_close= pd.DataFrame(columns=stock_list)\n",
    "for stock in stock_list:\n",
    "    stocks_close[stock] = data_right[stock]['Close']\n",
    "    \n"
   ]
  },
  {
   "cell_type": "code",
   "execution_count": 9,
   "metadata": {},
   "outputs": [],
   "source": [
    "stocks_close = stocks_close[~stocks_close[\"APT.AX\"].isna()]"
   ]
  },
  {
   "cell_type": "code",
   "execution_count": 10,
   "metadata": {},
   "outputs": [
    {
     "output_type": "execute_result",
     "data": {
      "text/plain": [
       "BHP.AX    0\n",
       "FMG.AX    0\n",
       "RIO.AX    0\n",
       "NCM.AX    0\n",
       "JHX.AX    0\n",
       "S32.AX    0\n",
       "AMC.AX    0\n",
       "NST.AX    0\n",
       "BSL.AX    0\n",
       "GMG.AX    0\n",
       "SCG.AX    0\n",
       "MGR.AX    0\n",
       "DXS.AX    0\n",
       "SGP.AX    0\n",
       "CBA.AX    0\n",
       "WBC.AX    0\n",
       "NAB.AX    0\n",
       "ANZ.AX    0\n",
       "MQG.AX    0\n",
       "QBE.AX    0\n",
       "ASX.AX    0\n",
       "SUN.AX    0\n",
       "IAG.AX    0\n",
       "TCL.AX    0\n",
       "SYD.AX    0\n",
       "BXB.AX    0\n",
       "REH.AX    0\n",
       "AIA.AX    0\n",
       "CSL.AX    0\n",
       "SHL.AX    0\n",
       "FPH.AX    0\n",
       "COH.AX    0\n",
       "RHC.AX    0\n",
       "RMD.AX    0\n",
       "APT.AX    0\n",
       "XRO.AX    0\n",
       "CPU.AX    0\n",
       "dtype: int64"
      ]
     },
     "metadata": {},
     "execution_count": 10
    }
   ],
   "source": [
    "stocks_close.isna().sum()"
   ]
  },
  {
   "cell_type": "code",
   "execution_count": 11,
   "metadata": {},
   "outputs": [
    {
     "output_type": "execute_result",
     "data": {
      "text/plain": [
       "               BHP.AX     FMG.AX      RIO.AX     NCM.AX     JHX.AX    S32.AX  \\\n",
       "Date                                                                           \n",
       "2017-06-29  18.447258   3.465730   52.555302  19.788643  19.647369  2.492296   \n",
       "2017-06-30  18.290127   3.472382   52.455811  19.244528  19.124935  2.420055   \n",
       "2017-07-03  18.250843   3.498990   52.729408  19.120436  18.658474  2.420055   \n",
       "2017-07-04  18.667244   3.498990   53.143948  18.948608  18.891703  2.465206   \n",
       "2017-07-05  18.973648   3.552207   54.055935  18.872238  18.574509  2.492296   \n",
       "...               ...        ...         ...        ...        ...       ...   \n",
       "2021-06-04  48.750000  22.969999  124.620003  27.450001  42.950001  3.040000   \n",
       "2021-06-07  48.849998  22.650000  125.330002  27.600000  43.099998  3.000000   \n",
       "2021-06-08  48.380001  22.420000  124.160004  27.690001  43.520000  2.980000   \n",
       "2021-06-09  48.669998  22.650000  124.800003  27.500000  43.509998  2.990000   \n",
       "2021-06-10  48.310001  22.799999  125.089996  27.520000  44.360001  2.985000   \n",
       "\n",
       "               AMC.AX     NST.AX     BSL.AX     GMG.AX  ...    AIA.AX  \\\n",
       "Date                                                    ...             \n",
       "2017-06-29  13.810412   4.550181  12.773681   7.481699  ...  6.210143   \n",
       "2017-06-30  13.543057   4.465570  12.715925   7.242431  ...  6.146589   \n",
       "2017-07-03  13.401028   4.446767  12.985451   7.168810  ...  6.155669   \n",
       "2017-07-04  13.651670   4.362157  13.274232   7.297647  ...  6.146589   \n",
       "2017-07-05  13.685087   4.315151  13.389742   7.270039  ...  6.164748   \n",
       "...               ...        ...        ...        ...  ...       ...   \n",
       "2021-06-04  15.460000  10.910000  22.450001  20.160000  ...  7.140000   \n",
       "2021-06-07  15.550000  10.930000  22.459999  20.530001  ...  7.130000   \n",
       "2021-06-08  15.530000  11.050000  22.600000  20.389999  ...  7.110000   \n",
       "2021-06-09  15.510000  10.900000  22.320000  20.250000  ...  7.200000   \n",
       "2021-06-10  15.650000  11.030000  22.105000  20.670000  ...  7.160000   \n",
       "\n",
       "                CSL.AX     SHL.AX     FPH.AX      COH.AX     RHC.AX  \\\n",
       "Date                                                                  \n",
       "2017-06-29  135.642593  21.703848  10.597006  151.108536  70.006866   \n",
       "2017-06-30  131.785370  21.385973  10.358333  146.893982  68.091789   \n",
       "2017-07-03  129.150238  21.041609  10.148301  144.068558  67.518188   \n",
       "2017-07-04  130.305450  21.438951  10.138756  145.240311  68.397087   \n",
       "2017-07-05  128.892441  20.608942   9.976459  144.512695  67.897499   \n",
       "...                ...        ...        ...         ...        ...   \n",
       "2021-06-04  291.369995  35.160000  27.230000  228.850006  62.910000   \n",
       "2021-06-07  292.570007  35.270000  27.600000  230.199997  62.070000   \n",
       "2021-06-08  295.190002  35.520000  27.350000  232.750000  62.279999   \n",
       "2021-06-09  294.109985  35.630001  27.299999  234.550003  63.490002   \n",
       "2021-06-10  295.869995  35.810001  27.250000  234.919998  63.185001   \n",
       "\n",
       "               RMD.AX     APT.AX      XRO.AX     CPU.AX  \n",
       "Date                                                     \n",
       "2017-06-29   9.910036   2.700000   24.650000  13.013454  \n",
       "2017-06-30   9.792988   2.950000   24.190001  12.690361  \n",
       "2017-07-03   9.812496   3.000000   24.000000  12.807034  \n",
       "2017-07-04   9.851512   3.000000   24.200001  12.986528  \n",
       "2017-07-05   9.871020   3.180000   24.480000  13.004478  \n",
       "...               ...        ...         ...        ...  \n",
       "2021-06-04  26.840000  94.480003  129.410004  16.250000  \n",
       "2021-06-07  26.850000  96.379997  130.149994  16.110001  \n",
       "2021-06-08  26.930000  97.199997  132.009995  16.180000  \n",
       "2021-06-09  27.120001  98.839996  129.279999  16.129999  \n",
       "2021-06-10  28.250000  99.809998  133.539993  16.209999  \n",
       "\n",
       "[1002 rows x 37 columns]"
      ],
      "text/html": "<div>\n<style scoped>\n    .dataframe tbody tr th:only-of-type {\n        vertical-align: middle;\n    }\n\n    .dataframe tbody tr th {\n        vertical-align: top;\n    }\n\n    .dataframe thead th {\n        text-align: right;\n    }\n</style>\n<table border=\"1\" class=\"dataframe\">\n  <thead>\n    <tr style=\"text-align: right;\">\n      <th></th>\n      <th>BHP.AX</th>\n      <th>FMG.AX</th>\n      <th>RIO.AX</th>\n      <th>NCM.AX</th>\n      <th>JHX.AX</th>\n      <th>S32.AX</th>\n      <th>AMC.AX</th>\n      <th>NST.AX</th>\n      <th>BSL.AX</th>\n      <th>GMG.AX</th>\n      <th>...</th>\n      <th>AIA.AX</th>\n      <th>CSL.AX</th>\n      <th>SHL.AX</th>\n      <th>FPH.AX</th>\n      <th>COH.AX</th>\n      <th>RHC.AX</th>\n      <th>RMD.AX</th>\n      <th>APT.AX</th>\n      <th>XRO.AX</th>\n      <th>CPU.AX</th>\n    </tr>\n    <tr>\n      <th>Date</th>\n      <th></th>\n      <th></th>\n      <th></th>\n      <th></th>\n      <th></th>\n      <th></th>\n      <th></th>\n      <th></th>\n      <th></th>\n      <th></th>\n      <th></th>\n      <th></th>\n      <th></th>\n      <th></th>\n      <th></th>\n      <th></th>\n      <th></th>\n      <th></th>\n      <th></th>\n      <th></th>\n      <th></th>\n    </tr>\n  </thead>\n  <tbody>\n    <tr>\n      <th>2017-06-29</th>\n      <td>18.447258</td>\n      <td>3.465730</td>\n      <td>52.555302</td>\n      <td>19.788643</td>\n      <td>19.647369</td>\n      <td>2.492296</td>\n      <td>13.810412</td>\n      <td>4.550181</td>\n      <td>12.773681</td>\n      <td>7.481699</td>\n      <td>...</td>\n      <td>6.210143</td>\n      <td>135.642593</td>\n      <td>21.703848</td>\n      <td>10.597006</td>\n      <td>151.108536</td>\n      <td>70.006866</td>\n      <td>9.910036</td>\n      <td>2.700000</td>\n      <td>24.650000</td>\n      <td>13.013454</td>\n    </tr>\n    <tr>\n      <th>2017-06-30</th>\n      <td>18.290127</td>\n      <td>3.472382</td>\n      <td>52.455811</td>\n      <td>19.244528</td>\n      <td>19.124935</td>\n      <td>2.420055</td>\n      <td>13.543057</td>\n      <td>4.465570</td>\n      <td>12.715925</td>\n      <td>7.242431</td>\n      <td>...</td>\n      <td>6.146589</td>\n      <td>131.785370</td>\n      <td>21.385973</td>\n      <td>10.358333</td>\n      <td>146.893982</td>\n      <td>68.091789</td>\n      <td>9.792988</td>\n      <td>2.950000</td>\n      <td>24.190001</td>\n      <td>12.690361</td>\n    </tr>\n    <tr>\n      <th>2017-07-03</th>\n      <td>18.250843</td>\n      <td>3.498990</td>\n      <td>52.729408</td>\n      <td>19.120436</td>\n      <td>18.658474</td>\n      <td>2.420055</td>\n      <td>13.401028</td>\n      <td>4.446767</td>\n      <td>12.985451</td>\n      <td>7.168810</td>\n      <td>...</td>\n      <td>6.155669</td>\n      <td>129.150238</td>\n      <td>21.041609</td>\n      <td>10.148301</td>\n      <td>144.068558</td>\n      <td>67.518188</td>\n      <td>9.812496</td>\n      <td>3.000000</td>\n      <td>24.000000</td>\n      <td>12.807034</td>\n    </tr>\n    <tr>\n      <th>2017-07-04</th>\n      <td>18.667244</td>\n      <td>3.498990</td>\n      <td>53.143948</td>\n      <td>18.948608</td>\n      <td>18.891703</td>\n      <td>2.465206</td>\n      <td>13.651670</td>\n      <td>4.362157</td>\n      <td>13.274232</td>\n      <td>7.297647</td>\n      <td>...</td>\n      <td>6.146589</td>\n      <td>130.305450</td>\n      <td>21.438951</td>\n      <td>10.138756</td>\n      <td>145.240311</td>\n      <td>68.397087</td>\n      <td>9.851512</td>\n      <td>3.000000</td>\n      <td>24.200001</td>\n      <td>12.986528</td>\n    </tr>\n    <tr>\n      <th>2017-07-05</th>\n      <td>18.973648</td>\n      <td>3.552207</td>\n      <td>54.055935</td>\n      <td>18.872238</td>\n      <td>18.574509</td>\n      <td>2.492296</td>\n      <td>13.685087</td>\n      <td>4.315151</td>\n      <td>13.389742</td>\n      <td>7.270039</td>\n      <td>...</td>\n      <td>6.164748</td>\n      <td>128.892441</td>\n      <td>20.608942</td>\n      <td>9.976459</td>\n      <td>144.512695</td>\n      <td>67.897499</td>\n      <td>9.871020</td>\n      <td>3.180000</td>\n      <td>24.480000</td>\n      <td>13.004478</td>\n    </tr>\n    <tr>\n      <th>...</th>\n      <td>...</td>\n      <td>...</td>\n      <td>...</td>\n      <td>...</td>\n      <td>...</td>\n      <td>...</td>\n      <td>...</td>\n      <td>...</td>\n      <td>...</td>\n      <td>...</td>\n      <td>...</td>\n      <td>...</td>\n      <td>...</td>\n      <td>...</td>\n      <td>...</td>\n      <td>...</td>\n      <td>...</td>\n      <td>...</td>\n      <td>...</td>\n      <td>...</td>\n      <td>...</td>\n    </tr>\n    <tr>\n      <th>2021-06-04</th>\n      <td>48.750000</td>\n      <td>22.969999</td>\n      <td>124.620003</td>\n      <td>27.450001</td>\n      <td>42.950001</td>\n      <td>3.040000</td>\n      <td>15.460000</td>\n      <td>10.910000</td>\n      <td>22.450001</td>\n      <td>20.160000</td>\n      <td>...</td>\n      <td>7.140000</td>\n      <td>291.369995</td>\n      <td>35.160000</td>\n      <td>27.230000</td>\n      <td>228.850006</td>\n      <td>62.910000</td>\n      <td>26.840000</td>\n      <td>94.480003</td>\n      <td>129.410004</td>\n      <td>16.250000</td>\n    </tr>\n    <tr>\n      <th>2021-06-07</th>\n      <td>48.849998</td>\n      <td>22.650000</td>\n      <td>125.330002</td>\n      <td>27.600000</td>\n      <td>43.099998</td>\n      <td>3.000000</td>\n      <td>15.550000</td>\n      <td>10.930000</td>\n      <td>22.459999</td>\n      <td>20.530001</td>\n      <td>...</td>\n      <td>7.130000</td>\n      <td>292.570007</td>\n      <td>35.270000</td>\n      <td>27.600000</td>\n      <td>230.199997</td>\n      <td>62.070000</td>\n      <td>26.850000</td>\n      <td>96.379997</td>\n      <td>130.149994</td>\n      <td>16.110001</td>\n    </tr>\n    <tr>\n      <th>2021-06-08</th>\n      <td>48.380001</td>\n      <td>22.420000</td>\n      <td>124.160004</td>\n      <td>27.690001</td>\n      <td>43.520000</td>\n      <td>2.980000</td>\n      <td>15.530000</td>\n      <td>11.050000</td>\n      <td>22.600000</td>\n      <td>20.389999</td>\n      <td>...</td>\n      <td>7.110000</td>\n      <td>295.190002</td>\n      <td>35.520000</td>\n      <td>27.350000</td>\n      <td>232.750000</td>\n      <td>62.279999</td>\n      <td>26.930000</td>\n      <td>97.199997</td>\n      <td>132.009995</td>\n      <td>16.180000</td>\n    </tr>\n    <tr>\n      <th>2021-06-09</th>\n      <td>48.669998</td>\n      <td>22.650000</td>\n      <td>124.800003</td>\n      <td>27.500000</td>\n      <td>43.509998</td>\n      <td>2.990000</td>\n      <td>15.510000</td>\n      <td>10.900000</td>\n      <td>22.320000</td>\n      <td>20.250000</td>\n      <td>...</td>\n      <td>7.200000</td>\n      <td>294.109985</td>\n      <td>35.630001</td>\n      <td>27.299999</td>\n      <td>234.550003</td>\n      <td>63.490002</td>\n      <td>27.120001</td>\n      <td>98.839996</td>\n      <td>129.279999</td>\n      <td>16.129999</td>\n    </tr>\n    <tr>\n      <th>2021-06-10</th>\n      <td>48.310001</td>\n      <td>22.799999</td>\n      <td>125.089996</td>\n      <td>27.520000</td>\n      <td>44.360001</td>\n      <td>2.985000</td>\n      <td>15.650000</td>\n      <td>11.030000</td>\n      <td>22.105000</td>\n      <td>20.670000</td>\n      <td>...</td>\n      <td>7.160000</td>\n      <td>295.869995</td>\n      <td>35.810001</td>\n      <td>27.250000</td>\n      <td>234.919998</td>\n      <td>63.185001</td>\n      <td>28.250000</td>\n      <td>99.809998</td>\n      <td>133.539993</td>\n      <td>16.209999</td>\n    </tr>\n  </tbody>\n</table>\n<p>1002 rows × 37 columns</p>\n</div>"
     },
     "metadata": {},
     "execution_count": 11
    }
   ],
   "source": [
    "stocks_close"
   ]
  },
  {
   "cell_type": "code",
   "execution_count": 12,
   "metadata": {},
   "outputs": [
    {
     "output_type": "execute_result",
     "data": {
      "text/plain": [
       "['BHP.AX',\n",
       " 'FMG.AX',\n",
       " 'RIO.AX',\n",
       " 'NCM.AX',\n",
       " 'JHX.AX',\n",
       " 'S32.AX',\n",
       " 'AMC.AX',\n",
       " 'NST.AX',\n",
       " 'BSL.AX',\n",
       " 'GMG.AX',\n",
       " 'SCG.AX',\n",
       " 'MGR.AX',\n",
       " 'DXS.AX',\n",
       " 'SGP.AX',\n",
       " 'CBA.AX',\n",
       " 'WBC.AX',\n",
       " 'NAB.AX',\n",
       " 'ANZ.AX',\n",
       " 'MQG.AX',\n",
       " 'QBE.AX',\n",
       " 'ASX.AX',\n",
       " 'SUN.AX',\n",
       " 'IAG.AX',\n",
       " 'TCL.AX',\n",
       " 'SYD.AX',\n",
       " 'BXB.AX',\n",
       " 'REH.AX',\n",
       " 'AIA.AX',\n",
       " 'CSL.AX',\n",
       " 'SHL.AX',\n",
       " 'FPH.AX',\n",
       " 'COH.AX',\n",
       " 'RHC.AX',\n",
       " 'RMD.AX',\n",
       " 'APT.AX',\n",
       " 'XRO.AX',\n",
       " 'CPU.AX']"
      ]
     },
     "metadata": {},
     "execution_count": 12
    }
   ],
   "source": [
    "stocks_close.columns.to_list()"
   ]
  },
  {
   "cell_type": "code",
   "execution_count": 13,
   "metadata": {},
   "outputs": [
    {
     "output_type": "stream",
     "name": "stdout",
     "text": [
      "1002 37\n[[ 18.447258     3.46572995  52.55530167 ...   2.70000005  24.64999962\n   13.01345444]\n [ 18.2901268    3.47238183  52.45581055 ...   2.95000005  24.19000053\n   12.69036102]\n [ 18.25084305   3.4989903   52.72940826 ...   3.          24.\n   12.80703449]\n ...\n [ 48.38000107  22.42000008 124.16000366 ...  97.19999695 132.00999451\n   16.18000031]\n [ 48.66999817  22.64999962 124.80000305 ...  98.83999634 129.27999878\n   16.12999916]\n [ 48.31000137  22.79999924 125.08999634 ...  99.80999756 133.53999329\n   16.20999908]]\n"
     ]
    }
   ],
   "source": [
    "#store stock prices as an array\n",
    "assetLabels = stocks_close.columns.to_list()\n",
    "arStockPrices = np.asarray(stocks_close)\n",
    "[rows, cols]= arStockPrices.shape\n",
    "print(rows, cols)\n",
    "print(arStockPrices)\n"
   ]
  },
  {
   "cell_type": "code",
   "execution_count": 14,
   "metadata": {},
   "outputs": [],
   "source": [
    "#function for Stock Returns computing \n",
    "def StockReturnsComputing(StockPrice, Rows, Columns):\n",
    "    \n",
    "    import numpy as np\n",
    "    \n",
    "    StockReturn = np.zeros([Rows-1, Columns])\n",
    "    for j in range(Columns):  # j: Assets\n",
    "        for i in range(Rows-1):     #i: Daily Prices\n",
    "            StockReturn[i,j]=((StockPrice[i+1, j]-StockPrice[i,j])/StockPrice[i,j])\n",
    "\n",
    "    return StockReturn\n"
   ]
  },
  {
   "cell_type": "code",
   "execution_count": 15,
   "metadata": {},
   "outputs": [
    {
     "output_type": "stream",
     "name": "stdout",
     "text": [
      "Size of the array of daily returns of stocks:\n (1001, 37)\nArray of daily returns of stocks\n [[-0.00851786  0.00191933 -0.00189307 ...  0.09259259 -0.01866122\n  -0.02482764]\n [-0.00214781  0.00766289  0.00521578 ...  0.01694914 -0.00785451\n   0.00919387]\n [ 0.02281543  0.          0.00786163 ...  0.          0.00833337\n   0.01401526]\n ...\n [-0.00962124 -0.01015451 -0.00933534 ...  0.00850799  0.01429121\n   0.00434511]\n [ 0.00599415  0.01025868  0.00515463 ...  0.01687242 -0.02068022\n  -0.00309031]\n [-0.00739669  0.0066225   0.00232366 ...  0.00981385  0.03295169\n   0.0049597 ]]\n"
     ]
    }
   ],
   "source": [
    "#compute daily returns of all stocks in the mini universe\n",
    "# get back array of daily returns\n",
    "arReturns = StockReturnsComputing(arStockPrices, rows, cols)\n",
    "print('Size of the array of daily returns of stocks:\\n', arReturns.shape)\n",
    "print('Array of daily returns of stocks\\n',  arReturns)"
   ]
  },
  {
   "cell_type": "code",
   "execution_count": 16,
   "metadata": {},
   "outputs": [
    {
     "output_type": "stream",
     "name": "stdout",
     "text": [
      "Mean returns:\n [1.11085217e-03 2.18866856e-03 1.00118955e-03 5.24745781e-04\n 1.04421194e-03 4.57543686e-04 2.11338359e-04 1.29701766e-03\n 8.78173763e-04 1.16989338e-03 8.62549640e-05 6.47512562e-04\n 4.05860816e-04 5.31168164e-04 5.08755347e-04 1.95043672e-04\n 2.43481519e-04 3.50323848e-04 8.52284972e-04 2.72903403e-04\n 5.32775397e-04 3.40881127e-05 2.02492628e-05 4.52099789e-04\n 1.01915474e-04 3.39513916e-04 1.21980347e-03 3.12672811e-04\n 9.24719571e-04 6.14593444e-04 1.11806636e-03 6.42956139e-04\n 5.89141436e-05 1.21256049e-03 4.72674418e-03 1.95168886e-03\n 3.80036126e-04]\nSize of Variance-Covariance matrix of returns:\n (37, 37)\nVariance-Covariance matrix of returns:\n [[0.0003  0.00028 0.00023 ... 0.00021 0.00011 0.00014]\n [0.00028 0.00061 0.00029 ... 0.00022 0.00013 0.00012]\n [0.00023 0.00029 0.00027 ... 0.0002  0.00009 0.0001 ]\n ...\n [0.00021 0.00022 0.0002  ... 0.00225 0.0004  0.00032]\n [0.00011 0.00013 0.00009 ... 0.0004  0.00052 0.00016]\n [0.00014 0.00012 0.0001  ... 0.00032 0.00016 0.00032]]\n"
     ]
    }
   ],
   "source": [
    "#compute mean returns and variance covariance matrix of returns\n",
    "meanReturns = np.mean(arReturns, axis = 0)\n",
    "print('Mean returns:\\n', meanReturns)\n",
    "covReturns = np.cov(arReturns, rowvar=False)\n",
    "#set precision for printing results\n",
    "np.set_printoptions(precision=5, suppress = True)\n",
    "print('Size of Variance-Covariance matrix of returns:\\n', covReturns.shape)\n",
    "print('Variance-Covariance matrix of returns:\\n', covReturns)"
   ]
  },
  {
   "cell_type": "markdown",
   "metadata": {},
   "source": [
    "*Prepare parameters for k-means clustering\n",
    "\n"
   ]
  },
  {
   "cell_type": "code",
   "execution_count": 17,
   "metadata": {},
   "outputs": [
    {
     "output_type": "stream",
     "name": "stdout",
     "text": [
      "Size of the asset parameters for clustering:\n (37, 38)\nAsset parameters for clustering:\n [[0.00111 0.0003  0.00028 ... 0.00021 0.00011 0.00014]\n [0.00219 0.00028 0.00061 ... 0.00022 0.00013 0.00012]\n [0.001   0.00023 0.00029 ... 0.0002  0.00009 0.0001 ]\n ...\n [0.00473 0.00021 0.00022 ... 0.00225 0.0004  0.00032]\n [0.00195 0.00011 0.00013 ... 0.0004  0.00052 0.00016]\n [0.00038 0.00014 0.00012 ... 0.00032 0.00016 0.00032]]\n"
     ]
    }
   ],
   "source": [
    "#prepare asset parameters for k-means clustering\n",
    "#reshape for concatenation\n",
    "meanReturns = meanReturns.reshape(len(meanReturns),1)\n",
    "assetParameters = np.concatenate([meanReturns, covReturns], axis = 1)\n",
    "print('Size of the asset parameters for clustering:\\n', assetParameters.shape)\n",
    "print('Asset parameters for clustering:\\n', assetParameters)"
   ]
  },
  {
   "cell_type": "code",
   "execution_count": 18,
   "metadata": {},
   "outputs": [
    {
     "output_type": "stream",
     "name": "stdout",
     "text": [
      "Clustering of assets completed!\nCentroids:\n [[ 0.00042  0.0001   0.00007  0.00008  0.00005  0.00021  0.00016  0.00008\n   0.00002  0.00015  0.00021  0.00039  0.00036  0.00023  0.00039  0.00016\n   0.0002   0.00021  0.00021  0.00022  0.0002   0.00008  0.00019  0.00012\n   0.00017  0.00019  0.00008  0.00011  0.00018  0.00009  0.00009 -0.00001\n   0.00011  0.00012  0.00003  0.00036  0.00013  0.00015]\n [ 0.00103  0.00016  0.00015  0.00014  0.00005  0.00019  0.00019  0.00007\n   0.00005  0.00023  0.00014  0.00014  0.00014  0.0001   0.00016  0.00012\n   0.00014  0.00013  0.00015  0.00018  0.00015  0.00009  0.00014  0.00011\n   0.00011  0.0001   0.00008  0.00011  0.0001   0.00012  0.00008  0.00004\n   0.00012  0.00011  0.00007  0.00028  0.00014  0.00013]\n [ 0.00473  0.00021  0.00022  0.0002   0.00014  0.00036  0.00029  0.00014\n   0.0001   0.00037  0.0003   0.00034  0.00034  0.00021  0.00041  0.00023\n   0.00029  0.0003   0.00032  0.00039  0.00031  0.00017  0.00025  0.00018\n   0.00029  0.00022  0.00015  0.00022  0.00029  0.00017  0.00016  0.00009\n   0.00023  0.0002   0.00014  0.00225  0.0004   0.00032]\n [ 0.00048  0.00008  0.00007  0.00006  0.00011  0.00009  0.0001   0.00008\n   0.0001   0.00009  0.00008  0.00008  0.00008  0.00007  0.00009  0.00009\n   0.00008  0.00008  0.00009  0.0001   0.00009  0.00009  0.00009  0.00009\n   0.0001   0.00008  0.0001   0.00005  0.00006  0.00012  0.00011  0.00005\n   0.00015  0.00011  0.00007  0.00016  0.0001   0.00009]\n [ 0.00027  0.00013  0.0001   0.0001   0.00005  0.00015  0.00018  0.00008\n   0.00004  0.00016  0.00012  0.00019  0.00017  0.00013  0.00018  0.00016\n   0.00018  0.00018  0.00019  0.00017  0.00019  0.00009  0.00017  0.00014\n   0.00014  0.00014  0.00009  0.00008  0.00013  0.00011  0.00009  0.00002\n   0.00012  0.00013  0.00006  0.00026  0.00012  0.00016]\n [ 0.0013   0.0001   0.00007  0.00006  0.00039  0.00004  0.00005  0.00003\n   0.00083  0.00002  0.00009  0.       0.00002  0.00005  0.00005  0.00005\n   0.00001  0.00001  0.00002  0.00003  0.00002  0.00006  0.00003  0.00004\n   0.00009  0.00004  0.00002  0.00002  0.00006  0.00004  0.00005  0.00005\n   0.00005  0.00003  0.00006  0.0001   0.00007  0.00004]\n [ 0.00207  0.0002   0.00037  0.00019  0.00006  0.00013  0.00021  0.00006\n   0.00007  0.0002   0.0001   0.00008  0.0001   0.00006  0.00011  0.00012\n   0.00011  0.0001   0.00012  0.00015  0.00013  0.0001   0.00011  0.00011\n   0.00009  0.00007  0.00008  0.00008  0.00009  0.00014  0.00009  0.00006\n   0.00013  0.00011  0.0001   0.00031  0.00032  0.00014]\n [ 0.00117  0.00003  0.00004  0.00003  0.00003  0.00004  0.00005  0.00003\n   0.00006  0.00006  0.00006 -0.00002  0.00001  0.00003  0.00004  0.00005\n   0.00003  0.00003  0.00004  0.00006  0.00003  0.00007  0.00004  0.00007\n   0.00005  0.00002  0.00005  0.00003  0.00001  0.00011  0.00007  0.00023\n   0.00013  0.00009  0.00022  0.00011  0.00012  0.00005]]\nLabels:\n [1 6 1 3 1 4 3 5 1 1 0 0 4 0 4 4 4 4 1 4 3 4 4 4 4 3 1 4 1 3 7 3 4 7 2 6 4]\n"
     ]
    }
   ],
   "source": [
    "#kmeans clustering of assets using the characteristic vector of \n",
    "# mean return and variance-covariance vector of returns\n",
    "# random state to minimise impact centroid changes \n",
    "clusters=8\n",
    "assetsCluster= KMeans(algorithm='auto',  max_iter=600, n_clusters=clusters,random_state = 1)\n",
    "print('Clustering of assets completed!') \n",
    "assetsCluster.fit(assetParameters)\n",
    "centroids = assetsCluster.cluster_centers_\n",
    "labels = assetsCluster.labels_\n",
    "\n",
    "print('Centroids:\\n', centroids)\n",
    "print('Labels:\\n', labels)"
   ]
  },
  {
   "cell_type": "code",
   "execution_count": 19,
   "metadata": {},
   "outputs": [
    {
     "output_type": "stream",
     "name": "stdout",
     "text": [
      "Stocks in each of the clusters:\n\nCluster 1\n['SCG.AX' 'MGR.AX' 'SGP.AX']\nCluster 2\n['BHP.AX' 'RIO.AX' 'JHX.AX' 'BSL.AX' 'GMG.AX' 'MQG.AX' 'REH.AX' 'CSL.AX']\nCluster 3\n['APT.AX']\nCluster 4\n['NCM.AX' 'AMC.AX' 'ASX.AX' 'BXB.AX' 'SHL.AX' 'COH.AX']\nCluster 5\n['S32.AX' 'DXS.AX' 'CBA.AX' 'WBC.AX' 'NAB.AX' 'ANZ.AX' 'QBE.AX' 'SUN.AX'\n 'IAG.AX' 'TCL.AX' 'SYD.AX' 'AIA.AX' 'RHC.AX' 'CPU.AX']\nCluster 6\n['NST.AX']\nCluster 7\n['FMG.AX' 'XRO.AX']\nCluster 8\n['FPH.AX' 'RMD.AX']\n"
     ]
    }
   ],
   "source": [
    "#fixing asset labels to cluster points\n",
    "print('Stocks in each of the clusters:\\n',)\n",
    "assets = np.array(assetLabels)\n",
    "cluster_kme = {}\n",
    "for i in range(clusters):\n",
    "    print('Cluster', i+1)\n",
    "    clt  = np.where(labels == i)\n",
    "    assetsCluster = assets[clt]\n",
    "    cluster_kme[f'Cluster, {i+1}'] = assets[clt]\n",
    "    print(assetsCluster)\n",
    "    "
   ]
  },
  {
   "cell_type": "code",
   "execution_count": 20,
   "metadata": {},
   "outputs": [
    {
     "output_type": "execute_result",
     "data": {
      "text/plain": [
       "{'Cluster, 1': array(['SCG.AX', 'MGR.AX', 'SGP.AX'], dtype='<U6'),\n",
       " 'Cluster, 2': array(['BHP.AX', 'RIO.AX', 'JHX.AX', 'BSL.AX', 'GMG.AX', 'MQG.AX',\n",
       "        'REH.AX', 'CSL.AX'], dtype='<U6'),\n",
       " 'Cluster, 3': array(['APT.AX'], dtype='<U6'),\n",
       " 'Cluster, 4': array(['NCM.AX', 'AMC.AX', 'ASX.AX', 'BXB.AX', 'SHL.AX', 'COH.AX'],\n",
       "       dtype='<U6'),\n",
       " 'Cluster, 5': array(['S32.AX', 'DXS.AX', 'CBA.AX', 'WBC.AX', 'NAB.AX', 'ANZ.AX',\n",
       "        'QBE.AX', 'SUN.AX', 'IAG.AX', 'TCL.AX', 'SYD.AX', 'AIA.AX',\n",
       "        'RHC.AX', 'CPU.AX'], dtype='<U6'),\n",
       " 'Cluster, 6': array(['NST.AX'], dtype='<U6'),\n",
       " 'Cluster, 7': array(['FMG.AX', 'XRO.AX'], dtype='<U6'),\n",
       " 'Cluster, 8': array(['FPH.AX', 'RMD.AX'], dtype='<U6')}"
      ]
     },
     "metadata": {},
     "execution_count": 20
    }
   ],
   "source": [
    "cluster_kme "
   ]
  },
  {
   "source": [
    "To avoid risk, select one from each cluster $k$-portfolios "
   ],
   "cell_type": "markdown",
   "metadata": {}
  },
  {
   "cell_type": "code",
   "execution_count": 21,
   "metadata": {},
   "outputs": [],
   "source": [
    "selected_stocks_cluster=[]\n",
    "for cluster, stocks in cluster_kme.items():\n",
    "   rand_choice= random.randint(0,len(stocks)-1)\n",
    "   selected_stocks_cluster.append(stocks[rand_choice])\n",
    "\n"
   ]
  },
  {
   "cell_type": "code",
   "execution_count": 22,
   "metadata": {},
   "outputs": [
    {
     "output_type": "execute_result",
     "data": {
      "text/plain": [
       "['MGR.AX',\n",
       " 'JHX.AX',\n",
       " 'APT.AX',\n",
       " 'ASX.AX',\n",
       " 'RHC.AX',\n",
       " 'NST.AX',\n",
       " 'XRO.AX',\n",
       " 'RMD.AX']"
      ]
     },
     "metadata": {},
     "execution_count": 22
    }
   ],
   "source": [
    "selected_stocks_cluster"
   ]
  },
  {
   "cell_type": "code",
   "execution_count": 25,
   "metadata": {},
   "outputs": [],
   "source": [
    "with open('./data/pickles/selected_stocks_cluster.pickle', 'wb') as handle:\n",
    "    pickle.dump(selected_stocks_cluster, handle, protocol=pickle.HIGHEST_PROTOCOL)"
   ]
  },
  {
   "cell_type": "markdown",
   "metadata": {},
   "source": []
  }
 ],
 "metadata": {
  "kernelspec": {
   "name": "python3810jvsc74a57bd071ac64b6f72117e9ac7f0856a78eddd129ae92f169e8cc90f85528fe0ec87ad9",
   "display_name": "Python 3.8.10 64-bit ('algotrading': conda)"
  },
  "language_info": {
   "codemirror_mode": {
    "name": "ipython",
    "version": 3
   },
   "file_extension": ".py",
   "mimetype": "text/x-python",
   "name": "python",
   "nbconvert_exporter": "python",
   "pygments_lexer": "ipython3",
   "version": "3.8.10"
  }
 },
 "nbformat": 4,
 "nbformat_minor": 4
}