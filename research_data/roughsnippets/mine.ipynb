{
 "metadata": {
  "language_info": {
   "codemirror_mode": {
    "name": "ipython",
    "version": 3
   },
   "file_extension": ".py",
   "mimetype": "text/x-python",
   "name": "python",
   "nbconvert_exporter": "python",
   "pygments_lexer": "ipython3",
   "version": "3.8.10"
  },
  "orig_nbformat": 2,
  "kernelspec": {
   "name": "python3810jvsc74a57bd071ac64b6f72117e9ac7f0856a78eddd129ae92f169e8cc90f85528fe0ec87ad9",
   "display_name": "Python 3.8.10 64-bit ('algotrading': conda)"
  }
 },
 "nbformat": 4,
 "nbformat_minor": 2,
 "cells": [
  {
   "cell_type": "code",
   "execution_count": 1,
   "metadata": {},
   "outputs": [],
   "source": [
    "from cif import cif"
   ]
  },
  {
   "cell_type": "code",
   "execution_count": null,
   "metadata": {},
   "outputs": [],
   "source": [
    "data, subjects, measures = cif.createDataFrameFromOECD(countries = ['USA'], dsname = 'MEI_FIN', frequency = 'M')"
   ]
  },
  {
   "cell_type": "code",
   "execution_count": null,
   "metadata": {},
   "outputs": [],
   "source": [
    "cif.getOECDJSONStructure(dsname='MEI_FIN')"
   ]
  },
  {
   "cell_type": "code",
   "execution_count": null,
   "metadata": {},
   "outputs": [],
   "source": [
    "SUBJECT, LOCATION, FREQUENCY, TIME_PERIOD = cif.createDataFrameFromOECD(dsname = 'MEI_FIN', frequency = 'M')"
   ]
  },
  {
   "cell_type": "code",
   "execution_count": null,
   "metadata": {},
   "outputs": [],
   "source": [
    "import pandas as pd\n",
    "\n",
    "def get_from_oecd(sdmx_query):\n",
    "    return pd.read_csv(\n",
    "        f\"https://stats.oecd.org/SDMX-JSON/data/{sdmx_query}?contentType=csv\"\n",
    "    )\n",
    "\n",
    "print(get_from_oecd(\"MEI_BOP6\").head())"
   ]
  },
  {
   "cell_type": "code",
   "execution_count": 5,
   "metadata": {},
   "outputs": [
    {
     "output_type": "stream",
     "name": "stdout",
     "text": [
      "Requesting URL http://stats.oecd.org/SDMX-JSON/data/MEI/USA...Q/all\n",
      "Data downloaded from https://stats.oecd.org/SDMX-JSON/data/MEI/USA...Q/all?dimensionAtObservation=AllDimensions\n",
      "Requesting URL http://stats.oecd.org/SDMX-JSON/data/MEI/AUS...Q/all\n",
      "Data downloaded from https://stats.oecd.org/SDMX-JSON/data/MEI/AUS...Q/all?dimensionAtObservation=AllDimensions\n"
     ]
    }
   ],
   "source": [
    "data, subjects, measures = cif.createDataFrameFromOECD(countries = ['USA','AUS'], dsname = 'MEI', frequency = 'Q')"
   ]
  },
  {
   "cell_type": "code",
   "execution_count": 6,
   "metadata": {},
   "outputs": [
    {
     "output_type": "stream",
     "name": "stdout",
     "text": [
      "Requesting URL http://stats.oecd.org/SDMX-JSON/dataflow/MEI/all\n",
      "\n",
      "Structure: LOCATION, SUBJECT, MEASURE, FREQUENCY, TIME_PERIOD\n"
     ]
    }
   ],
   "source": [
    "cif.getOECDJSONStructure(dsname = 'MEI', showValues = [])"
   ]
  },
  {
   "cell_type": "code",
   "execution_count": 7,
   "metadata": {},
   "outputs": [
    {
     "output_type": "execute_result",
     "data": {
      "text/plain": [
       "country      USA                                                        \\\n",
       "subject B6BLPI01                            B6BLSE01                     \n",
       "measure     CXCU   CXCUSA     NCCU   NCCUSA     CXCU   CXCUSA     NCCU   \n",
       "time                                                                     \n",
       "1955-Q1      NaN      NaN      NaN      NaN      NaN      NaN      NaN   \n",
       "1955-Q2      NaN      NaN      NaN      NaN      NaN      NaN      NaN   \n",
       "1955-Q3      NaN      NaN      NaN      NaN      NaN      NaN      NaN   \n",
       "1955-Q4      NaN      NaN      NaN      NaN      NaN      NaN      NaN   \n",
       "1956-Q1      NaN      NaN      NaN      NaN      NaN      NaN      NaN   \n",
       "...          ...      ...      ...      ...      ...      ...      ...   \n",
       "2020-Q1  52895.0  52152.0  52895.0  52152.0  61737.0  64051.0  61737.0   \n",
       "2020-Q2  33325.0  33342.0  33325.0  33342.0  59715.0  60791.0  59715.0   \n",
       "2020-Q3  47972.0  48218.0  47972.0  48218.0  54187.0  56056.0  54187.0   \n",
       "2020-Q4  47382.0  47861.0  47382.0  47861.0  58232.0  52972.0  58232.0   \n",
       "2021-Q1      NaN      NaN      NaN      NaN      NaN      NaN      NaN   \n",
       "\n",
       "country                             ...        AUS                      \\\n",
       "subject          B6BLSI01           ...   XTIMVA01                       \n",
       "measure   NCCUSA     CXCU   CXCUSA  ...       GPSA       GYSA     NCML   \n",
       "time                                ...                                  \n",
       "1955-Q1      NaN      NaN      NaN  ...        NaN        NaN   0.4382   \n",
       "1955-Q2      NaN      NaN      NaN  ...        NaN        NaN   0.4463   \n",
       "1955-Q3      NaN      NaN      NaN  ...        NaN        NaN   0.4077   \n",
       "1955-Q4      NaN      NaN      NaN  ...        NaN        NaN   0.4011   \n",
       "1956-Q1      NaN      NaN      NaN  ...        NaN        NaN   0.4003   \n",
       "...          ...      ...      ...  ...        ...        ...      ...   \n",
       "2020-Q1  64051.0 -36864.0 -37083.0  ...  -8.040904 -12.515308  70.5880   \n",
       "2020-Q2  60791.0 -35507.0 -35903.0  ...  -2.853512 -13.672953  69.2180   \n",
       "2020-Q3  56056.0 -37718.0 -37737.0  ...   9.062219  -2.123296  73.3780   \n",
       "2020-Q4  52972.0 -36995.0 -36361.0  ...   9.391465   6.580944  80.4100   \n",
       "2021-Q1      NaN      NaN      NaN  ...  11.107071  28.773521  75.3340   \n",
       "\n",
       "country                                                                  \\\n",
       "subject                         XTNTVA01                                  \n",
       "measure     NCMLSA       STSA       CXML     CXMLSA     NCML     NCMLSA   \n",
       "time                                                                      \n",
       "1955-Q1   0.451025        NaN        NaN        NaN  -0.0095  -0.038924   \n",
       "1955-Q2   0.437783        NaN        NaN        NaN  -0.0525  -0.048451   \n",
       "1955-Q3   0.410262        NaN        NaN        NaN  -0.0711  -0.004583   \n",
       "1955-Q4   0.402987        NaN        NaN        NaN   0.0357  -0.010292   \n",
       "1956-Q1   0.414564        NaN        NaN        NaN  -0.0934  -0.122377   \n",
       "...            ...        ...        ...        ...      ...        ...   \n",
       "2020-Q1  73.066771  14.437905  13.740929  13.219239  20.8980  20.104584   \n",
       "2020-Q2  71.330455  15.232404  14.423416  12.807728  22.0060  19.540922   \n",
       "2020-Q3  71.323788  14.648640   8.405704   9.760626  11.7510  13.645154   \n",
       "2020-Q4  76.386279  15.049141  10.874165  11.988094  14.8930  16.418611   \n",
       "2021-Q1  80.210087        NaN  18.764784  17.679191  24.2770  22.872511   \n",
       "\n",
       "country            \n",
       "subject            \n",
       "measure      STSA  \n",
       "time               \n",
       "1955-Q1       NaN  \n",
       "1955-Q2       NaN  \n",
       "1955-Q3       NaN  \n",
       "1955-Q4       NaN  \n",
       "1956-Q1       NaN  \n",
       "...           ...  \n",
       "2020-Q1  3.972641  \n",
       "2020-Q2  4.172905  \n",
       "2020-Q3  2.802472  \n",
       "2020-Q4  3.234691  \n",
       "2021-Q1       NaN  \n",
       "\n",
       "[265 rows x 1727 columns]"
      ],
      "text/html": "<div>\n<style scoped>\n    .dataframe tbody tr th:only-of-type {\n        vertical-align: middle;\n    }\n\n    .dataframe tbody tr th {\n        vertical-align: top;\n    }\n\n    .dataframe thead tr th {\n        text-align: left;\n    }\n\n    .dataframe thead tr:last-of-type th {\n        text-align: right;\n    }\n</style>\n<table border=\"1\" class=\"dataframe\">\n  <thead>\n    <tr>\n      <th>country</th>\n      <th colspan=\"10\" halign=\"left\">USA</th>\n      <th>...</th>\n      <th colspan=\"10\" halign=\"left\">AUS</th>\n    </tr>\n    <tr>\n      <th>subject</th>\n      <th colspan=\"4\" halign=\"left\">B6BLPI01</th>\n      <th colspan=\"4\" halign=\"left\">B6BLSE01</th>\n      <th colspan=\"2\" halign=\"left\">B6BLSI01</th>\n      <th>...</th>\n      <th colspan=\"5\" halign=\"left\">XTIMVA01</th>\n      <th colspan=\"5\" halign=\"left\">XTNTVA01</th>\n    </tr>\n    <tr>\n      <th>measure</th>\n      <th>CXCU</th>\n      <th>CXCUSA</th>\n      <th>NCCU</th>\n      <th>NCCUSA</th>\n      <th>CXCU</th>\n      <th>CXCUSA</th>\n      <th>NCCU</th>\n      <th>NCCUSA</th>\n      <th>CXCU</th>\n      <th>CXCUSA</th>\n      <th>...</th>\n      <th>GPSA</th>\n      <th>GYSA</th>\n      <th>NCML</th>\n      <th>NCMLSA</th>\n      <th>STSA</th>\n      <th>CXML</th>\n      <th>CXMLSA</th>\n      <th>NCML</th>\n      <th>NCMLSA</th>\n      <th>STSA</th>\n    </tr>\n    <tr>\n      <th>time</th>\n      <th></th>\n      <th></th>\n      <th></th>\n      <th></th>\n      <th></th>\n      <th></th>\n      <th></th>\n      <th></th>\n      <th></th>\n      <th></th>\n      <th></th>\n      <th></th>\n      <th></th>\n      <th></th>\n      <th></th>\n      <th></th>\n      <th></th>\n      <th></th>\n      <th></th>\n      <th></th>\n      <th></th>\n    </tr>\n  </thead>\n  <tbody>\n    <tr>\n      <th>1955-Q1</th>\n      <td>NaN</td>\n      <td>NaN</td>\n      <td>NaN</td>\n      <td>NaN</td>\n      <td>NaN</td>\n      <td>NaN</td>\n      <td>NaN</td>\n      <td>NaN</td>\n      <td>NaN</td>\n      <td>NaN</td>\n      <td>...</td>\n      <td>NaN</td>\n      <td>NaN</td>\n      <td>0.4382</td>\n      <td>0.451025</td>\n      <td>NaN</td>\n      <td>NaN</td>\n      <td>NaN</td>\n      <td>-0.0095</td>\n      <td>-0.038924</td>\n      <td>NaN</td>\n    </tr>\n    <tr>\n      <th>1955-Q2</th>\n      <td>NaN</td>\n      <td>NaN</td>\n      <td>NaN</td>\n      <td>NaN</td>\n      <td>NaN</td>\n      <td>NaN</td>\n      <td>NaN</td>\n      <td>NaN</td>\n      <td>NaN</td>\n      <td>NaN</td>\n      <td>...</td>\n      <td>NaN</td>\n      <td>NaN</td>\n      <td>0.4463</td>\n      <td>0.437783</td>\n      <td>NaN</td>\n      <td>NaN</td>\n      <td>NaN</td>\n      <td>-0.0525</td>\n      <td>-0.048451</td>\n      <td>NaN</td>\n    </tr>\n    <tr>\n      <th>1955-Q3</th>\n      <td>NaN</td>\n      <td>NaN</td>\n      <td>NaN</td>\n      <td>NaN</td>\n      <td>NaN</td>\n      <td>NaN</td>\n      <td>NaN</td>\n      <td>NaN</td>\n      <td>NaN</td>\n      <td>NaN</td>\n      <td>...</td>\n      <td>NaN</td>\n      <td>NaN</td>\n      <td>0.4077</td>\n      <td>0.410262</td>\n      <td>NaN</td>\n      <td>NaN</td>\n      <td>NaN</td>\n      <td>-0.0711</td>\n      <td>-0.004583</td>\n      <td>NaN</td>\n    </tr>\n    <tr>\n      <th>1955-Q4</th>\n      <td>NaN</td>\n      <td>NaN</td>\n      <td>NaN</td>\n      <td>NaN</td>\n      <td>NaN</td>\n      <td>NaN</td>\n      <td>NaN</td>\n      <td>NaN</td>\n      <td>NaN</td>\n      <td>NaN</td>\n      <td>...</td>\n      <td>NaN</td>\n      <td>NaN</td>\n      <td>0.4011</td>\n      <td>0.402987</td>\n      <td>NaN</td>\n      <td>NaN</td>\n      <td>NaN</td>\n      <td>0.0357</td>\n      <td>-0.010292</td>\n      <td>NaN</td>\n    </tr>\n    <tr>\n      <th>1956-Q1</th>\n      <td>NaN</td>\n      <td>NaN</td>\n      <td>NaN</td>\n      <td>NaN</td>\n      <td>NaN</td>\n      <td>NaN</td>\n      <td>NaN</td>\n      <td>NaN</td>\n      <td>NaN</td>\n      <td>NaN</td>\n      <td>...</td>\n      <td>NaN</td>\n      <td>NaN</td>\n      <td>0.4003</td>\n      <td>0.414564</td>\n      <td>NaN</td>\n      <td>NaN</td>\n      <td>NaN</td>\n      <td>-0.0934</td>\n      <td>-0.122377</td>\n      <td>NaN</td>\n    </tr>\n    <tr>\n      <th>...</th>\n      <td>...</td>\n      <td>...</td>\n      <td>...</td>\n      <td>...</td>\n      <td>...</td>\n      <td>...</td>\n      <td>...</td>\n      <td>...</td>\n      <td>...</td>\n      <td>...</td>\n      <td>...</td>\n      <td>...</td>\n      <td>...</td>\n      <td>...</td>\n      <td>...</td>\n      <td>...</td>\n      <td>...</td>\n      <td>...</td>\n      <td>...</td>\n      <td>...</td>\n      <td>...</td>\n    </tr>\n    <tr>\n      <th>2020-Q1</th>\n      <td>52895.0</td>\n      <td>52152.0</td>\n      <td>52895.0</td>\n      <td>52152.0</td>\n      <td>61737.0</td>\n      <td>64051.0</td>\n      <td>61737.0</td>\n      <td>64051.0</td>\n      <td>-36864.0</td>\n      <td>-37083.0</td>\n      <td>...</td>\n      <td>-8.040904</td>\n      <td>-12.515308</td>\n      <td>70.5880</td>\n      <td>73.066771</td>\n      <td>14.437905</td>\n      <td>13.740929</td>\n      <td>13.219239</td>\n      <td>20.8980</td>\n      <td>20.104584</td>\n      <td>3.972641</td>\n    </tr>\n    <tr>\n      <th>2020-Q2</th>\n      <td>33325.0</td>\n      <td>33342.0</td>\n      <td>33325.0</td>\n      <td>33342.0</td>\n      <td>59715.0</td>\n      <td>60791.0</td>\n      <td>59715.0</td>\n      <td>60791.0</td>\n      <td>-35507.0</td>\n      <td>-35903.0</td>\n      <td>...</td>\n      <td>-2.853512</td>\n      <td>-13.672953</td>\n      <td>69.2180</td>\n      <td>71.330455</td>\n      <td>15.232404</td>\n      <td>14.423416</td>\n      <td>12.807728</td>\n      <td>22.0060</td>\n      <td>19.540922</td>\n      <td>4.172905</td>\n    </tr>\n    <tr>\n      <th>2020-Q3</th>\n      <td>47972.0</td>\n      <td>48218.0</td>\n      <td>47972.0</td>\n      <td>48218.0</td>\n      <td>54187.0</td>\n      <td>56056.0</td>\n      <td>54187.0</td>\n      <td>56056.0</td>\n      <td>-37718.0</td>\n      <td>-37737.0</td>\n      <td>...</td>\n      <td>9.062219</td>\n      <td>-2.123296</td>\n      <td>73.3780</td>\n      <td>71.323788</td>\n      <td>14.648640</td>\n      <td>8.405704</td>\n      <td>9.760626</td>\n      <td>11.7510</td>\n      <td>13.645154</td>\n      <td>2.802472</td>\n    </tr>\n    <tr>\n      <th>2020-Q4</th>\n      <td>47382.0</td>\n      <td>47861.0</td>\n      <td>47382.0</td>\n      <td>47861.0</td>\n      <td>58232.0</td>\n      <td>52972.0</td>\n      <td>58232.0</td>\n      <td>52972.0</td>\n      <td>-36995.0</td>\n      <td>-36361.0</td>\n      <td>...</td>\n      <td>9.391465</td>\n      <td>6.580944</td>\n      <td>80.4100</td>\n      <td>76.386279</td>\n      <td>15.049141</td>\n      <td>10.874165</td>\n      <td>11.988094</td>\n      <td>14.8930</td>\n      <td>16.418611</td>\n      <td>3.234691</td>\n    </tr>\n    <tr>\n      <th>2021-Q1</th>\n      <td>NaN</td>\n      <td>NaN</td>\n      <td>NaN</td>\n      <td>NaN</td>\n      <td>NaN</td>\n      <td>NaN</td>\n      <td>NaN</td>\n      <td>NaN</td>\n      <td>NaN</td>\n      <td>NaN</td>\n      <td>...</td>\n      <td>11.107071</td>\n      <td>28.773521</td>\n      <td>75.3340</td>\n      <td>80.210087</td>\n      <td>NaN</td>\n      <td>18.764784</td>\n      <td>17.679191</td>\n      <td>24.2770</td>\n      <td>22.872511</td>\n      <td>NaN</td>\n    </tr>\n  </tbody>\n</table>\n<p>265 rows × 1727 columns</p>\n</div>"
     },
     "metadata": {},
     "execution_count": 7
    }
   ],
   "source": [
    "data"
   ]
  },
  {
   "cell_type": "code",
   "execution_count": 8,
   "metadata": {},
   "outputs": [
    {
     "output_type": "execute_result",
     "data": {
      "text/plain": [
       "           id                                               name\n",
       "0    LCEAPR01  Labour Compensation > Earnings > Private secto...\n",
       "1    XTNTVA01  International Trade > Net trade > Value (goods...\n",
       "2    CCRETT02  Currency Conversions > Real effective exchange...\n",
       "3    XTIMVA01  International Trade > Imports > Value (goods) ...\n",
       "4    PRMNTO01  Production > Manufacturing > Total manufacturi...\n",
       "..        ...                                                ...\n",
       "342  P6OIOA03  International investment position BPM6 > Other...\n",
       "345  P6OILB03  International investment position BPM6 > Other...\n",
       "346  P6ADMP03  International investment position BPM6 > Adjus...\n",
       "347  P6ADOV02  International investment position BPM6 > Adjus...\n",
       "352  P6ADTT01  International investment position BPM6 > Adjus...\n",
       "\n",
       "[411 rows x 2 columns]"
      ],
      "text/html": "<div>\n<style scoped>\n    .dataframe tbody tr th:only-of-type {\n        vertical-align: middle;\n    }\n\n    .dataframe tbody tr th {\n        vertical-align: top;\n    }\n\n    .dataframe thead th {\n        text-align: right;\n    }\n</style>\n<table border=\"1\" class=\"dataframe\">\n  <thead>\n    <tr style=\"text-align: right;\">\n      <th></th>\n      <th>id</th>\n      <th>name</th>\n    </tr>\n  </thead>\n  <tbody>\n    <tr>\n      <th>0</th>\n      <td>LCEAPR01</td>\n      <td>Labour Compensation &gt; Earnings &gt; Private secto...</td>\n    </tr>\n    <tr>\n      <th>1</th>\n      <td>XTNTVA01</td>\n      <td>International Trade &gt; Net trade &gt; Value (goods...</td>\n    </tr>\n    <tr>\n      <th>2</th>\n      <td>CCRETT02</td>\n      <td>Currency Conversions &gt; Real effective exchange...</td>\n    </tr>\n    <tr>\n      <th>3</th>\n      <td>XTIMVA01</td>\n      <td>International Trade &gt; Imports &gt; Value (goods) ...</td>\n    </tr>\n    <tr>\n      <th>4</th>\n      <td>PRMNTO01</td>\n      <td>Production &gt; Manufacturing &gt; Total manufacturi...</td>\n    </tr>\n    <tr>\n      <th>...</th>\n      <td>...</td>\n      <td>...</td>\n    </tr>\n    <tr>\n      <th>342</th>\n      <td>P6OIOA03</td>\n      <td>International investment position BPM6 &gt; Other...</td>\n    </tr>\n    <tr>\n      <th>345</th>\n      <td>P6OILB03</td>\n      <td>International investment position BPM6 &gt; Other...</td>\n    </tr>\n    <tr>\n      <th>346</th>\n      <td>P6ADMP03</td>\n      <td>International investment position BPM6 &gt; Adjus...</td>\n    </tr>\n    <tr>\n      <th>347</th>\n      <td>P6ADOV02</td>\n      <td>International investment position BPM6 &gt; Adjus...</td>\n    </tr>\n    <tr>\n      <th>352</th>\n      <td>P6ADTT01</td>\n      <td>International investment position BPM6 &gt; Adjus...</td>\n    </tr>\n  </tbody>\n</table>\n<p>411 rows × 2 columns</p>\n</div>"
     },
     "metadata": {},
     "execution_count": 8
    }
   ],
   "source": [
    "subjects"
   ]
  },
  {
   "cell_type": "code",
   "execution_count": 9,
   "metadata": {},
   "outputs": [
    {
     "output_type": "execute_result",
     "data": {
      "text/plain": [
       "        id                                               name\n",
       "0     STSA             Level, rate or national currency, s.a.\n",
       "1   IXOBSA                               Index 2015=100, s.a.\n",
       "2     NCML                   National currency, monthly level\n",
       "3   NCMLSA             National currency, monthly level, s.a.\n",
       "4   CXMLSA                    US Dollars, monthly level, s.a.\n",
       "5     IXOB                                     Index 2015=100\n",
       "6     GPSA                  Growth rate previous period, s.a.\n",
       "7     GYSA        Growth rate same period previous year, s.a.\n",
       "8       GY              Growth rate same period previous year\n",
       "9       ST                   Level, rate or national currency\n",
       "10      ML                                      Monthly level\n",
       "11    MLSA                                Monthly level, s.a.\n",
       "12      GP                        Growth rate previous period\n",
       "13    CXML                          US Dollars, monthly level\n",
       "14  CXCUSA   US Dollars, sum over component sub-periods, s.a.\n",
       "15    CXCU         US Dollars, sum over component sub-periods\n",
       "16    NCCU  National currency, sum over component sub-periods\n",
       "17  NCCUSA  National currency, sum over component sub-peri...\n",
       "18    IXNB                                  Index source base\n",
       "9       QL                                    Quarterly level\n",
       "10    QLSA                              Quarterly level, s.a."
      ],
      "text/html": "<div>\n<style scoped>\n    .dataframe tbody tr th:only-of-type {\n        vertical-align: middle;\n    }\n\n    .dataframe tbody tr th {\n        vertical-align: top;\n    }\n\n    .dataframe thead th {\n        text-align: right;\n    }\n</style>\n<table border=\"1\" class=\"dataframe\">\n  <thead>\n    <tr style=\"text-align: right;\">\n      <th></th>\n      <th>id</th>\n      <th>name</th>\n    </tr>\n  </thead>\n  <tbody>\n    <tr>\n      <th>0</th>\n      <td>STSA</td>\n      <td>Level, rate or national currency, s.a.</td>\n    </tr>\n    <tr>\n      <th>1</th>\n      <td>IXOBSA</td>\n      <td>Index 2015=100, s.a.</td>\n    </tr>\n    <tr>\n      <th>2</th>\n      <td>NCML</td>\n      <td>National currency, monthly level</td>\n    </tr>\n    <tr>\n      <th>3</th>\n      <td>NCMLSA</td>\n      <td>National currency, monthly level, s.a.</td>\n    </tr>\n    <tr>\n      <th>4</th>\n      <td>CXMLSA</td>\n      <td>US Dollars, monthly level, s.a.</td>\n    </tr>\n    <tr>\n      <th>5</th>\n      <td>IXOB</td>\n      <td>Index 2015=100</td>\n    </tr>\n    <tr>\n      <th>6</th>\n      <td>GPSA</td>\n      <td>Growth rate previous period, s.a.</td>\n    </tr>\n    <tr>\n      <th>7</th>\n      <td>GYSA</td>\n      <td>Growth rate same period previous year, s.a.</td>\n    </tr>\n    <tr>\n      <th>8</th>\n      <td>GY</td>\n      <td>Growth rate same period previous year</td>\n    </tr>\n    <tr>\n      <th>9</th>\n      <td>ST</td>\n      <td>Level, rate or national currency</td>\n    </tr>\n    <tr>\n      <th>10</th>\n      <td>ML</td>\n      <td>Monthly level</td>\n    </tr>\n    <tr>\n      <th>11</th>\n      <td>MLSA</td>\n      <td>Monthly level, s.a.</td>\n    </tr>\n    <tr>\n      <th>12</th>\n      <td>GP</td>\n      <td>Growth rate previous period</td>\n    </tr>\n    <tr>\n      <th>13</th>\n      <td>CXML</td>\n      <td>US Dollars, monthly level</td>\n    </tr>\n    <tr>\n      <th>14</th>\n      <td>CXCUSA</td>\n      <td>US Dollars, sum over component sub-periods, s.a.</td>\n    </tr>\n    <tr>\n      <th>15</th>\n      <td>CXCU</td>\n      <td>US Dollars, sum over component sub-periods</td>\n    </tr>\n    <tr>\n      <th>16</th>\n      <td>NCCU</td>\n      <td>National currency, sum over component sub-periods</td>\n    </tr>\n    <tr>\n      <th>17</th>\n      <td>NCCUSA</td>\n      <td>National currency, sum over component sub-peri...</td>\n    </tr>\n    <tr>\n      <th>18</th>\n      <td>IXNB</td>\n      <td>Index source base</td>\n    </tr>\n    <tr>\n      <th>9</th>\n      <td>QL</td>\n      <td>Quarterly level</td>\n    </tr>\n    <tr>\n      <th>10</th>\n      <td>QLSA</td>\n      <td>Quarterly level, s.a.</td>\n    </tr>\n  </tbody>\n</table>\n</div>"
     },
     "metadata": {},
     "execution_count": 9
    }
   ],
   "source": [
    "measures"
   ]
  },
  {
   "cell_type": "code",
   "execution_count": 10,
   "metadata": {},
   "outputs": [
    {
     "output_type": "execute_result",
     "data": {
      "text/plain": [
       "Index(['1955-Q1', '1955-Q2', '1955-Q3', '1955-Q4', '1956-Q1', '1956-Q2',\n",
       "       '1956-Q3', '1956-Q4', '1957-Q1', '1957-Q2',\n",
       "       ...\n",
       "       '2018-Q4', '2019-Q1', '2019-Q2', '2019-Q3', '2019-Q4', '2020-Q1',\n",
       "       '2020-Q2', '2020-Q3', '2020-Q4', '2021-Q1'],\n",
       "      dtype='object', name='time', length=265)"
      ]
     },
     "metadata": {},
     "execution_count": 10
    }
   ],
   "source": [
    "data.index"
   ]
  },
  {
   "cell_type": "code",
   "execution_count": 15,
   "metadata": {},
   "outputs": [
    {
     "output_type": "execute_result",
     "data": {
      "text/plain": [
       "('USA', 'B6BLPI01', 'NCCU')"
      ]
     },
     "metadata": {},
     "execution_count": 15
    }
   ],
   "source": [
    "data.loc[\"2020-Q4\"].index[2]"
   ]
  },
  {
   "cell_type": "code",
   "execution_count": 17,
   "metadata": {},
   "outputs": [
    {
     "output_type": "execute_result",
     "data": {
      "text/plain": [
       "      id                                        name\n",
       "15  CXCU  US Dollars, sum over component sub-periods"
      ],
      "text/html": "<div>\n<style scoped>\n    .dataframe tbody tr th:only-of-type {\n        vertical-align: middle;\n    }\n\n    .dataframe tbody tr th {\n        vertical-align: top;\n    }\n\n    .dataframe thead th {\n        text-align: right;\n    }\n</style>\n<table border=\"1\" class=\"dataframe\">\n  <thead>\n    <tr style=\"text-align: right;\">\n      <th></th>\n      <th>id</th>\n      <th>name</th>\n    </tr>\n  </thead>\n  <tbody>\n    <tr>\n      <th>15</th>\n      <td>CXCU</td>\n      <td>US Dollars, sum over component sub-periods</td>\n    </tr>\n  </tbody>\n</table>\n</div>"
     },
     "metadata": {},
     "execution_count": 17
    }
   ],
   "source": [
    "measures[measures[\"id\"]==\"CXCU\"]"
   ]
  },
  {
   "cell_type": "code",
   "execution_count": 19,
   "metadata": {},
   "outputs": [
    {
     "output_type": "execute_result",
     "data": {
      "text/plain": [
       "           id                                               name\n",
       "261  B6BLSE01  Balance of payments BPM6 > Current account Bal..."
      ],
      "text/html": "<div>\n<style scoped>\n    .dataframe tbody tr th:only-of-type {\n        vertical-align: middle;\n    }\n\n    .dataframe tbody tr th {\n        vertical-align: top;\n    }\n\n    .dataframe thead th {\n        text-align: right;\n    }\n</style>\n<table border=\"1\" class=\"dataframe\">\n  <thead>\n    <tr style=\"text-align: right;\">\n      <th></th>\n      <th>id</th>\n      <th>name</th>\n    </tr>\n  </thead>\n  <tbody>\n    <tr>\n      <th>261</th>\n      <td>B6BLSE01</td>\n      <td>Balance of payments BPM6 &gt; Current account Bal...</td>\n    </tr>\n  </tbody>\n</table>\n</div>"
     },
     "metadata": {},
     "execution_count": 19
    }
   ],
   "source": [
    "subjects[subjects[\"id\"]==\"B6BLSE01\"]"
   ]
  },
  {
   "cell_type": "code",
   "execution_count": 18,
   "metadata": {},
   "outputs": [
    {
     "output_type": "execute_result",
     "data": {
      "text/plain": [
       "MultiIndex([('USA', 'B6BLPI01',   'CXCU'),\n",
       "            ('USA', 'B6BLPI01', 'CXCUSA'),\n",
       "            ('USA', 'B6BLPI01',   'NCCU'),\n",
       "            ('USA', 'B6BLPI01', 'NCCUSA'),\n",
       "            ('USA', 'B6BLSE01',   'CXCU'),\n",
       "            ('USA', 'B6BLSE01', 'CXCUSA'),\n",
       "            ('USA', 'B6BLSE01',   'NCCU'),\n",
       "            ('USA', 'B6BLSE01', 'NCCUSA'),\n",
       "            ('USA', 'B6BLSI01',   'CXCU'),\n",
       "            ('USA', 'B6BLSI01', 'CXCUSA'),\n",
       "            ...\n",
       "            ('AUS', 'XTIMVA01',   'GPSA'),\n",
       "            ('AUS', 'XTIMVA01',   'GYSA'),\n",
       "            ('AUS', 'XTIMVA01',   'NCML'),\n",
       "            ('AUS', 'XTIMVA01', 'NCMLSA'),\n",
       "            ('AUS', 'XTIMVA01',   'STSA'),\n",
       "            ('AUS', 'XTNTVA01',   'CXML'),\n",
       "            ('AUS', 'XTNTVA01', 'CXMLSA'),\n",
       "            ('AUS', 'XTNTVA01',   'NCML'),\n",
       "            ('AUS', 'XTNTVA01', 'NCMLSA'),\n",
       "            ('AUS', 'XTNTVA01',   'STSA')],\n",
       "           names=['country', 'subject', 'measure'], length=1727)"
      ]
     },
     "metadata": {},
     "execution_count": 18
    }
   ],
   "source": [
    "data.columns"
   ]
  },
  {
   "cell_type": "code",
   "execution_count": 21,
   "metadata": {},
   "outputs": [
    {
     "output_type": "execute_result",
     "data": {
      "text/plain": [
       "0    Labour Compensation > Earnings > Private secto...\n",
       "0    Labour Compensation > Earnings > All activitie...\n",
       "Name: name, dtype: object"
      ]
     },
     "metadata": {},
     "execution_count": 21
    }
   ],
   "source": [
    "subjects.name[0]"
   ]
  },
  {
   "cell_type": "code",
   "execution_count": null,
   "metadata": {},
   "outputs": [],
   "source": [
    "df[['First','Last']] = df.Name.str.split(\" \",expand=True,)"
   ]
  },
  {
   "cell_type": "code",
   "execution_count": 22,
   "metadata": {},
   "outputs": [
    {
     "output_type": "execute_result",
     "data": {
      "text/plain": [
       "                      0           1                 2        3\n",
       "0  Labour Compensation    Earnings    Private sector    Hourly\n",
       "0  Labour Compensation    Earnings    All activities    Weekly"
      ],
      "text/html": "<div>\n<style scoped>\n    .dataframe tbody tr th:only-of-type {\n        vertical-align: middle;\n    }\n\n    .dataframe tbody tr th {\n        vertical-align: top;\n    }\n\n    .dataframe thead th {\n        text-align: right;\n    }\n</style>\n<table border=\"1\" class=\"dataframe\">\n  <thead>\n    <tr style=\"text-align: right;\">\n      <th></th>\n      <th>0</th>\n      <th>1</th>\n      <th>2</th>\n      <th>3</th>\n    </tr>\n  </thead>\n  <tbody>\n    <tr>\n      <th>0</th>\n      <td>Labour Compensation</td>\n      <td>Earnings</td>\n      <td>Private sector</td>\n      <td>Hourly</td>\n    </tr>\n    <tr>\n      <th>0</th>\n      <td>Labour Compensation</td>\n      <td>Earnings</td>\n      <td>All activities</td>\n      <td>Weekly</td>\n    </tr>\n  </tbody>\n</table>\n</div>"
     },
     "metadata": {},
     "execution_count": 22
    }
   ],
   "source": [
    "subjects.name[0].str.split(\">\", expand= True)"
   ]
  },
  {
   "cell_type": "code",
   "execution_count": null,
   "metadata": {},
   "outputs": [],
   "source": []
  }
 ]
}